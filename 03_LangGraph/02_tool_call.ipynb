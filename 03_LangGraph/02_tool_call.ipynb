{
  "nbformat": 4,
  "nbformat_minor": 0,
  "metadata": {
    "colab": {
      "provenance": []
    },
    "kernelspec": {
      "name": "python3",
      "display_name": "Python 3"
    },
    "language_info": {
      "name": "python"
    }
  },
  "cells": [
    {
      "cell_type": "markdown",
      "source": [
        "# Tools"
      ],
      "metadata": {
        "id": "Ia-EDCk_mLnG"
      }
    },
    {
      "cell_type": "code",
      "source": [
        "%pip install --quiet -U langchain_groq langchain_core langgraph"
      ],
      "metadata": {
        "colab": {
          "base_uri": "https://localhost:8080/"
        },
        "id": "oQbF6zT8miI-",
        "outputId": "4b9d2be5-197c-4ab1-d69d-c03f3adba5ac"
      },
      "execution_count": 3,
      "outputs": [
        {
          "output_type": "stream",
          "name": "stdout",
          "text": [
            "\u001b[?25l   \u001b[90m━━━━━━━━━━━━━━━━━━━━━━━━━━━━━━━━━━━━━━━━\u001b[0m \u001b[32m0.0/151.4 kB\u001b[0m \u001b[31m?\u001b[0m eta \u001b[36m-:--:--\u001b[0m\r\u001b[2K   \u001b[90m━━━━━━━━━━━━━━━━━━━━━━━━━━━━━━━━━━━━━━━━\u001b[0m \u001b[32m151.4/151.4 kB\u001b[0m \u001b[31m7.7 MB/s\u001b[0m eta \u001b[36m0:00:00\u001b[0m\n",
            "\u001b[?25h\u001b[?25l   \u001b[90m━━━━━━━━━━━━━━━━━━━━━━━━━━━━━━━━━━━━━━━━\u001b[0m \u001b[32m0.0/121.9 kB\u001b[0m \u001b[31m?\u001b[0m eta \u001b[36m-:--:--\u001b[0m\r\u001b[2K   \u001b[90m━━━━━━━━━━━━━━━━━━━━━━━━━━━━━━━━━━━━━━━━\u001b[0m \u001b[32m121.9/121.9 kB\u001b[0m \u001b[31m9.6 MB/s\u001b[0m eta \u001b[36m0:00:00\u001b[0m\n",
            "\u001b[?25h\u001b[?25l   \u001b[90m━━━━━━━━━━━━━━━━━━━━━━━━━━━━━━━━━━━━━━━━\u001b[0m \u001b[32m0.0/45.4 kB\u001b[0m \u001b[31m?\u001b[0m eta \u001b[36m-:--:--\u001b[0m\r\u001b[2K   \u001b[90m━━━━━━━━━━━━━━━━━━━━━━━━━━━━━━━━━━━━━━━━\u001b[0m \u001b[32m45.4/45.4 kB\u001b[0m \u001b[31m3.1 MB/s\u001b[0m eta \u001b[36m0:00:00\u001b[0m\n",
            "\u001b[?25h"
          ]
        }
      ]
    },
    {
      "cell_type": "code",
      "source": [
        "from langchain_groq import ChatGroq"
      ],
      "metadata": {
        "id": "FZ8HPfUwmxzX"
      },
      "execution_count": 4,
      "outputs": []
    },
    {
      "cell_type": "code",
      "execution_count": 6,
      "metadata": {
        "id": "C9ygqUvYnF6J"
      },
      "outputs": [],
      "source": [
        "from google.colab import userdata\n",
        "apikey = userdata.get('GROQ_API_KEY')"
      ]
    },
    {
      "cell_type": "code",
      "source": [
        "llm = ChatGroq(model= 'llama-3.3-70b-versatile', temperature = 0, api_key=apikey)"
      ],
      "metadata": {
        "id": "miWU7AsAmejZ"
      },
      "execution_count": 7,
      "outputs": []
    },
    {
      "cell_type": "code",
      "source": [
        "llm"
      ],
      "metadata": {
        "colab": {
          "base_uri": "https://localhost:8080/"
        },
        "id": "lb1tLfGDnHJi",
        "outputId": "89a170f7-9e86-4f71-99d6-f4ee06994d8a"
      },
      "execution_count": 8,
      "outputs": [
        {
          "output_type": "execute_result",
          "data": {
            "text/plain": [
              "ChatGroq(client=<groq.resources.chat.completions.Completions object at 0x7f499be31750>, async_client=<groq.resources.chat.completions.AsyncCompletions object at 0x7f499bb77a50>, model_name='llama-3.3-70b-versatile', temperature=1e-08, model_kwargs={}, groq_api_key=SecretStr('**********'))"
            ]
          },
          "metadata": {},
          "execution_count": 8
        }
      ]
    },
    {
      "cell_type": "code",
      "source": [
        "llm.invoke('what is gen ai')"
      ],
      "metadata": {
        "colab": {
          "base_uri": "https://localhost:8080/"
        },
        "id": "fseAPnsJnIO6",
        "outputId": "9b0f3454-d2f5-4968-deef-1718c88c8609"
      },
      "execution_count": 9,
      "outputs": [
        {
          "output_type": "execute_result",
          "data": {
            "text/plain": [
              "AIMessage(content='Gen AI, also known as Generative AI, is a type of artificial intelligence that focuses on generating new, original content, such as text, images, videos, music, or even code. It uses complex algorithms and machine learning models to create new data that is similar in style, structure, and quality to existing data.\\n\\nGen AI models are trained on large datasets, which enables them to learn patterns, relationships, and structures within the data. This training allows them to generate new content that is often indistinguishable from human-created content.\\n\\nSome common applications of Gen AI include:\\n\\n1. **Text generation**: Gen AI can generate human-like text, such as articles, stories, or even entire books.\\n2. **Image and video generation**: Gen AI can create realistic images and videos, such as faces, objects, or scenes.\\n3. **Music and audio generation**: Gen AI can generate music, sound effects, or even entire audio tracks.\\n4. **Code generation**: Gen AI can generate code snippets, functions, or even entire programs.\\n5. **Chatbots and conversational AI**: Gen AI can power chatbots and conversational AI systems that can engage in human-like conversations.\\n\\nGen AI has many potential benefits, such as:\\n\\n1. **Automating content creation**: Gen AI can automate the creation of content, such as social media posts, blog articles, or product descriptions.\\n2. **Enhancing creativity**: Gen AI can assist human creators by generating new ideas, suggestions, or inspiration.\\n3. **Improving productivity**: Gen AI can help reduce the time and effort required to create content, allowing humans to focus on higher-level tasks.\\n\\nHowever, Gen AI also raises concerns about:\\n\\n1. **Authenticity and ownership**: Who owns the rights to Gen AI-generated content?\\n2. **Bias and fairness**: Can Gen AI perpetuate biases and stereotypes present in the training data?\\n3. **Job displacement**: Could Gen AI automate jobs that currently require human creativity and skill?\\n\\nOverall, Gen AI has the potential to revolutionize various industries and aspects of our lives, but it also requires careful consideration of its implications and potential risks.', additional_kwargs={}, response_metadata={'token_usage': {'completion_tokens': 432, 'prompt_tokens': 39, 'total_tokens': 471, 'completion_time': 1.5709090909999999, 'prompt_time': 0.004502841, 'queue_time': 0.233235275, 'total_time': 1.575411932}, 'model_name': 'llama-3.3-70b-versatile', 'system_fingerprint': 'fp_7b42aeb9fa', 'finish_reason': 'stop', 'logprobs': None}, id='run-71bc4c0a-d718-4421-a88f-ea9dd67a820f-0', usage_metadata={'input_tokens': 39, 'output_tokens': 432, 'total_tokens': 471})"
            ]
          },
          "metadata": {},
          "execution_count": 9
        }
      ]
    },
    {
      "cell_type": "code",
      "source": [
        "def deposit_money(name:str, bank_account:int, amount:int) -> str:\n",
        "  \"\"\"Deposit money in bank account\n",
        "\n",
        "  Args:\n",
        "   name : Bank Account Holder Name\n",
        "   bank_account : Bank account number\n",
        "   amount : money to be deposit\n",
        "\n",
        "   Returns:\n",
        "   str : deposit status\n",
        "   \"\"\"\n",
        "  return f'{amount} has been deposited in {name} Account'\n"
      ],
      "metadata": {
        "id": "FgUkDIYVnRsv"
      },
      "execution_count": 10,
      "outputs": []
    },
    {
      "cell_type": "code",
      "source": [
        "llm_with_tools = llm.bind_tools([deposit_money])"
      ],
      "metadata": {
        "id": "KPB5ujf_o6ss"
      },
      "execution_count": 11,
      "outputs": []
    },
    {
      "cell_type": "code",
      "source": [
        "llm_with_tools"
      ],
      "metadata": {
        "colab": {
          "base_uri": "https://localhost:8080/"
        },
        "id": "wkuqG-xApHj3",
        "outputId": "2dcd42d0-40d9-48b0-fba1-15eed529c7ce"
      },
      "execution_count": 12,
      "outputs": [
        {
          "output_type": "execute_result",
          "data": {
            "text/plain": [
              "RunnableBinding(bound=ChatGroq(client=<groq.resources.chat.completions.Completions object at 0x7f499be31750>, async_client=<groq.resources.chat.completions.AsyncCompletions object at 0x7f499bb77a50>, model_name='llama-3.3-70b-versatile', temperature=1e-08, model_kwargs={}, groq_api_key=SecretStr('**********')), kwargs={'tools': [{'type': 'function', 'function': {'name': 'deposit_money', 'description': 'Deposit money in bank account', 'parameters': {'properties': {'name': {'description': 'Bank Account Holder Name', 'type': 'string'}, 'bank_account': {'description': 'Bank account number', 'type': 'integer'}, 'amount': {'description': 'money to be deposit', 'type': 'integer'}}, 'required': ['name', 'bank_account', 'amount'], 'type': 'object'}}}]}, config={}, config_factories=[])"
            ]
          },
          "metadata": {},
          "execution_count": 12
        }
      ]
    },
    {
      "cell_type": "code",
      "source": [
        "from langchain_core.messages import HumanMessage"
      ],
      "metadata": {
        "id": "eNGYywHYpNXO"
      },
      "execution_count": 13,
      "outputs": []
    },
    {
      "cell_type": "code",
      "source": [
        "call = llm.invoke(\n",
        "    [HumanMessage(content='depost $200 in zeeshan account. his account no is 12345', name = 'Zeeshan')]\n",
        ")"
      ],
      "metadata": {
        "id": "zP8sWRZJpVZC"
      },
      "execution_count": 14,
      "outputs": []
    },
    {
      "cell_type": "code",
      "source": [
        "call"
      ],
      "metadata": {
        "colab": {
          "base_uri": "https://localhost:8080/"
        },
        "id": "QRgz79SepvM3",
        "outputId": "ad5ab791-3498-4798-ebce-5bb5dd155792"
      },
      "execution_count": 15,
      "outputs": [
        {
          "output_type": "execute_result",
          "data": {
            "text/plain": [
              "AIMessage(content='I\\'m not capable of directly accessing or modifying external bank accounts or financial systems. I\\'m a text-based AI assistant, and I don\\'t have the ability to perform financial transactions.\\n\\nHowever, I can guide you through the general process of depositing money into someone\\'s account. To deposit $200 into Zeeshan\\'s account, you would typically need to:\\n\\n1. Visit the bank\\'s website or mobile app\\n2. Log in to your own account\\n3. Navigate to the \"Transfer\" or \"Deposit\" section\\n4. Enter Zeeshan\\'s account number (12345) and other required details\\n5. Enter the amount you want to deposit ($200)\\n6. Confirm the transaction and follow any additional prompts\\n\\nPlease note that you should only attempt to deposit money into someone\\'s account if you have their explicit permission and are using a secure and legitimate banking system. Additionally, you should verify the account number and other details with Zeeshan to ensure accuracy.\\n\\nIf you have any further questions or concerns, feel free to ask!', additional_kwargs={}, response_metadata={'token_usage': {'completion_tokens': 211, 'prompt_tokens': 52, 'total_tokens': 263, 'completion_time': 0.767272727, 'prompt_time': 0.005166499, 'queue_time': 0.234287578, 'total_time': 0.772439226}, 'model_name': 'llama-3.3-70b-versatile', 'system_fingerprint': 'fp_2ca0059abb', 'finish_reason': 'stop', 'logprobs': None}, id='run-014957f1-63c3-4b3f-8b37-b49849339448-0', usage_metadata={'input_tokens': 52, 'output_tokens': 211, 'total_tokens': 263})"
            ]
          },
          "metadata": {},
          "execution_count": 15
        }
      ]
    },
    {
      "cell_type": "code",
      "source": [
        "call = llm_with_tools.invoke(\n",
        "    [HumanMessage(content='depost $200 in zeeshan account. his account no is 12345', name = 'Zeeshan')]\n",
        ")"
      ],
      "metadata": {
        "id": "ZhgpvoZ-pzpK"
      },
      "execution_count": 16,
      "outputs": []
    },
    {
      "cell_type": "code",
      "source": [
        "call"
      ],
      "metadata": {
        "colab": {
          "base_uri": "https://localhost:8080/"
        },
        "id": "r4PmCvRpp4ff",
        "outputId": "3b7e43e3-7526-407d-d449-0623abeab9db"
      },
      "execution_count": 17,
      "outputs": [
        {
          "output_type": "execute_result",
          "data": {
            "text/plain": [
              "AIMessage(content='', additional_kwargs={'tool_calls': [{'id': 'call_nckz', 'function': {'arguments': '{\"name\": \"Zeeshan\", \"bank_account\": 12345, \"amount\": 200}', 'name': 'deposit_money'}, 'type': 'function'}]}, response_metadata={'token_usage': {'completion_tokens': 30, 'prompt_tokens': 265, 'total_tokens': 295, 'completion_time': 0.109090909, 'prompt_time': 0.015393088, 'queue_time': 0.7459533700000001, 'total_time': 0.124483997}, 'model_name': 'llama-3.3-70b-versatile', 'system_fingerprint': 'fp_5f849c5a0b', 'finish_reason': 'tool_calls', 'logprobs': None}, id='run-0cb3ebfa-5647-48ea-a380-8e714a014f31-0', tool_calls=[{'name': 'deposit_money', 'args': {'name': 'Zeeshan', 'bank_account': 12345, 'amount': 200}, 'id': 'call_nckz', 'type': 'tool_call'}], usage_metadata={'input_tokens': 265, 'output_tokens': 30, 'total_tokens': 295})"
            ]
          },
          "metadata": {},
          "execution_count": 17
        }
      ]
    },
    {
      "cell_type": "markdown",
      "source": [
        "# Graph Build"
      ],
      "metadata": {
        "id": "1-bIWLNQqA0W"
      }
    },
    {
      "cell_type": "code",
      "source": [
        "from typing_extensions import TypedDict\n",
        "\n",
        "class State(TypedDict):\n",
        "  messages:list\n",
        "\n",
        "# tool call\n",
        "def call_llm(state: State):\n",
        "  messages = state['messages']\n",
        "  call_response = llm_with_tools.invoke(messages)\n",
        "\n",
        "  return {\"messages\" : [call_response]}"
      ],
      "metadata": {
        "id": "oIlEM_DkqEar"
      },
      "execution_count": 18,
      "outputs": []
    },
    {
      "cell_type": "code",
      "source": [
        "from langgraph.graph import StateGraph, START, END\n",
        "builder: StateGraph = StateGraph(State)\n",
        "\n",
        "#define node\n",
        "builder.add_node('call_llm', call_llm)\n",
        "\n",
        "#define edges\n",
        "builder.add_edge(START,'call_llm')\n",
        "builder.add_edge('call_llm', END)\n",
        "\n",
        "#build graph\n",
        "graph = builder.compile()"
      ],
      "metadata": {
        "id": "0LeM-cdVqySn"
      },
      "execution_count": 19,
      "outputs": []
    },
    {
      "cell_type": "code",
      "source": [
        "from IPython.display import Image, display\n",
        "display(Image(graph.get_graph().draw_mermaid_png()))"
      ],
      "metadata": {
        "colab": {
          "base_uri": "https://localhost:8080/",
          "height": 251
        },
        "id": "MWn8qfndrbQF",
        "outputId": "4f4a3169-36f3-4cec-e337-0f567abe2f37"
      },
      "execution_count": 21,
      "outputs": [
        {
          "output_type": "display_data",
          "data": {
            "image/png": "[encoded data removed]",
            "text/plain": [
              "<IPython.core.display.Image object>"
            ]
          },
          "metadata": {}
        }
      ]
    },
    {
      "cell_type": "code",
      "source": [
        "graph.invoke({'messages': [HumanMessage(content='depost $200 in zeeshan account. his account no is 12345', name = 'Zeeshan')]})"
      ],
      "metadata": {
        "colab": {
          "base_uri": "https://localhost:8080/"
        },
        "id": "S5m7L1Hxrvx8",
        "outputId": "2a3b9735-cf03-476c-b15c-70c4276ffcb3"
      },
      "execution_count": 23,
      "outputs": [
        {
          "output_type": "execute_result",
          "data": {
            "text/plain": [
              "{'messages': [AIMessage(content='', additional_kwargs={'tool_calls': [{'id': 'call_jwxq', 'function': {'arguments': '{\"name\": \"Zeeshan\", \"bank_account\": 12345, \"amount\": 200}', 'name': 'deposit_money'}, 'type': 'function'}]}, response_metadata={'token_usage': {'completion_tokens': 30, 'prompt_tokens': 265, 'total_tokens': 295, 'completion_time': 0.109090909, 'prompt_time': 0.016647417, 'queue_time': 0.8365580819999999, 'total_time': 0.125738326}, 'model_name': 'llama-3.3-70b-versatile', 'system_fingerprint': 'fp_0a4b7a8df3', 'finish_reason': 'tool_calls', 'logprobs': None}, id='run-6c9ff650-7e72-4dca-9a26-f7bed7c11bc9-0', tool_calls=[{'name': 'deposit_money', 'args': {'name': 'Zeeshan', 'bank_account': 12345, 'amount': 200}, 'id': 'call_jwxq', 'type': 'tool_call'}], usage_metadata={'input_tokens': 265, 'output_tokens': 30, 'total_tokens': 295})]}"
            ]
          },
          "metadata": {},
          "execution_count": 23
        }
      ]
    }
  ]
}