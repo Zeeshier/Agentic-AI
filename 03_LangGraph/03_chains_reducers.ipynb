{
  "nbformat": 4,
  "nbformat_minor": 0,
  "metadata": {
    "colab": {
      "provenance": []
    },
    "kernelspec": {
      "name": "python3",
      "display_name": "Python 3"
    },
    "language_info": {
      "name": "python"
    }
  },
  "cells": [
    {
      "cell_type": "code",
      "execution_count": 1,
      "metadata": {
        "colab": {
          "base_uri": "https://localhost:8080/"
        },
        "id": "hJWEr3-OitYV",
        "outputId": "34808aa4-18f1-4662-8ca2-6d6d52a742fa"
      },
      "outputs": [
        {
          "output_type": "stream",
          "name": "stdout",
          "text": [
            "\u001b[?25l   \u001b[90m━━━━━━━━━━━━━━━━━━━━━━━━━━━━━━━━━━━━━━━━\u001b[0m \u001b[32m0.0/151.4 kB\u001b[0m \u001b[31m?\u001b[0m eta \u001b[36m-:--:--\u001b[0m\r\u001b[2K   \u001b[90m━━━━━━━━━━━━━━━━━━━━━━━━━━━━━━━━━━━━━━━━\u001b[0m \u001b[32m151.4/151.4 kB\u001b[0m \u001b[31m4.3 MB/s\u001b[0m eta \u001b[36m0:00:00\u001b[0m\n",
            "\u001b[2K   \u001b[90m━━━━━━━━━━━━━━━━━━━━━━━━━━━━━━━━━━━━━━━━\u001b[0m \u001b[32m121.9/121.9 kB\u001b[0m \u001b[31m8.2 MB/s\u001b[0m eta \u001b[36m0:00:00\u001b[0m\n",
            "\u001b[2K   \u001b[90m━━━━━━━━━━━━━━━━━━━━━━━━━━━━━━━━━━━━━━━━\u001b[0m \u001b[32m45.4/45.4 kB\u001b[0m \u001b[31m2.7 MB/s\u001b[0m eta \u001b[36m0:00:00\u001b[0m\n",
            "\u001b[?25h"
          ]
        }
      ],
      "source": [
        "%pip install --quiet -U langchain_groq langchain_core langgraph"
      ]
    },
    {
      "cell_type": "code",
      "source": [
        "from google.colab import userdata\n",
        "apikey = userdata.get('GROQ_API_KEY')"
      ],
      "metadata": {
        "id": "vgS8Mr9jjAtZ"
      },
      "execution_count": 3,
      "outputs": []
    },
    {
      "cell_type": "markdown",
      "source": [
        "# Chain\n",
        "\n",
        "a simple chain that combines 4 concepts:\n",
        "\n",
        "* Using chat messages as our graph state\n",
        "* Using chat models in graph nodes\n",
        "* Binding tools to our chat model\n",
        "* Executing tool calls in graph nodes\n"
      ],
      "metadata": {
        "id": "X7aA81hijPEH"
      }
    },
    {
      "cell_type": "markdown",
      "source": [
        "## Chat Messages"
      ],
      "metadata": {
        "id": "_wXwtqPBllPJ"
      }
    },
    {
      "cell_type": "code",
      "source": [
        "from pprint import pprint\n",
        "from langchain_core.messages import HumanMessage, AIMessage\n",
        "\n",
        "messages= [AIMessage(content= 'how can i assist you?', name='AI')]\n",
        "messages.append(HumanMessage(content=f\"tell me about ai.\",name=\"Zeeshan\"))\n",
        "messages.append(AIMessage(content='AI refers as Artificial Intelligence. It helps computer to mimic human intelligence.',name='AI'))\n",
        "messages.append(HumanMessage(content='give me types of ai', name='Zeeshan'))\n",
        "\n",
        "for m in messages:\n",
        "  m.pretty_print()"
      ],
      "metadata": {
        "colab": {
          "base_uri": "https://localhost:8080/"
        },
        "id": "lrMvc_3njlxf",
        "outputId": "9b073ce5-4727-4c36-cd66-207a103e252f"
      },
      "execution_count": 5,
      "outputs": [
        {
          "output_type": "stream",
          "name": "stdout",
          "text": [
            "==================================\u001b[1m Ai Message \u001b[0m==================================\n",
            "Name: AI\n",
            "\n",
            "how can i assist you?\n",
            "================================\u001b[1m Human Message \u001b[0m=================================\n",
            "Name: Zeeshan\n",
            "\n",
            "tell me about ai.\n",
            "==================================\u001b[1m Ai Message \u001b[0m==================================\n",
            "Name: AI\n",
            "\n",
            "AI refers as Artificial Intelligence. It helps computer to mimic human intelligence.\n",
            "================================\u001b[1m Human Message \u001b[0m=================================\n",
            "Name: Zeeshan\n",
            "\n",
            "give me types of ai\n"
          ]
        }
      ]
    },
    {
      "cell_type": "markdown",
      "source": [
        "## Chat Models"
      ],
      "metadata": {
        "id": "c7EMYaxJlsCV"
      }
    },
    {
      "cell_type": "code",
      "source": [
        "from langchain_groq import ChatGroq"
      ],
      "metadata": {
        "id": "3hKSWCgbi8Rj"
      },
      "execution_count": 2,
      "outputs": []
    },
    {
      "cell_type": "code",
      "source": [
        "llm = ChatGroq(model= 'llama-3.3-70b-versatile', temperature = 0, api_key=apikey)"
      ],
      "metadata": {
        "id": "ASphSL7LjDdD"
      },
      "execution_count": 4,
      "outputs": []
    },
    {
      "cell_type": "code",
      "source": [
        "result = llm.invoke(messages)\n",
        "result"
      ],
      "metadata": {
        "colab": {
          "base_uri": "https://localhost:8080/"
        },
        "id": "Uma-DxqslYeI",
        "outputId": "8646a594-3525-48dd-e29f-35f108912240"
      },
      "execution_count": 6,
      "outputs": [
        {
          "output_type": "execute_result",
          "data": {
            "text/plain": [
              "AIMessage(content='There are several types of Artificial Intelligence (AI), which can be categorized based on their capabilities, functionality, and goals. Here are some of the main types of AI:\\n\\n1. **Narrow or Weak AI**: Designed to perform a specific task, such as facial recognition, language translation, or playing chess.\\n2. **General or Strong AI**: A hypothetical AI that possesses the ability to understand, learn, and apply knowledge across a wide range of tasks, similar to human intelligence.\\n3. **Superintelligence**: An AI that is significantly more intelligent than the best human minds, potentially leading to exponential growth in technological advancements.\\n4. **Reactive Machines**: AI that can only react to currently existing situations, without forming memories or using past experiences to influence decisions.\\n5. **Limited Memory**: AI that can learn from data and make decisions based on that data, but the learning is limited to a specific dataset or timeframe.\\n6. **Theory of Mind**: AI that can understand and interpret human emotions, intentions, and behaviors, and respond accordingly.\\n7. **Artificial General Intelligence (AGI)**: A type of AI that can perform any intellectual task that a human can, with the ability to learn, reason, and apply knowledge across a wide range of domains.\\n\\nBased on functionality, AI can also be categorized into:\\n\\n1. **Natural Language Processing (NLP)**: AI that can understand, generate, and process human language.\\n2. **Machine Learning (ML)**: AI that can learn from data and improve its performance over time.\\n3. **Deep Learning**: A subset of ML that uses neural networks to analyze data and make predictions.\\n4. **Computer Vision**: AI that can interpret and understand visual data from images and videos.\\n5. **Robotics**: AI that can interact with and control physical devices, such as robots and drones.\\n\\nThese categories are not mutually exclusive, and many AI systems can be classified under multiple categories.', additional_kwargs={}, response_metadata={'token_usage': {'completion_tokens': 392, 'prompt_tokens': 80, 'total_tokens': 472, 'completion_time': 1.425454545, 'prompt_time': 0.007061981, 'queue_time': 0.364646809, 'total_time': 1.4325165260000001}, 'model_name': 'llama-3.3-70b-versatile', 'system_fingerprint': 'fp_7b42aeb9fa', 'finish_reason': 'stop', 'logprobs': None}, id='run-23e3158b-3359-4bb0-992a-52e1b9a0c7ee-0', usage_metadata={'input_tokens': 80, 'output_tokens': 392, 'total_tokens': 472})"
            ]
          },
          "metadata": {},
          "execution_count": 6
        }
      ]
    },
    {
      "cell_type": "markdown",
      "source": [
        "## Tools"
      ],
      "metadata": {
        "id": "6_bKcnyhluj-"
      }
    },
    {
      "cell_type": "code",
      "source": [
        "def add(a: int, b: int) -> int:\n",
        "  '''Multiply a and b\n",
        "\n",
        "  Args:\n",
        "  a: first int\n",
        "  b: second int\n",
        "  '''\n",
        "  return a + b\n"
      ],
      "metadata": {
        "id": "CKW1hZIFliYt"
      },
      "execution_count": 7,
      "outputs": []
    },
    {
      "cell_type": "code",
      "source": [
        "llm_with_tools = llm.bind_tools([add])"
      ],
      "metadata": {
        "id": "rd9IBWWUmGSG"
      },
      "execution_count": 8,
      "outputs": []
    },
    {
      "cell_type": "code",
      "source": [
        "tool_result = llm_with_tools.invoke([HumanMessage(content= '5 is added with 9' , name = 'Zeeshan')])\n",
        "tool_result"
      ],
      "metadata": {
        "colab": {
          "base_uri": "https://localhost:8080/"
        },
        "id": "j2Cufa9mmR9v",
        "outputId": "067ee69c-d655-4952-a925-e403ae157e1f"
      },
      "execution_count": 11,
      "outputs": [
        {
          "output_type": "execute_result",
          "data": {
            "text/plain": [
              "AIMessage(content='', additional_kwargs={'tool_calls': [{'id': 'call_ettd', 'function': {'arguments': '{\"a\": 5, \"b\": 9}', 'name': 'add'}, 'type': 'function'}]}, response_metadata={'token_usage': {'completion_tokens': 18, 'prompt_tokens': 230, 'total_tokens': 248, 'completion_time': 0.065454545, 'prompt_time': 0.013139218, 'queue_time': 0.251955337, 'total_time': 0.078593763}, 'model_name': 'llama-3.3-70b-versatile', 'system_fingerprint': 'fp_0a4b7a8df3', 'finish_reason': 'tool_calls', 'logprobs': None}, id='run-c8439dfb-7a69-40fa-9288-01a97682858f-0', tool_calls=[{'name': 'add', 'args': {'a': 5, 'b': 9}, 'id': 'call_ettd', 'type': 'tool_call'}], usage_metadata={'input_tokens': 230, 'output_tokens': 18, 'total_tokens': 248})"
            ]
          },
          "metadata": {},
          "execution_count": 11
        }
      ]
    },
    {
      "cell_type": "code",
      "source": [
        "tool_result.additional_kwargs"
      ],
      "metadata": {
        "colab": {
          "base_uri": "https://localhost:8080/"
        },
        "id": "Ldlnh59Gm1gC",
        "outputId": "e8434334-8f77-4467-f089-d834465ba957"
      },
      "execution_count": 12,
      "outputs": [
        {
          "output_type": "execute_result",
          "data": {
            "text/plain": [
              "{'tool_calls': [{'id': 'call_ettd',\n",
              "   'function': {'arguments': '{\"a\": 5, \"b\": 9}', 'name': 'add'},\n",
              "   'type': 'function'}]}"
            ]
          },
          "metadata": {},
          "execution_count": 12
        }
      ]
    },
    {
      "cell_type": "markdown",
      "source": [
        "## Using messages as state\n"
      ],
      "metadata": {
        "id": "G22igu6bm7el"
      }
    },
    {
      "cell_type": "code",
      "source": [
        "from typing_extensions import TypedDict\n",
        "from langchain_core.messages import AnyMessage\n",
        "\n",
        "class MessageState(TypedDict):\n",
        "  messages: list[AnyMessage]"
      ],
      "metadata": {
        "id": "uN0dyF72m-dn"
      },
      "execution_count": 13,
      "outputs": []
    },
    {
      "cell_type": "markdown",
      "source": [
        "# Reducers\n"
      ],
      "metadata": {
        "id": "GMCnZDh7o_om"
      }
    },
    {
      "cell_type": "code",
      "source": [
        "from typing import Annotated\n",
        "from langgraph.graph.message import add_messages\n",
        "\n",
        "class MessageState(TypedDict):\n",
        "  messages : Annotated[list[AnyMessage], add_messages]"
      ],
      "metadata": {
        "id": "x9y2w1JCntpF"
      },
      "execution_count": 15,
      "outputs": []
    },
    {
      "cell_type": "code",
      "source": [
        "from langgraph.graph.message import MessagesState\n",
        "\n",
        "class State(MessagesState):\n",
        "  pass"
      ],
      "metadata": {
        "id": "aVlbS7YUqa_f"
      },
      "execution_count": 16,
      "outputs": []
    },
    {
      "cell_type": "code",
      "source": [
        "initial_messages = [AIMessage(content=\"Hello! How can I assist you?\", name=\"Model\"),\n",
        "                    HumanMessage(content=\"what is ai?.\", name=\"Zeeshan\")\n",
        "                   ]\n",
        "\n",
        "new_message = AIMessage(content=\"AI refers to Artificial Intelligence.\", name=\"Model\")\n",
        "\n",
        "add_messages(initial_messages , new_message)"
      ],
      "metadata": {
        "colab": {
          "base_uri": "https://localhost:8080/"
        },
        "id": "9azcZALtqw8M",
        "outputId": "aef8dc21-5f68-408c-c88c-f227457c7587"
      },
      "execution_count": 17,
      "outputs": [
        {
          "output_type": "execute_result",
          "data": {
            "text/plain": [
              "[AIMessage(content='Hello! How can I assist you?', additional_kwargs={}, response_metadata={}, name='Model', id='b6076134-319a-4629-b514-4be4db198eac'),\n",
              " HumanMessage(content='what is ai?.', additional_kwargs={}, response_metadata={}, name='Zeeshan', id='21feba9d-bfbe-45ae-986e-ece303bf7675'),\n",
              " AIMessage(content='AI refers to Artificial Intelligence.', additional_kwargs={}, response_metadata={}, name='Model', id='a5e0124f-0658-4975-a142-9c2d28637f62')]"
            ]
          },
          "metadata": {},
          "execution_count": 17
        }
      ]
    },
    {
      "cell_type": "markdown",
      "source": [
        "## Graph"
      ],
      "metadata": {
        "id": "Nv3QH8PFrXuX"
      }
    },
    {
      "cell_type": "code",
      "source": [
        "from IPython.display import display, Image\n",
        "from langgraph.graph import StateGraph, START, END\n",
        "from langgraph.graph.state import CompiledStateGraph\n",
        "\n",
        "#Node\n",
        "def tool_calling_llm(state : State):\n",
        "  return {'messages': [llm_with_tools.invoke(state['messages'])]}\n",
        "\n",
        "#Build\n",
        "builder : StateGraph = StateGraph(State)\n",
        "builder.add_node('tool_calling_llm', tool_calling_llm)\n",
        "builder.add_edge(START, 'tool_calling_llm')\n",
        "builder.add_edge('tool_calling_llm', END)\n",
        "\n",
        "graph : CompiledStateGraph = builder.compile()\n",
        "\n",
        "display(Image(graph.get_graph().draw_mermaid_png()))"
      ],
      "metadata": {
        "colab": {
          "base_uri": "https://localhost:8080/",
          "height": 251
        },
        "id": "iI1yfwHxrZZW",
        "outputId": "e607d08e-317c-4587-fbad-5264002584df"
      },
      "execution_count": 18,
      "outputs": [
        {
          "output_type": "display_data",
          "data": {
            "image/png": "[encoded data removed]",
            "text/plain": [
              "<IPython.core.display.Image object>"
            ]
          },
          "metadata": {}
        }
      ]
    },
    {
      "cell_type": "code",
      "source": [
        "messages = graph.invoke({\"messages\": HumanMessage(content=\"Hello!\")})\n",
        "for m in messages['messages']:\n",
        "    m.pretty_print()"
      ],
      "metadata": {
        "colab": {
          "base_uri": "https://localhost:8080/"
        },
        "id": "_asv1t9Us5X3",
        "outputId": "01855ea6-2f49-4768-ca6b-9a7f2a2a7e48"
      },
      "execution_count": 19,
      "outputs": [
        {
          "output_type": "stream",
          "name": "stdout",
          "text": [
            "================================\u001b[1m Human Message \u001b[0m=================================\n",
            "\n",
            "Hello!\n",
            "==================================\u001b[1m Ai Message \u001b[0m==================================\n",
            "\n",
            "I'm here to help. How can I assist you today?\n"
          ]
        }
      ]
    },
    {
      "cell_type": "code",
      "source": [
        "messages = graph.invoke({\"messages\": HumanMessage(content=\"Add 4 and 2!\")})\n",
        "for m in messages['messages']:\n",
        "    m.pretty_print()"
      ],
      "metadata": {
        "id": "ITR7I_Wes9LC",
        "outputId": "0d9d4f29-086d-49d0-8215-02255fe62304",
        "colab": {
          "base_uri": "https://localhost:8080/"
        }
      },
      "execution_count": 20,
      "outputs": [
        {
          "output_type": "stream",
          "name": "stdout",
          "text": [
            "================================\u001b[1m Human Message \u001b[0m=================================\n",
            "\n",
            "Add 4 and 2!\n",
            "==================================\u001b[1m Ai Message \u001b[0m==================================\n",
            "Tool Calls:\n",
            "  add (call_9z1k)\n",
            " Call ID: call_9z1k\n",
            "  Args:\n",
            "    a: 4\n",
            "    b: 2\n"
          ]
        }
      ]
    }
  ]
}