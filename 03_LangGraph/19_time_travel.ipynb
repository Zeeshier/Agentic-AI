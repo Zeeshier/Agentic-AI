{
  "nbformat": 4,
  "nbformat_minor": 0,
  "metadata": {
    "colab": {
      "provenance": []
    },
    "kernelspec": {
      "name": "python3",
      "display_name": "Python 3"
    },
    "language_info": {
      "name": "python"
    }
  },
  "cells": [
    {
      "cell_type": "code",
      "execution_count": 1,
      "metadata": {
        "colab": {
          "base_uri": "https://localhost:8080/"
        },
        "id": "3ZvzmKiu4Sz3",
        "outputId": "761ef1ba-e647-471d-de31-d2d09baf7a77"
      },
      "outputs": [
        {
          "output_type": "stream",
          "name": "stdout",
          "text": [
            "\u001b[?25l     \u001b[90m━━━━━━━━━━━━━━━━━━━━━━━━━━━━━━━━━━━━━━━━\u001b[0m \u001b[32m0.0/43.5 kB\u001b[0m \u001b[31m?\u001b[0m eta \u001b[36m-:--:--\u001b[0m\r\u001b[2K     \u001b[90m━━━━━━━━━━━━━━━━━━━━━━━━━━━━━━━━━━━━━━━━\u001b[0m \u001b[32m43.5/43.5 kB\u001b[0m \u001b[31m2.1 MB/s\u001b[0m eta \u001b[36m0:00:00\u001b[0m\n",
            "\u001b[2K   \u001b[90m━━━━━━━━━━━━━━━━━━━━━━━━━━━━━━━━━━━━━━━━\u001b[0m \u001b[32m138.0/138.0 kB\u001b[0m \u001b[31m8.1 MB/s\u001b[0m eta \u001b[36m0:00:00\u001b[0m\n",
            "\u001b[2K   \u001b[90m━━━━━━━━━━━━━━━━━━━━━━━━━━━━━━━━━━━━━━━━\u001b[0m \u001b[32m47.1/47.1 kB\u001b[0m \u001b[31m3.6 MB/s\u001b[0m eta \u001b[36m0:00:00\u001b[0m\n",
            "\u001b[2K   \u001b[90m━━━━━━━━━━━━━━━━━━━━━━━━━━━━━━━━━━━━━━━━\u001b[0m \u001b[32m124.9/124.9 kB\u001b[0m \u001b[31m9.4 MB/s\u001b[0m eta \u001b[36m0:00:00\u001b[0m\n",
            "\u001b[2K   \u001b[90m━━━━━━━━━━━━━━━━━━━━━━━━━━━━━━━━━━━━━━━━\u001b[0m \u001b[32m41.9/41.9 kB\u001b[0m \u001b[31m3.0 MB/s\u001b[0m eta \u001b[36m0:00:00\u001b[0m\n",
            "\u001b[2K   \u001b[90m━━━━━━━━━━━━━━━━━━━━━━━━━━━━━━━━━━━━━━━━\u001b[0m \u001b[32m194.8/194.8 kB\u001b[0m \u001b[31m13.7 MB/s\u001b[0m eta \u001b[36m0:00:00\u001b[0m\n",
            "\u001b[2K   \u001b[90m━━━━━━━━━━━━━━━━━━━━━━━━━━━━━━━━━━━━━━━━\u001b[0m \u001b[32m223.6/223.6 kB\u001b[0m \u001b[31m18.6 MB/s\u001b[0m eta \u001b[36m0:00:00\u001b[0m\n",
            "\u001b[?25h"
          ]
        }
      ],
      "source": [
        "%pip install --quiet -U langgraph langchain_groq langgraph_sdk"
      ]
    },
    {
      "cell_type": "code",
      "source": [
        "from google.colab import userdata\n",
        "apikey = userdata.get('GROQ_API_KEY')"
      ],
      "metadata": {
        "id": "m2jD1fsG4hL0"
      },
      "execution_count": 2,
      "outputs": []
    },
    {
      "cell_type": "code",
      "source": [
        "from langchain_groq import ChatGroq\n",
        "llm = ChatGroq(model= 'llama-3.3-70b-versatile', temperature = 0, api_key=apikey)"
      ],
      "metadata": {
        "id": "vuXczvrw4x4Q"
      },
      "execution_count": 3,
      "outputs": []
    },
    {
      "cell_type": "code",
      "source": [
        "from langchain_core.tools import tool\n",
        "\n",
        "def multiply(a: int, b: int) -> int:\n",
        "    \"\"\"Multiply a and b.\n",
        "\n",
        "    Args:\n",
        "        a: first int\n",
        "        b: second int\n",
        "    \"\"\"\n",
        "    return a * b\n",
        "\n",
        "# This will be a tool\n",
        "def add(a: int, b: int) -> int:\n",
        "    \"\"\"Adds a and b.\n",
        "\n",
        "    Args:\n",
        "        a: first int\n",
        "        b: second int\n",
        "    \"\"\"\n",
        "    return a + b\n",
        "\n",
        "def divide(a: int, b: int) -> float:\n",
        "    \"\"\"Adds a and b.\n",
        "\n",
        "    Args:\n",
        "        a: first int\n",
        "        b: second int\n",
        "    \"\"\"\n",
        "    return a / b\n",
        "\n",
        "tools: list[tool] = [add, multiply, divide]\n",
        "llm_with_tools = llm.bind_tools(tools)"
      ],
      "metadata": {
        "id": "-ogDLOde4yNY"
      },
      "execution_count": 4,
      "outputs": []
    },
    {
      "cell_type": "code",
      "source": [
        "from langgraph.prebuilt import tools_condition, ToolNode\n",
        "\n",
        "ToolNode"
      ],
      "metadata": {
        "colab": {
          "base_uri": "https://localhost:8080/",
          "height": 221
        },
        "id": "i5VY4GUp430g",
        "outputId": "3a5d72f7-2e18-4dc2-a7ca-baffd7b61ac4"
      },
      "execution_count": 5,
      "outputs": [
        {
          "output_type": "execute_result",
          "data": {
            "text/plain": [
              "langgraph.prebuilt.tool_node.ToolNode"
            ],
            "text/html": [
              "<div style=\"max-width:800px; border: 1px solid var(--colab-border-color);\"><style>\n",
              "      pre.function-repr-contents {\n",
              "        overflow-x: auto;\n",
              "        padding: 8px 12px;\n",
              "        max-height: 500px;\n",
              "      }\n",
              "\n",
              "      pre.function-repr-contents.function-repr-contents-collapsed {\n",
              "        cursor: pointer;\n",
              "        max-height: 100px;\n",
              "      }\n",
              "    </style>\n",
              "    <pre style=\"white-space: initial; background:\n",
              "         var(--colab-secondary-surface-color); padding: 8px 12px;\n",
              "         border-bottom: 1px solid var(--colab-border-color);\"><b>langgraph.prebuilt.tool_node.ToolNode</b><br/>def __init__(tools: Sequence[Union[BaseTool, Callable]], *, name: str=&#x27;tools&#x27;, tags: Optional[list[str]]=None, handle_tool_errors: Union[bool, str, Callable[..., str], tuple[type[Exception], ...]]=True, messages_key: str=&#x27;messages&#x27;) -&gt; None</pre><pre class=\"function-repr-contents function-repr-contents-collapsed\" style=\"\"><a class=\"filepath\" style=\"display:none\" href=\"#\">/usr/local/lib/python3.11/dist-packages/langgraph/prebuilt/tool_node.py</a>A node that runs the tools called in the last AIMessage.\n",
              "\n",
              "It can be used either in StateGraph with a &quot;messages&quot; state key (or a custom key passed via ToolNode&#x27;s &#x27;messages_key&#x27;).\n",
              "If multiple tool calls are requested, they will be run in parallel. The output will be\n",
              "a list of ToolMessages, one for each tool call.\n",
              "\n",
              "Tool calls can also be passed directly as a list of `ToolCall` dicts.\n",
              "\n",
              "Args:\n",
              "    tools: A sequence of tools that can be invoked by the ToolNode.\n",
              "    name: The name of the ToolNode in the graph. Defaults to &quot;tools&quot;.\n",
              "    tags: Optional tags to associate with the node. Defaults to None.\n",
              "    handle_tool_errors: How to handle tool errors raised by tools inside the node. Defaults to True.\n",
              "        Must be one of the following:\n",
              "\n",
              "        - True: all errors will be caught and\n",
              "            a ToolMessage with a default error message (TOOL_CALL_ERROR_TEMPLATE) will be returned.\n",
              "        - str: all errors will be caught and\n",
              "            a ToolMessage with the string value of &#x27;handle_tool_errors&#x27; will be returned.\n",
              "        - tuple[type[Exception], ...]: exceptions in the tuple will be caught and\n",
              "            a ToolMessage with a default error message (TOOL_CALL_ERROR_TEMPLATE) will be returned.\n",
              "        - Callable[..., str]: exceptions from the signature of the callable will be caught and\n",
              "            a ToolMessage with the string value of the result of the &#x27;handle_tool_errors&#x27; callable will be returned.\n",
              "        - False: none of the errors raised by the tools will be caught\n",
              "    messages_key: The state key in the input that contains the list of messages.\n",
              "        The same key will be used for the output from the ToolNode.\n",
              "        Defaults to &quot;messages&quot;.\n",
              "\n",
              "The `ToolNode` is roughly analogous to:\n",
              "\n",
              "```python\n",
              "tools_by_name = {tool.name: tool for tool in tools}\n",
              "def tool_node(state: dict):\n",
              "    result = []\n",
              "    for tool_call in state[&quot;messages&quot;][-1].tool_calls:\n",
              "        tool = tools_by_name[tool_call[&quot;name&quot;]]\n",
              "        observation = tool.invoke(tool_call[&quot;args&quot;])\n",
              "        result.append(ToolMessage(content=observation, tool_call_id=tool_call[&quot;id&quot;]))\n",
              "    return {&quot;messages&quot;: result}\n",
              "```\n",
              "\n",
              "Tool calls can also be passed directly to a ToolNode. This can be useful when using\n",
              "the Send API, e.g., in a conditional edge:\n",
              "\n",
              "```python\n",
              "def example_conditional_edge(state: dict) -&gt; List[Send]:\n",
              "    tool_calls = state[&quot;messages&quot;][-1].tool_calls\n",
              "    # If tools rely on state or store variables (whose values are not generated\n",
              "    # directly by a model), you can inject them into the tool calls.\n",
              "    tool_calls = [\n",
              "        tool_node.inject_tool_args(call, state, store)\n",
              "        for call in last_message.tool_calls\n",
              "    ]\n",
              "    return [Send(&quot;tools&quot;, [tool_call]) for tool_call in tool_calls]\n",
              "```\n",
              "\n",
              "Important:\n",
              "    - The input state can be one of the following:\n",
              "        - A dict with a messages key containing a list of messages.\n",
              "        - A list of messages.\n",
              "        - A list of tool calls.\n",
              "    - If operating on a message list, the last message must be an `AIMessage` with\n",
              "        `tool_calls` populated.</pre>\n",
              "      <script>\n",
              "      if (google.colab.kernel.accessAllowed && google.colab.files && google.colab.files.view) {\n",
              "        for (const element of document.querySelectorAll('.filepath')) {\n",
              "          element.style.display = 'block'\n",
              "          element.onclick = (event) => {\n",
              "            event.preventDefault();\n",
              "            event.stopPropagation();\n",
              "            google.colab.files.view(element.textContent, 132);\n",
              "          };\n",
              "        }\n",
              "      }\n",
              "      for (const element of document.querySelectorAll('.function-repr-contents')) {\n",
              "        element.onclick = (event) => {\n",
              "          event.preventDefault();\n",
              "          event.stopPropagation();\n",
              "          element.classList.toggle('function-repr-contents-collapsed');\n",
              "        };\n",
              "      }\n",
              "      </script>\n",
              "      </div>"
            ]
          },
          "metadata": {},
          "execution_count": 5
        }
      ]
    },
    {
      "cell_type": "code",
      "source": [
        "from IPython.display import Image, display\n",
        "\n",
        "from langgraph.checkpoint.memory import MemorySaver\n",
        "from langgraph.graph import MessagesState\n",
        "from langgraph.graph import START, END, StateGraph\n",
        "from langgraph.prebuilt import tools_condition, ToolNode\n",
        "from langgraph.graph.state import CompiledStateGraph\n",
        "\n",
        "from langchain_core.messages import AIMessage, HumanMessage, SystemMessage\n",
        "\n",
        "# System message\n",
        "sys_msg = SystemMessage(content=\"You are a helpful assistant tasked with performing arithmetic on a set of inputs.\")\n",
        "\n",
        "# Node\n",
        "def assistant(state: MessagesState):\n",
        "   return {\"messages\": [llm_with_tools.invoke([sys_msg] + state[\"messages\"])]}\n",
        "\n",
        "# Graph\n",
        "builder: StateGraph = StateGraph(MessagesState)\n",
        "\n",
        "# Define nodes: these do the work\n",
        "builder.add_node(\"assistant\", assistant)\n",
        "builder.add_node(\"tools\", ToolNode(tools))\n",
        "\n",
        "# Define edges: these determine the control flow\n",
        "builder.add_edge(START, \"assistant\")\n",
        "builder.add_conditional_edges(\n",
        "    \"assistant\",\n",
        "    # If the latest message (result) from assistant is a tool call -> tools_condition routes to tools\n",
        "    # If the latest message (result) from assistant is a not a tool call -> tools_condition routes to END\n",
        "    tools_condition,\n",
        ")\n",
        "builder.add_edge(\"tools\", \"assistant\")\n",
        "\n",
        "memory: MemorySaver = MemorySaver()\n",
        "graph: CompiledStateGraph = builder.compile(checkpointer=MemorySaver())\n",
        "\n",
        "# Show\n",
        "display(Image(graph.get_graph(xray=True).draw_mermaid_png()))"
      ],
      "metadata": {
        "colab": {
          "base_uri": "https://localhost:8080/",
          "height": 266
        },
        "id": "ncwvbhrk44ci",
        "outputId": "42073f75-d0be-407a-c15f-d8bfba0296fc"
      },
      "execution_count": 6,
      "outputs": [
        {
          "output_type": "display_data",
          "data": {
            "image/png": "[encoded data removed]",
            "text/plain": [
              "<IPython.core.display.Image object>"
            ]
          },
          "metadata": {}
        }
      ]
    },
    {
      "cell_type": "code",
      "source": [
        "# Input\n",
        "initial_input = {\"messages\": HumanMessage(content=\"Multiply 2 and 3\")}\n",
        "\n",
        "# Thread\n",
        "thread = {\"configurable\": {\"thread_id\": \"1\"}}\n",
        "\n",
        "# Run the graph until the first interruption\n",
        "for event in graph.stream(initial_input, thread, stream_mode=\"values\"):\n",
        "    event['messages'][-1].pretty_print()"
      ],
      "metadata": {
        "colab": {
          "base_uri": "https://localhost:8080/"
        },
        "id": "bogF-0Yq49DK",
        "outputId": "0a625392-493e-4422-bc08-6aea27712db1"
      },
      "execution_count": 7,
      "outputs": [
        {
          "output_type": "stream",
          "name": "stdout",
          "text": [
            "================================\u001b[1m Human Message \u001b[0m=================================\n",
            "\n",
            "Multiply 2 and 3\n",
            "==================================\u001b[1m Ai Message \u001b[0m==================================\n",
            "Tool Calls:\n",
            "  multiply (call_vg7y)\n",
            " Call ID: call_vg7y\n",
            "  Args:\n",
            "    a: 2\n",
            "    b: 3\n",
            "=================================\u001b[1m Tool Message \u001b[0m=================================\n",
            "Name: multiply\n",
            "\n",
            "6\n",
            "==================================\u001b[1m Ai Message \u001b[0m==================================\n",
            "\n",
            "The result of multiplying 2 and 3 is 6.\n"
          ]
        }
      ]
    },
    {
      "cell_type": "markdown",
      "source": [
        "Browsing History\n"
      ],
      "metadata": {
        "id": "JYpU6rVH4-8Y"
      }
    },
    {
      "cell_type": "code",
      "source": [
        "graph.get_state({'configurable': {'thread_id': '1'}})"
      ],
      "metadata": {
        "colab": {
          "base_uri": "https://localhost:8080/"
        },
        "id": "XLRiJYto5BaK",
        "outputId": "522c548e-003c-4ffb-bddf-4e9e456b5e50"
      },
      "execution_count": 8,
      "outputs": [
        {
          "output_type": "execute_result",
          "data": {
            "text/plain": [
              "StateSnapshot(values={'messages': [HumanMessage(content='Multiply 2 and 3', additional_kwargs={}, response_metadata={}, id='5b04c2cd-0a7b-4ac3-8cad-0ed0d0c83efb'), AIMessage(content='', additional_kwargs={'tool_calls': [{'id': 'call_vg7y', 'function': {'arguments': '{\"a\": 2, \"b\": 3}', 'name': 'multiply'}, 'type': 'function'}]}, response_metadata={'token_usage': {'completion_tokens': 19, 'prompt_tokens': 371, 'total_tokens': 390, 'completion_time': 0.069090909, 'prompt_time': 0.02399599, 'queue_time': 0.10130683500000001, 'total_time': 0.093086899}, 'model_name': 'llama-3.3-70b-versatile', 'system_fingerprint': 'fp_90c1d253ff', 'finish_reason': 'tool_calls', 'logprobs': None}, id='run-9931a581-b274-41f4-9074-bc056dbc7ee8-0', tool_calls=[{'name': 'multiply', 'args': {'a': 2, 'b': 3}, 'id': 'call_vg7y', 'type': 'tool_call'}], usage_metadata={'input_tokens': 371, 'output_tokens': 19, 'total_tokens': 390}), ToolMessage(content='6', name='multiply', id='584679d8-7601-413e-8938-0f093218a754', tool_call_id='call_vg7y'), AIMessage(content='The result of multiplying 2 and 3 is 6.', additional_kwargs={}, response_metadata={'token_usage': {'completion_tokens': 14, 'prompt_tokens': 401, 'total_tokens': 415, 'completion_time': 0.050909091, 'prompt_time': 0.035392513, 'queue_time': 0.100919468, 'total_time': 0.086301604}, 'model_name': 'llama-3.3-70b-versatile', 'system_fingerprint': 'fp_90c1d253ff', 'finish_reason': 'stop', 'logprobs': None}, id='run-e00a1450-193c-44cf-bfd6-02d2c0488011-0', usage_metadata={'input_tokens': 401, 'output_tokens': 14, 'total_tokens': 415})]}, next=(), config={'configurable': {'thread_id': '1', 'checkpoint_ns': '', 'checkpoint_id': '1f00cc0f-7c2c-6f8d-8003-41fdc511a49c'}}, metadata={'source': 'loop', 'writes': {'assistant': {'messages': [AIMessage(content='The result of multiplying 2 and 3 is 6.', additional_kwargs={}, response_metadata={'token_usage': {'completion_tokens': 14, 'prompt_tokens': 401, 'total_tokens': 415, 'completion_time': 0.050909091, 'prompt_time': 0.035392513, 'queue_time': 0.100919468, 'total_time': 0.086301604}, 'model_name': 'llama-3.3-70b-versatile', 'system_fingerprint': 'fp_90c1d253ff', 'finish_reason': 'stop', 'logprobs': None}, id='run-e00a1450-193c-44cf-bfd6-02d2c0488011-0', usage_metadata={'input_tokens': 401, 'output_tokens': 14, 'total_tokens': 415})]}}, 'thread_id': '1', 'step': 3, 'parents': {}}, created_at='2025-03-29T17:12:17.847868+00:00', parent_config={'configurable': {'thread_id': '1', 'checkpoint_ns': '', 'checkpoint_id': '1f00cc0f-7a02-63e8-8002-7b1dcdc3c8c1'}}, tasks=())"
            ]
          },
          "metadata": {},
          "execution_count": 8
        }
      ]
    },
    {
      "cell_type": "code",
      "source": [
        "all_states = [s for s in graph.get_state_history(thread)]"
      ],
      "metadata": {
        "id": "KesngoV25DNA"
      },
      "execution_count": 9,
      "outputs": []
    },
    {
      "cell_type": "code",
      "source": [
        "len(all_states)"
      ],
      "metadata": {
        "colab": {
          "base_uri": "https://localhost:8080/"
        },
        "id": "h9q4l_re5E-g",
        "outputId": "d8e084c9-e8a4-4c75-e525-07ea0039c0c4"
      },
      "execution_count": 10,
      "outputs": [
        {
          "output_type": "execute_result",
          "data": {
            "text/plain": [
              "5"
            ]
          },
          "metadata": {},
          "execution_count": 10
        }
      ]
    },
    {
      "cell_type": "code",
      "source": [
        "all_states[-2]"
      ],
      "metadata": {
        "colab": {
          "base_uri": "https://localhost:8080/"
        },
        "id": "nr2TzBc95Gkg",
        "outputId": "38c19b35-4b6a-4ee3-db26-59978f70056f"
      },
      "execution_count": 11,
      "outputs": [
        {
          "output_type": "execute_result",
          "data": {
            "text/plain": [
              "StateSnapshot(values={'messages': [HumanMessage(content='Multiply 2 and 3', additional_kwargs={}, response_metadata={}, id='5b04c2cd-0a7b-4ac3-8cad-0ed0d0c83efb')]}, next=('assistant',), config={'configurable': {'thread_id': '1', 'checkpoint_ns': '', 'checkpoint_id': '1f00cc0f-7615-6209-8000-61fb520ad7a7'}}, metadata={'source': 'loop', 'writes': None, 'thread_id': '1', 'step': 0, 'parents': {}}, created_at='2025-03-29T17:12:17.208944+00:00', parent_config={'configurable': {'thread_id': '1', 'checkpoint_ns': '', 'checkpoint_id': '1f00cc0f-75f0-6c22-bfff-8692aced800e'}}, tasks=(PregelTask(id='e15994ea-759f-7384-a36d-153287a93ec0', name='assistant', path=('__pregel_pull', 'assistant'), error=None, interrupts=(), state=None, result={'messages': [AIMessage(content='', additional_kwargs={'tool_calls': [{'id': 'call_vg7y', 'function': {'arguments': '{\"a\": 2, \"b\": 3}', 'name': 'multiply'}, 'type': 'function'}]}, response_metadata={'token_usage': {'completion_tokens': 19, 'prompt_tokens': 371, 'total_tokens': 390, 'completion_time': 0.069090909, 'prompt_time': 0.02399599, 'queue_time': 0.10130683500000001, 'total_time': 0.093086899}, 'model_name': 'llama-3.3-70b-versatile', 'system_fingerprint': 'fp_90c1d253ff', 'finish_reason': 'tool_calls', 'logprobs': None}, id='run-9931a581-b274-41f4-9074-bc056dbc7ee8-0', tool_calls=[{'name': 'multiply', 'args': {'a': 2, 'b': 3}, 'id': 'call_vg7y', 'type': 'tool_call'}], usage_metadata={'input_tokens': 371, 'output_tokens': 19, 'total_tokens': 390})]}),))"
            ]
          },
          "metadata": {},
          "execution_count": 11
        }
      ]
    },
    {
      "cell_type": "markdown",
      "source": [
        "Replaying\n"
      ],
      "metadata": {
        "id": "nQkFr-nJ5Iqg"
      }
    },
    {
      "cell_type": "code",
      "source": [
        "to_replay = all_states[-2]"
      ],
      "metadata": {
        "id": "YYbfphtO5I8j"
      },
      "execution_count": 12,
      "outputs": []
    },
    {
      "cell_type": "code",
      "source": [
        "to_replay"
      ],
      "metadata": {
        "colab": {
          "base_uri": "https://localhost:8080/"
        },
        "id": "f2e2g7b85L3r",
        "outputId": "e9b58e7e-a0c5-47a7-ba52-833d7ed9095c"
      },
      "execution_count": 13,
      "outputs": [
        {
          "output_type": "execute_result",
          "data": {
            "text/plain": [
              "StateSnapshot(values={'messages': [HumanMessage(content='Multiply 2 and 3', additional_kwargs={}, response_metadata={}, id='5b04c2cd-0a7b-4ac3-8cad-0ed0d0c83efb')]}, next=('assistant',), config={'configurable': {'thread_id': '1', 'checkpoint_ns': '', 'checkpoint_id': '1f00cc0f-7615-6209-8000-61fb520ad7a7'}}, metadata={'source': 'loop', 'writes': None, 'thread_id': '1', 'step': 0, 'parents': {}}, created_at='2025-03-29T17:12:17.208944+00:00', parent_config={'configurable': {'thread_id': '1', 'checkpoint_ns': '', 'checkpoint_id': '1f00cc0f-75f0-6c22-bfff-8692aced800e'}}, tasks=(PregelTask(id='e15994ea-759f-7384-a36d-153287a93ec0', name='assistant', path=('__pregel_pull', 'assistant'), error=None, interrupts=(), state=None, result={'messages': [AIMessage(content='', additional_kwargs={'tool_calls': [{'id': 'call_vg7y', 'function': {'arguments': '{\"a\": 2, \"b\": 3}', 'name': 'multiply'}, 'type': 'function'}]}, response_metadata={'token_usage': {'completion_tokens': 19, 'prompt_tokens': 371, 'total_tokens': 390, 'completion_time': 0.069090909, 'prompt_time': 0.02399599, 'queue_time': 0.10130683500000001, 'total_time': 0.093086899}, 'model_name': 'llama-3.3-70b-versatile', 'system_fingerprint': 'fp_90c1d253ff', 'finish_reason': 'tool_calls', 'logprobs': None}, id='run-9931a581-b274-41f4-9074-bc056dbc7ee8-0', tool_calls=[{'name': 'multiply', 'args': {'a': 2, 'b': 3}, 'id': 'call_vg7y', 'type': 'tool_call'}], usage_metadata={'input_tokens': 371, 'output_tokens': 19, 'total_tokens': 390})]}),))"
            ]
          },
          "metadata": {},
          "execution_count": 13
        }
      ]
    },
    {
      "cell_type": "code",
      "source": [
        "to_replay.values"
      ],
      "metadata": {
        "colab": {
          "base_uri": "https://localhost:8080/"
        },
        "id": "-wWWHHvc5P2a",
        "outputId": "5dadbc5d-e5ab-4881-c89c-82990667899e"
      },
      "execution_count": 14,
      "outputs": [
        {
          "output_type": "execute_result",
          "data": {
            "text/plain": [
              "{'messages': [HumanMessage(content='Multiply 2 and 3', additional_kwargs={}, response_metadata={}, id='5b04c2cd-0a7b-4ac3-8cad-0ed0d0c83efb')]}"
            ]
          },
          "metadata": {},
          "execution_count": 14
        }
      ]
    },
    {
      "cell_type": "code",
      "source": [
        "to_replay.next"
      ],
      "metadata": {
        "colab": {
          "base_uri": "https://localhost:8080/"
        },
        "id": "0lYG7YB75Qd5",
        "outputId": "a3ad14a2-58e5-42b2-e790-19b8eab19487"
      },
      "execution_count": 15,
      "outputs": [
        {
          "output_type": "execute_result",
          "data": {
            "text/plain": [
              "('assistant',)"
            ]
          },
          "metadata": {},
          "execution_count": 15
        }
      ]
    },
    {
      "cell_type": "code",
      "source": [
        "to_replay.config"
      ],
      "metadata": {
        "colab": {
          "base_uri": "https://localhost:8080/"
        },
        "id": "ajFJfbui5St7",
        "outputId": "81fac199-bbfd-4334-8c9d-65a1fe08bb9a"
      },
      "execution_count": 16,
      "outputs": [
        {
          "output_type": "execute_result",
          "data": {
            "text/plain": [
              "{'configurable': {'thread_id': '1',\n",
              "  'checkpoint_ns': '',\n",
              "  'checkpoint_id': '1f00cc0f-7615-6209-8000-61fb520ad7a7'}}"
            ]
          },
          "metadata": {},
          "execution_count": 16
        }
      ]
    },
    {
      "cell_type": "code",
      "source": [
        "for event in graph.stream(None, to_replay.config, stream_mode=\"values\"):\n",
        "    event['messages'][-1].pretty_print()"
      ],
      "metadata": {
        "colab": {
          "base_uri": "https://localhost:8080/"
        },
        "id": "fdZJEpJz5U1s",
        "outputId": "94e558bb-ed56-49d0-e573-164187d05b6a"
      },
      "execution_count": 17,
      "outputs": [
        {
          "output_type": "stream",
          "name": "stdout",
          "text": [
            "================================\u001b[1m Human Message \u001b[0m=================================\n",
            "\n",
            "Multiply 2 and 3\n",
            "==================================\u001b[1m Ai Message \u001b[0m==================================\n",
            "Tool Calls:\n",
            "  multiply (call_3mpj)\n",
            " Call ID: call_3mpj\n",
            "  Args:\n",
            "    a: 2\n",
            "    b: 3\n",
            "=================================\u001b[1m Tool Message \u001b[0m=================================\n",
            "Name: multiply\n",
            "\n",
            "6\n",
            "==================================\u001b[1m Ai Message \u001b[0m==================================\n",
            "\n",
            "The result of multiplying 2 and 3 is 6.\n"
          ]
        }
      ]
    },
    {
      "cell_type": "markdown",
      "source": [
        "Forking"
      ],
      "metadata": {
        "id": "YjHDByg15ZAI"
      }
    },
    {
      "cell_type": "code",
      "source": [
        "to_fork = all_states[-2]\n",
        "to_fork.values[\"messages\"]"
      ],
      "metadata": {
        "colab": {
          "base_uri": "https://localhost:8080/"
        },
        "id": "vzV_tE__5XJy",
        "outputId": "ea758e97-b810-4c58-a7b8-5d7dce4d2dc7"
      },
      "execution_count": 18,
      "outputs": [
        {
          "output_type": "execute_result",
          "data": {
            "text/plain": [
              "[HumanMessage(content='Multiply 2 and 3', additional_kwargs={}, response_metadata={}, id='5b04c2cd-0a7b-4ac3-8cad-0ed0d0c83efb')]"
            ]
          },
          "metadata": {},
          "execution_count": 18
        }
      ]
    },
    {
      "cell_type": "code",
      "source": [
        "to_fork.config"
      ],
      "metadata": {
        "colab": {
          "base_uri": "https://localhost:8080/"
        },
        "id": "77oajiVq5etw",
        "outputId": "337e8015-13d1-4c89-f768-bd059644a7f1"
      },
      "execution_count": 19,
      "outputs": [
        {
          "output_type": "execute_result",
          "data": {
            "text/plain": [
              "{'configurable': {'thread_id': '1',\n",
              "  'checkpoint_ns': '',\n",
              "  'checkpoint_id': '1f00cc0f-7615-6209-8000-61fb520ad7a7'}}"
            ]
          },
          "metadata": {},
          "execution_count": 19
        }
      ]
    },
    {
      "cell_type": "code",
      "source": [
        "fork_config = graph.update_state(\n",
        "    to_fork.config,\n",
        "    {\"messages\": [HumanMessage(content='Multiply 5 and 3',\n",
        "                               id=to_fork.values[\"messages\"][0].id)]},\n",
        ")"
      ],
      "metadata": {
        "id": "01BmqW9_5g9Q"
      },
      "execution_count": 20,
      "outputs": []
    },
    {
      "cell_type": "code",
      "source": [
        "fork_config"
      ],
      "metadata": {
        "colab": {
          "base_uri": "https://localhost:8080/"
        },
        "id": "swOMc_nP5jPH",
        "outputId": "17fbe537-a23a-4202-d2ba-4c520ad02745"
      },
      "execution_count": 21,
      "outputs": [
        {
          "output_type": "execute_result",
          "data": {
            "text/plain": [
              "{'configurable': {'thread_id': '1',\n",
              "  'checkpoint_ns': '',\n",
              "  'checkpoint_id': '1f00cc14-f464-651f-8001-7379fe017173'}}"
            ]
          },
          "metadata": {},
          "execution_count": 21
        }
      ]
    },
    {
      "cell_type": "code",
      "source": [
        "all_states = [state for state in graph.get_state_history(thread) ]\n",
        "all_states[0].values[\"messages\"]"
      ],
      "metadata": {
        "colab": {
          "base_uri": "https://localhost:8080/"
        },
        "id": "5XXS3bZF6Gjx",
        "outputId": "1f03189a-8f6b-4e86-e731-0b2d4258744c"
      },
      "execution_count": 22,
      "outputs": [
        {
          "output_type": "execute_result",
          "data": {
            "text/plain": [
              "[HumanMessage(content='Multiply 5 and 3', additional_kwargs={}, response_metadata={}, id='5b04c2cd-0a7b-4ac3-8cad-0ed0d0c83efb')]"
            ]
          },
          "metadata": {},
          "execution_count": 22
        }
      ]
    },
    {
      "cell_type": "code",
      "source": [
        "graph.get_state({'configurable': {'thread_id': '1'}})"
      ],
      "metadata": {
        "colab": {
          "base_uri": "https://localhost:8080/"
        },
        "id": "neZH2VHV6G3t",
        "outputId": "6fddf6b3-9e3c-4882-8856-63e1989f86fd"
      },
      "execution_count": 23,
      "outputs": [
        {
          "output_type": "execute_result",
          "data": {
            "text/plain": [
              "StateSnapshot(values={'messages': [HumanMessage(content='Multiply 5 and 3', additional_kwargs={}, response_metadata={}, id='5b04c2cd-0a7b-4ac3-8cad-0ed0d0c83efb')]}, next=('assistant',), config={'configurable': {'thread_id': '1', 'checkpoint_ns': '', 'checkpoint_id': '1f00cc14-f464-651f-8001-7379fe017173'}}, metadata={'source': 'update', 'writes': {'__start__': {'messages': [HumanMessage(content='Multiply 5 and 3', additional_kwargs={}, response_metadata={}, id='5b04c2cd-0a7b-4ac3-8cad-0ed0d0c83efb')]}}, 'thread_id': '1', 'step': 1, 'parents': {}, 'checkpoint_ns': '', 'checkpoint_id': '1f00cc0f-7615-6209-8000-61fb520ad7a7'}, created_at='2025-03-29T17:14:44.671169+00:00', parent_config={'configurable': {'thread_id': '1', 'checkpoint_ns': '', 'checkpoint_id': '1f00cc0f-7615-6209-8000-61fb520ad7a7'}}, tasks=(PregelTask(id='4718784e-8fe6-e02d-9218-83c978e8779b', name='assistant', path=('__pregel_pull', 'assistant'), error=None, interrupts=(), state=None, result=None),))"
            ]
          },
          "metadata": {},
          "execution_count": 23
        }
      ]
    },
    {
      "cell_type": "code",
      "source": [
        "for event in graph.stream(None, fork_config, stream_mode=\"values\"):\n",
        "    event['messages'][-1].pretty_print()"
      ],
      "metadata": {
        "colab": {
          "base_uri": "https://localhost:8080/"
        },
        "id": "wXcMDPAp6IVz",
        "outputId": "7c0cbf64-4b15-4286-ae05-12faecedf6eb"
      },
      "execution_count": 24,
      "outputs": [
        {
          "output_type": "stream",
          "name": "stdout",
          "text": [
            "================================\u001b[1m Human Message \u001b[0m=================================\n",
            "\n",
            "Multiply 5 and 3\n",
            "==================================\u001b[1m Ai Message \u001b[0m==================================\n",
            "Tool Calls:\n",
            "  multiply (call_3jbb)\n",
            " Call ID: call_3jbb\n",
            "  Args:\n",
            "    a: 5\n",
            "    b: 3\n",
            "=================================\u001b[1m Tool Message \u001b[0m=================================\n",
            "Name: multiply\n",
            "\n",
            "15\n",
            "==================================\u001b[1m Ai Message \u001b[0m==================================\n",
            "\n",
            "The result of multiplying 5 and 3 is 15.\n"
          ]
        }
      ]
    },
    {
      "cell_type": "code",
      "source": [
        "graph.get_state({'configurable': {'thread_id': '1'}})"
      ],
      "metadata": {
        "colab": {
          "base_uri": "https://localhost:8080/"
        },
        "id": "yAlbus6T6KNV",
        "outputId": "29583242-5c97-4406-dcb6-21ef0e38f87c"
      },
      "execution_count": 25,
      "outputs": [
        {
          "output_type": "execute_result",
          "data": {
            "text/plain": [
              "StateSnapshot(values={'messages': [HumanMessage(content='Multiply 5 and 3', additional_kwargs={}, response_metadata={}, id='5b04c2cd-0a7b-4ac3-8cad-0ed0d0c83efb'), AIMessage(content='', additional_kwargs={'tool_calls': [{'id': 'call_3jbb', 'function': {'arguments': '{\"a\": 5, \"b\": 3}', 'name': 'multiply'}, 'type': 'function'}]}, response_metadata={'token_usage': {'completion_tokens': 19, 'prompt_tokens': 371, 'total_tokens': 390, 'completion_time': 0.069090909, 'prompt_time': 0.023998461, 'queue_time': 0.10104147399999999, 'total_time': 0.09308937}, 'model_name': 'llama-3.3-70b-versatile', 'system_fingerprint': 'fp_90c1d253ff', 'finish_reason': 'tool_calls', 'logprobs': None}, id='run-1dda3870-1070-46b9-bb11-8fc2a9cd8767-0', tool_calls=[{'name': 'multiply', 'args': {'a': 5, 'b': 3}, 'id': 'call_3jbb', 'type': 'tool_call'}], usage_metadata={'input_tokens': 371, 'output_tokens': 19, 'total_tokens': 390}), ToolMessage(content='15', name='multiply', id='5ffb0f24-a526-48b6-bcf2-8df9364dd578', tool_call_id='call_3jbb'), AIMessage(content='The result of multiplying 5 and 3 is 15.', additional_kwargs={}, response_metadata={'token_usage': {'completion_tokens': 14, 'prompt_tokens': 401, 'total_tokens': 415, 'completion_time': 0.050909091, 'prompt_time': 0.033001471, 'queue_time': 0.101316142, 'total_time': 0.083910562}, 'model_name': 'llama-3.3-70b-versatile', 'system_fingerprint': 'fp_34555b7c20', 'finish_reason': 'stop', 'logprobs': None}, id='run-79b11014-4a53-41f5-a440-7bf3ad81f2ce-0', usage_metadata={'input_tokens': 401, 'output_tokens': 14, 'total_tokens': 415})]}, next=(), config={'configurable': {'thread_id': '1', 'checkpoint_ns': '', 'checkpoint_id': '1f00cc1b-361e-69be-8004-6aa012dd4085'}}, metadata={'source': 'loop', 'writes': {'assistant': {'messages': [AIMessage(content='The result of multiplying 5 and 3 is 15.', additional_kwargs={}, response_metadata={'token_usage': {'completion_tokens': 14, 'prompt_tokens': 401, 'total_tokens': 415, 'completion_time': 0.050909091, 'prompt_time': 0.033001471, 'queue_time': 0.101316142, 'total_time': 0.083910562}, 'model_name': 'llama-3.3-70b-versatile', 'system_fingerprint': 'fp_34555b7c20', 'finish_reason': 'stop', 'logprobs': None}, id='run-79b11014-4a53-41f5-a440-7bf3ad81f2ce-0', usage_metadata={'input_tokens': 401, 'output_tokens': 14, 'total_tokens': 415})]}}, 'thread_id': '1', 'checkpoint_ns': '', 'checkpoint_id': '1f00cc14-f464-651f-8001-7379fe017173', 'step': 4, 'parents': {}}, created_at='2025-03-29T17:17:32.624487+00:00', parent_config={'configurable': {'thread_id': '1', 'checkpoint_ns': '', 'checkpoint_id': '1f00cc1b-33b8-6d05-8003-5393ac2fd00d'}}, tasks=())"
            ]
          },
          "metadata": {},
          "execution_count": 25
        }
      ]
    }
  ]
}