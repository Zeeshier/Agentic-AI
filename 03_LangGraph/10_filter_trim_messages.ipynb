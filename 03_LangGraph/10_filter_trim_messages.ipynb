{
  "nbformat": 4,
  "nbformat_minor": 0,
  "metadata": {
    "colab": {
      "provenance": []
    },
    "kernelspec": {
      "name": "python3",
      "display_name": "Python 3"
    },
    "language_info": {
      "name": "python"
    },
    "widgets": {
      "application/vnd.jupyter.widget-state+json": {
        "bc0b40974f914996a6f193e0f838513b": {
          "model_module": "@jupyter-widgets/controls",
          "model_name": "HBoxModel",
          "model_module_version": "1.5.0",
          "state": {
            "_dom_classes": [],
            "_model_module": "@jupyter-widgets/controls",
            "_model_module_version": "1.5.0",
            "_model_name": "HBoxModel",
            "_view_count": null,
            "_view_module": "@jupyter-widgets/controls",
            "_view_module_version": "1.5.0",
            "_view_name": "HBoxView",
            "box_style": "",
            "children": [
              "IPY_MODEL_a9184ec1e3504d8b94110bed7b923628",
              "IPY_MODEL_79c63f964a684ea4beeb3a8f6773dbff",
              "IPY_MODEL_dfbaa2f382114919b1d94c2c7f85f0c8"
            ],
            "layout": "IPY_MODEL_99dee2fc12ab4906b6f9cdbf21216236"
          }
        },
        "a9184ec1e3504d8b94110bed7b923628": {
          "model_module": "@jupyter-widgets/controls",
          "model_name": "HTMLModel",
          "model_module_version": "1.5.0",
          "state": {
            "_dom_classes": [],
            "_model_module": "@jupyter-widgets/controls",
            "_model_module_version": "1.5.0",
            "_model_name": "HTMLModel",
            "_view_count": null,
            "_view_module": "@jupyter-widgets/controls",
            "_view_module_version": "1.5.0",
            "_view_name": "HTMLView",
            "description": "",
            "description_tooltip": null,
            "layout": "IPY_MODEL_dbc1024c0efa4fa89c277c60b5432d6c",
            "placeholder": "​",
            "style": "IPY_MODEL_471bf4552ded41a4b222c06a45a9578e",
            "value": "tokenizer_config.json: 100%"
          }
        },
        "79c63f964a684ea4beeb3a8f6773dbff": {
          "model_module": "@jupyter-widgets/controls",
          "model_name": "FloatProgressModel",
          "model_module_version": "1.5.0",
          "state": {
            "_dom_classes": [],
            "_model_module": "@jupyter-widgets/controls",
            "_model_module_version": "1.5.0",
            "_model_name": "FloatProgressModel",
            "_view_count": null,
            "_view_module": "@jupyter-widgets/controls",
            "_view_module_version": "1.5.0",
            "_view_name": "ProgressView",
            "bar_style": "success",
            "description": "",
            "description_tooltip": null,
            "layout": "IPY_MODEL_9725d9af764e4ef4ace960d1e657474a",
            "max": 26,
            "min": 0,
            "orientation": "horizontal",
            "style": "IPY_MODEL_259005e0b0df4a64a1e005080a57f587",
            "value": 26
          }
        },
        "dfbaa2f382114919b1d94c2c7f85f0c8": {
          "model_module": "@jupyter-widgets/controls",
          "model_name": "HTMLModel",
          "model_module_version": "1.5.0",
          "state": {
            "_dom_classes": [],
            "_model_module": "@jupyter-widgets/controls",
            "_model_module_version": "1.5.0",
            "_model_name": "HTMLModel",
            "_view_count": null,
            "_view_module": "@jupyter-widgets/controls",
            "_view_module_version": "1.5.0",
            "_view_name": "HTMLView",
            "description": "",
            "description_tooltip": null,
            "layout": "IPY_MODEL_092685437ec24b59a761148de09c1538",
            "placeholder": "​",
            "style": "IPY_MODEL_be9c2973b4c3432b9d02a0912a40b7b2",
            "value": " 26.0/26.0 [00:00&lt;00:00, 765B/s]"
          }
        },
        "99dee2fc12ab4906b6f9cdbf21216236": {
          "model_module": "@jupyter-widgets/base",
          "model_name": "LayoutModel",
          "model_module_version": "1.2.0",
          "state": {
            "_model_module": "@jupyter-widgets/base",
            "_model_module_version": "1.2.0",
            "_model_name": "LayoutModel",
            "_view_count": null,
            "_view_module": "@jupyter-widgets/base",
            "_view_module_version": "1.2.0",
            "_view_name": "LayoutView",
            "align_content": null,
            "align_items": null,
            "align_self": null,
            "border": null,
            "bottom": null,
            "display": null,
            "flex": null,
            "flex_flow": null,
            "grid_area": null,
            "grid_auto_columns": null,
            "grid_auto_flow": null,
            "grid_auto_rows": null,
            "grid_column": null,
            "grid_gap": null,
            "grid_row": null,
            "grid_template_areas": null,
            "grid_template_columns": null,
            "grid_template_rows": null,
            "height": null,
            "justify_content": null,
            "justify_items": null,
            "left": null,
            "margin": null,
            "max_height": null,
            "max_width": null,
            "min_height": null,
            "min_width": null,
            "object_fit": null,
            "object_position": null,
            "order": null,
            "overflow": null,
            "overflow_x": null,
            "overflow_y": null,
            "padding": null,
            "right": null,
            "top": null,
            "visibility": null,
            "width": null
          }
        },
        "dbc1024c0efa4fa89c277c60b5432d6c": {
          "model_module": "@jupyter-widgets/base",
          "model_name": "LayoutModel",
          "model_module_version": "1.2.0",
          "state": {
            "_model_module": "@jupyter-widgets/base",
            "_model_module_version": "1.2.0",
            "_model_name": "LayoutModel",
            "_view_count": null,
            "_view_module": "@jupyter-widgets/base",
            "_view_module_version": "1.2.0",
            "_view_name": "LayoutView",
            "align_content": null,
            "align_items": null,
            "align_self": null,
            "border": null,
            "bottom": null,
            "display": null,
            "flex": null,
            "flex_flow": null,
            "grid_area": null,
            "grid_auto_columns": null,
            "grid_auto_flow": null,
            "grid_auto_rows": null,
            "grid_column": null,
            "grid_gap": null,
            "grid_row": null,
            "grid_template_areas": null,
            "grid_template_columns": null,
            "grid_template_rows": null,
            "height": null,
            "justify_content": null,
            "justify_items": null,
            "left": null,
            "margin": null,
            "max_height": null,
            "max_width": null,
            "min_height": null,
            "min_width": null,
            "object_fit": null,
            "object_position": null,
            "order": null,
            "overflow": null,
            "overflow_x": null,
            "overflow_y": null,
            "padding": null,
            "right": null,
            "top": null,
            "visibility": null,
            "width": null
          }
        },
        "471bf4552ded41a4b222c06a45a9578e": {
          "model_module": "@jupyter-widgets/controls",
          "model_name": "DescriptionStyleModel",
          "model_module_version": "1.5.0",
          "state": {
            "_model_module": "@jupyter-widgets/controls",
            "_model_module_version": "1.5.0",
            "_model_name": "DescriptionStyleModel",
            "_view_count": null,
            "_view_module": "@jupyter-widgets/base",
            "_view_module_version": "1.2.0",
            "_view_name": "StyleView",
            "description_width": ""
          }
        },
        "9725d9af764e4ef4ace960d1e657474a": {
          "model_module": "@jupyter-widgets/base",
          "model_name": "LayoutModel",
          "model_module_version": "1.2.0",
          "state": {
            "_model_module": "@jupyter-widgets/base",
            "_model_module_version": "1.2.0",
            "_model_name": "LayoutModel",
            "_view_count": null,
            "_view_module": "@jupyter-widgets/base",
            "_view_module_version": "1.2.0",
            "_view_name": "LayoutView",
            "align_content": null,
            "align_items": null,
            "align_self": null,
            "border": null,
            "bottom": null,
            "display": null,
            "flex": null,
            "flex_flow": null,
            "grid_area": null,
            "grid_auto_columns": null,
            "grid_auto_flow": null,
            "grid_auto_rows": null,
            "grid_column": null,
            "grid_gap": null,
            "grid_row": null,
            "grid_template_areas": null,
            "grid_template_columns": null,
            "grid_template_rows": null,
            "height": null,
            "justify_content": null,
            "justify_items": null,
            "left": null,
            "margin": null,
            "max_height": null,
            "max_width": null,
            "min_height": null,
            "min_width": null,
            "object_fit": null,
            "object_position": null,
            "order": null,
            "overflow": null,
            "overflow_x": null,
            "overflow_y": null,
            "padding": null,
            "right": null,
            "top": null,
            "visibility": null,
            "width": null
          }
        },
        "259005e0b0df4a64a1e005080a57f587": {
          "model_module": "@jupyter-widgets/controls",
          "model_name": "ProgressStyleModel",
          "model_module_version": "1.5.0",
          "state": {
            "_model_module": "@jupyter-widgets/controls",
            "_model_module_version": "1.5.0",
            "_model_name": "ProgressStyleModel",
            "_view_count": null,
            "_view_module": "@jupyter-widgets/base",
            "_view_module_version": "1.2.0",
            "_view_name": "StyleView",
            "bar_color": null,
            "description_width": ""
          }
        },
        "092685437ec24b59a761148de09c1538": {
          "model_module": "@jupyter-widgets/base",
          "model_name": "LayoutModel",
          "model_module_version": "1.2.0",
          "state": {
            "_model_module": "@jupyter-widgets/base",
            "_model_module_version": "1.2.0",
            "_model_name": "LayoutModel",
            "_view_count": null,
            "_view_module": "@jupyter-widgets/base",
            "_view_module_version": "1.2.0",
            "_view_name": "LayoutView",
            "align_content": null,
            "align_items": null,
            "align_self": null,
            "border": null,
            "bottom": null,
            "display": null,
            "flex": null,
            "flex_flow": null,
            "grid_area": null,
            "grid_auto_columns": null,
            "grid_auto_flow": null,
            "grid_auto_rows": null,
            "grid_column": null,
            "grid_gap": null,
            "grid_row": null,
            "grid_template_areas": null,
            "grid_template_columns": null,
            "grid_template_rows": null,
            "height": null,
            "justify_content": null,
            "justify_items": null,
            "left": null,
            "margin": null,
            "max_height": null,
            "max_width": null,
            "min_height": null,
            "min_width": null,
            "object_fit": null,
            "object_position": null,
            "order": null,
            "overflow": null,
            "overflow_x": null,
            "overflow_y": null,
            "padding": null,
            "right": null,
            "top": null,
            "visibility": null,
            "width": null
          }
        },
        "be9c2973b4c3432b9d02a0912a40b7b2": {
          "model_module": "@jupyter-widgets/controls",
          "model_name": "DescriptionStyleModel",
          "model_module_version": "1.5.0",
          "state": {
            "_model_module": "@jupyter-widgets/controls",
            "_model_module_version": "1.5.0",
            "_model_name": "DescriptionStyleModel",
            "_view_count": null,
            "_view_module": "@jupyter-widgets/base",
            "_view_module_version": "1.2.0",
            "_view_name": "StyleView",
            "description_width": ""
          }
        },
        "4ff44b0840b04dde84ca6589b9fb4985": {
          "model_module": "@jupyter-widgets/controls",
          "model_name": "HBoxModel",
          "model_module_version": "1.5.0",
          "state": {
            "_dom_classes": [],
            "_model_module": "@jupyter-widgets/controls",
            "_model_module_version": "1.5.0",
            "_model_name": "HBoxModel",
            "_view_count": null,
            "_view_module": "@jupyter-widgets/controls",
            "_view_module_version": "1.5.0",
            "_view_name": "HBoxView",
            "box_style": "",
            "children": [
              "IPY_MODEL_61654b0fd08842b89f198e2388a00356",
              "IPY_MODEL_12c66237d9d84a06a0ac5d6fa1372a02",
              "IPY_MODEL_b8afa349fe804beeb28d2550b52d7e24"
            ],
            "layout": "IPY_MODEL_d6e0dc78aa774f05bac7ad17c29e9311"
          }
        },
        "61654b0fd08842b89f198e2388a00356": {
          "model_module": "@jupyter-widgets/controls",
          "model_name": "HTMLModel",
          "model_module_version": "1.5.0",
          "state": {
            "_dom_classes": [],
            "_model_module": "@jupyter-widgets/controls",
            "_model_module_version": "1.5.0",
            "_model_name": "HTMLModel",
            "_view_count": null,
            "_view_module": "@jupyter-widgets/controls",
            "_view_module_version": "1.5.0",
            "_view_name": "HTMLView",
            "description": "",
            "description_tooltip": null,
            "layout": "IPY_MODEL_010a98b58f734817b3000bca659547be",
            "placeholder": "​",
            "style": "IPY_MODEL_abe9e787b6b545fc983bbf9c00d510ce",
            "value": "vocab.json: 100%"
          }
        },
        "12c66237d9d84a06a0ac5d6fa1372a02": {
          "model_module": "@jupyter-widgets/controls",
          "model_name": "FloatProgressModel",
          "model_module_version": "1.5.0",
          "state": {
            "_dom_classes": [],
            "_model_module": "@jupyter-widgets/controls",
            "_model_module_version": "1.5.0",
            "_model_name": "FloatProgressModel",
            "_view_count": null,
            "_view_module": "@jupyter-widgets/controls",
            "_view_module_version": "1.5.0",
            "_view_name": "ProgressView",
            "bar_style": "success",
            "description": "",
            "description_tooltip": null,
            "layout": "IPY_MODEL_1f6642abc44e41358daa04ea2b8e01d6",
            "max": 1042301,
            "min": 0,
            "orientation": "horizontal",
            "style": "IPY_MODEL_44b45f739ce14e2d8fe7783250ed013d",
            "value": 1042301
          }
        },
        "b8afa349fe804beeb28d2550b52d7e24": {
          "model_module": "@jupyter-widgets/controls",
          "model_name": "HTMLModel",
          "model_module_version": "1.5.0",
          "state": {
            "_dom_classes": [],
            "_model_module": "@jupyter-widgets/controls",
            "_model_module_version": "1.5.0",
            "_model_name": "HTMLModel",
            "_view_count": null,
            "_view_module": "@jupyter-widgets/controls",
            "_view_module_version": "1.5.0",
            "_view_name": "HTMLView",
            "description": "",
            "description_tooltip": null,
            "layout": "IPY_MODEL_fc0086b360e242f8a3da8a47fae0ce1d",
            "placeholder": "​",
            "style": "IPY_MODEL_0d005f0856ed434996701e19ab6a6dd6",
            "value": " 1.04M/1.04M [00:00&lt;00:00, 5.05MB/s]"
          }
        },
        "d6e0dc78aa774f05bac7ad17c29e9311": {
          "model_module": "@jupyter-widgets/base",
          "model_name": "LayoutModel",
          "model_module_version": "1.2.0",
          "state": {
            "_model_module": "@jupyter-widgets/base",
            "_model_module_version": "1.2.0",
            "_model_name": "LayoutModel",
            "_view_count": null,
            "_view_module": "@jupyter-widgets/base",
            "_view_module_version": "1.2.0",
            "_view_name": "LayoutView",
            "align_content": null,
            "align_items": null,
            "align_self": null,
            "border": null,
            "bottom": null,
            "display": null,
            "flex": null,
            "flex_flow": null,
            "grid_area": null,
            "grid_auto_columns": null,
            "grid_auto_flow": null,
            "grid_auto_rows": null,
            "grid_column": null,
            "grid_gap": null,
            "grid_row": null,
            "grid_template_areas": null,
            "grid_template_columns": null,
            "grid_template_rows": null,
            "height": null,
            "justify_content": null,
            "justify_items": null,
            "left": null,
            "margin": null,
            "max_height": null,
            "max_width": null,
            "min_height": null,
            "min_width": null,
            "object_fit": null,
            "object_position": null,
            "order": null,
            "overflow": null,
            "overflow_x": null,
            "overflow_y": null,
            "padding": null,
            "right": null,
            "top": null,
            "visibility": null,
            "width": null
          }
        },
        "010a98b58f734817b3000bca659547be": {
          "model_module": "@jupyter-widgets/base",
          "model_name": "LayoutModel",
          "model_module_version": "1.2.0",
          "state": {
            "_model_module": "@jupyter-widgets/base",
            "_model_module_version": "1.2.0",
            "_model_name": "LayoutModel",
            "_view_count": null,
            "_view_module": "@jupyter-widgets/base",
            "_view_module_version": "1.2.0",
            "_view_name": "LayoutView",
            "align_content": null,
            "align_items": null,
            "align_self": null,
            "border": null,
            "bottom": null,
            "display": null,
            "flex": null,
            "flex_flow": null,
            "grid_area": null,
            "grid_auto_columns": null,
            "grid_auto_flow": null,
            "grid_auto_rows": null,
            "grid_column": null,
            "grid_gap": null,
            "grid_row": null,
            "grid_template_areas": null,
            "grid_template_columns": null,
            "grid_template_rows": null,
            "height": null,
            "justify_content": null,
            "justify_items": null,
            "left": null,
            "margin": null,
            "max_height": null,
            "max_width": null,
            "min_height": null,
            "min_width": null,
            "object_fit": null,
            "object_position": null,
            "order": null,
            "overflow": null,
            "overflow_x": null,
            "overflow_y": null,
            "padding": null,
            "right": null,
            "top": null,
            "visibility": null,
            "width": null
          }
        },
        "abe9e787b6b545fc983bbf9c00d510ce": {
          "model_module": "@jupyter-widgets/controls",
          "model_name": "DescriptionStyleModel",
          "model_module_version": "1.5.0",
          "state": {
            "_model_module": "@jupyter-widgets/controls",
            "_model_module_version": "1.5.0",
            "_model_name": "DescriptionStyleModel",
            "_view_count": null,
            "_view_module": "@jupyter-widgets/base",
            "_view_module_version": "1.2.0",
            "_view_name": "StyleView",
            "description_width": ""
          }
        },
        "1f6642abc44e41358daa04ea2b8e01d6": {
          "model_module": "@jupyter-widgets/base",
          "model_name": "LayoutModel",
          "model_module_version": "1.2.0",
          "state": {
            "_model_module": "@jupyter-widgets/base",
            "_model_module_version": "1.2.0",
            "_model_name": "LayoutModel",
            "_view_count": null,
            "_view_module": "@jupyter-widgets/base",
            "_view_module_version": "1.2.0",
            "_view_name": "LayoutView",
            "align_content": null,
            "align_items": null,
            "align_self": null,
            "border": null,
            "bottom": null,
            "display": null,
            "flex": null,
            "flex_flow": null,
            "grid_area": null,
            "grid_auto_columns": null,
            "grid_auto_flow": null,
            "grid_auto_rows": null,
            "grid_column": null,
            "grid_gap": null,
            "grid_row": null,
            "grid_template_areas": null,
            "grid_template_columns": null,
            "grid_template_rows": null,
            "height": null,
            "justify_content": null,
            "justify_items": null,
            "left": null,
            "margin": null,
            "max_height": null,
            "max_width": null,
            "min_height": null,
            "min_width": null,
            "object_fit": null,
            "object_position": null,
            "order": null,
            "overflow": null,
            "overflow_x": null,
            "overflow_y": null,
            "padding": null,
            "right": null,
            "top": null,
            "visibility": null,
            "width": null
          }
        },
        "44b45f739ce14e2d8fe7783250ed013d": {
          "model_module": "@jupyter-widgets/controls",
          "model_name": "ProgressStyleModel",
          "model_module_version": "1.5.0",
          "state": {
            "_model_module": "@jupyter-widgets/controls",
            "_model_module_version": "1.5.0",
            "_model_name": "ProgressStyleModel",
            "_view_count": null,
            "_view_module": "@jupyter-widgets/base",
            "_view_module_version": "1.2.0",
            "_view_name": "StyleView",
            "bar_color": null,
            "description_width": ""
          }
        },
        "fc0086b360e242f8a3da8a47fae0ce1d": {
          "model_module": "@jupyter-widgets/base",
          "model_name": "LayoutModel",
          "model_module_version": "1.2.0",
          "state": {
            "_model_module": "@jupyter-widgets/base",
            "_model_module_version": "1.2.0",
            "_model_name": "LayoutModel",
            "_view_count": null,
            "_view_module": "@jupyter-widgets/base",
            "_view_module_version": "1.2.0",
            "_view_name": "LayoutView",
            "align_content": null,
            "align_items": null,
            "align_self": null,
            "border": null,
            "bottom": null,
            "display": null,
            "flex": null,
            "flex_flow": null,
            "grid_area": null,
            "grid_auto_columns": null,
            "grid_auto_flow": null,
            "grid_auto_rows": null,
            "grid_column": null,
            "grid_gap": null,
            "grid_row": null,
            "grid_template_areas": null,
            "grid_template_columns": null,
            "grid_template_rows": null,
            "height": null,
            "justify_content": null,
            "justify_items": null,
            "left": null,
            "margin": null,
            "max_height": null,
            "max_width": null,
            "min_height": null,
            "min_width": null,
            "object_fit": null,
            "object_position": null,
            "order": null,
            "overflow": null,
            "overflow_x": null,
            "overflow_y": null,
            "padding": null,
            "right": null,
            "top": null,
            "visibility": null,
            "width": null
          }
        },
        "0d005f0856ed434996701e19ab6a6dd6": {
          "model_module": "@jupyter-widgets/controls",
          "model_name": "DescriptionStyleModel",
          "model_module_version": "1.5.0",
          "state": {
            "_model_module": "@jupyter-widgets/controls",
            "_model_module_version": "1.5.0",
            "_model_name": "DescriptionStyleModel",
            "_view_count": null,
            "_view_module": "@jupyter-widgets/base",
            "_view_module_version": "1.2.0",
            "_view_name": "StyleView",
            "description_width": ""
          }
        },
        "7aa441dcd54a4afea14666a8a493686f": {
          "model_module": "@jupyter-widgets/controls",
          "model_name": "HBoxModel",
          "model_module_version": "1.5.0",
          "state": {
            "_dom_classes": [],
            "_model_module": "@jupyter-widgets/controls",
            "_model_module_version": "1.5.0",
            "_model_name": "HBoxModel",
            "_view_count": null,
            "_view_module": "@jupyter-widgets/controls",
            "_view_module_version": "1.5.0",
            "_view_name": "HBoxView",
            "box_style": "",
            "children": [
              "IPY_MODEL_3934219b315a49d1af9902e984224bfc",
              "IPY_MODEL_53cfc1a1df12441c921b610f10be8db9",
              "IPY_MODEL_dbb324874fdb46edbc3d4ea40c05d6db"
            ],
            "layout": "IPY_MODEL_d29e774110bc4439ba643977005487a2"
          }
        },
        "3934219b315a49d1af9902e984224bfc": {
          "model_module": "@jupyter-widgets/controls",
          "model_name": "HTMLModel",
          "model_module_version": "1.5.0",
          "state": {
            "_dom_classes": [],
            "_model_module": "@jupyter-widgets/controls",
            "_model_module_version": "1.5.0",
            "_model_name": "HTMLModel",
            "_view_count": null,
            "_view_module": "@jupyter-widgets/controls",
            "_view_module_version": "1.5.0",
            "_view_name": "HTMLView",
            "description": "",
            "description_tooltip": null,
            "layout": "IPY_MODEL_3e675e0d80a549d7a614482ec52e2da1",
            "placeholder": "​",
            "style": "IPY_MODEL_da4eee7ab4764f348ed86930b0f113f0",
            "value": "merges.txt: 100%"
          }
        },
        "53cfc1a1df12441c921b610f10be8db9": {
          "model_module": "@jupyter-widgets/controls",
          "model_name": "FloatProgressModel",
          "model_module_version": "1.5.0",
          "state": {
            "_dom_classes": [],
            "_model_module": "@jupyter-widgets/controls",
            "_model_module_version": "1.5.0",
            "_model_name": "FloatProgressModel",
            "_view_count": null,
            "_view_module": "@jupyter-widgets/controls",
            "_view_module_version": "1.5.0",
            "_view_name": "ProgressView",
            "bar_style": "success",
            "description": "",
            "description_tooltip": null,
            "layout": "IPY_MODEL_a03a68a37454425893667425f7a9f77c",
            "max": 456318,
            "min": 0,
            "orientation": "horizontal",
            "style": "IPY_MODEL_8f1ac65861244e3e9af14edfce212238",
            "value": 456318
          }
        },
        "dbb324874fdb46edbc3d4ea40c05d6db": {
          "model_module": "@jupyter-widgets/controls",
          "model_name": "HTMLModel",
          "model_module_version": "1.5.0",
          "state": {
            "_dom_classes": [],
            "_model_module": "@jupyter-widgets/controls",
            "_model_module_version": "1.5.0",
            "_model_name": "HTMLModel",
            "_view_count": null,
            "_view_module": "@jupyter-widgets/controls",
            "_view_module_version": "1.5.0",
            "_view_name": "HTMLView",
            "description": "",
            "description_tooltip": null,
            "layout": "IPY_MODEL_e023fba4fa0a466f9565db30f9ce91df",
            "placeholder": "​",
            "style": "IPY_MODEL_8400b7c4a9264d469eb418921c9861a1",
            "value": " 456k/456k [00:00&lt;00:00, 14.2MB/s]"
          }
        },
        "d29e774110bc4439ba643977005487a2": {
          "model_module": "@jupyter-widgets/base",
          "model_name": "LayoutModel",
          "model_module_version": "1.2.0",
          "state": {
            "_model_module": "@jupyter-widgets/base",
            "_model_module_version": "1.2.0",
            "_model_name": "LayoutModel",
            "_view_count": null,
            "_view_module": "@jupyter-widgets/base",
            "_view_module_version": "1.2.0",
            "_view_name": "LayoutView",
            "align_content": null,
            "align_items": null,
            "align_self": null,
            "border": null,
            "bottom": null,
            "display": null,
            "flex": null,
            "flex_flow": null,
            "grid_area": null,
            "grid_auto_columns": null,
            "grid_auto_flow": null,
            "grid_auto_rows": null,
            "grid_column": null,
            "grid_gap": null,
            "grid_row": null,
            "grid_template_areas": null,
            "grid_template_columns": null,
            "grid_template_rows": null,
            "height": null,
            "justify_content": null,
            "justify_items": null,
            "left": null,
            "margin": null,
            "max_height": null,
            "max_width": null,
            "min_height": null,
            "min_width": null,
            "object_fit": null,
            "object_position": null,
            "order": null,
            "overflow": null,
            "overflow_x": null,
            "overflow_y": null,
            "padding": null,
            "right": null,
            "top": null,
            "visibility": null,
            "width": null
          }
        },
        "3e675e0d80a549d7a614482ec52e2da1": {
          "model_module": "@jupyter-widgets/base",
          "model_name": "LayoutModel",
          "model_module_version": "1.2.0",
          "state": {
            "_model_module": "@jupyter-widgets/base",
            "_model_module_version": "1.2.0",
            "_model_name": "LayoutModel",
            "_view_count": null,
            "_view_module": "@jupyter-widgets/base",
            "_view_module_version": "1.2.0",
            "_view_name": "LayoutView",
            "align_content": null,
            "align_items": null,
            "align_self": null,
            "border": null,
            "bottom": null,
            "display": null,
            "flex": null,
            "flex_flow": null,
            "grid_area": null,
            "grid_auto_columns": null,
            "grid_auto_flow": null,
            "grid_auto_rows": null,
            "grid_column": null,
            "grid_gap": null,
            "grid_row": null,
            "grid_template_areas": null,
            "grid_template_columns": null,
            "grid_template_rows": null,
            "height": null,
            "justify_content": null,
            "justify_items": null,
            "left": null,
            "margin": null,
            "max_height": null,
            "max_width": null,
            "min_height": null,
            "min_width": null,
            "object_fit": null,
            "object_position": null,
            "order": null,
            "overflow": null,
            "overflow_x": null,
            "overflow_y": null,
            "padding": null,
            "right": null,
            "top": null,
            "visibility": null,
            "width": null
          }
        },
        "da4eee7ab4764f348ed86930b0f113f0": {
          "model_module": "@jupyter-widgets/controls",
          "model_name": "DescriptionStyleModel",
          "model_module_version": "1.5.0",
          "state": {
            "_model_module": "@jupyter-widgets/controls",
            "_model_module_version": "1.5.0",
            "_model_name": "DescriptionStyleModel",
            "_view_count": null,
            "_view_module": "@jupyter-widgets/base",
            "_view_module_version": "1.2.0",
            "_view_name": "StyleView",
            "description_width": ""
          }
        },
        "a03a68a37454425893667425f7a9f77c": {
          "model_module": "@jupyter-widgets/base",
          "model_name": "LayoutModel",
          "model_module_version": "1.2.0",
          "state": {
            "_model_module": "@jupyter-widgets/base",
            "_model_module_version": "1.2.0",
            "_model_name": "LayoutModel",
            "_view_count": null,
            "_view_module": "@jupyter-widgets/base",
            "_view_module_version": "1.2.0",
            "_view_name": "LayoutView",
            "align_content": null,
            "align_items": null,
            "align_self": null,
            "border": null,
            "bottom": null,
            "display": null,
            "flex": null,
            "flex_flow": null,
            "grid_area": null,
            "grid_auto_columns": null,
            "grid_auto_flow": null,
            "grid_auto_rows": null,
            "grid_column": null,
            "grid_gap": null,
            "grid_row": null,
            "grid_template_areas": null,
            "grid_template_columns": null,
            "grid_template_rows": null,
            "height": null,
            "justify_content": null,
            "justify_items": null,
            "left": null,
            "margin": null,
            "max_height": null,
            "max_width": null,
            "min_height": null,
            "min_width": null,
            "object_fit": null,
            "object_position": null,
            "order": null,
            "overflow": null,
            "overflow_x": null,
            "overflow_y": null,
            "padding": null,
            "right": null,
            "top": null,
            "visibility": null,
            "width": null
          }
        },
        "8f1ac65861244e3e9af14edfce212238": {
          "model_module": "@jupyter-widgets/controls",
          "model_name": "ProgressStyleModel",
          "model_module_version": "1.5.0",
          "state": {
            "_model_module": "@jupyter-widgets/controls",
            "_model_module_version": "1.5.0",
            "_model_name": "ProgressStyleModel",
            "_view_count": null,
            "_view_module": "@jupyter-widgets/base",
            "_view_module_version": "1.2.0",
            "_view_name": "StyleView",
            "bar_color": null,
            "description_width": ""
          }
        },
        "e023fba4fa0a466f9565db30f9ce91df": {
          "model_module": "@jupyter-widgets/base",
          "model_name": "LayoutModel",
          "model_module_version": "1.2.0",
          "state": {
            "_model_module": "@jupyter-widgets/base",
            "_model_module_version": "1.2.0",
            "_model_name": "LayoutModel",
            "_view_count": null,
            "_view_module": "@jupyter-widgets/base",
            "_view_module_version": "1.2.0",
            "_view_name": "LayoutView",
            "align_content": null,
            "align_items": null,
            "align_self": null,
            "border": null,
            "bottom": null,
            "display": null,
            "flex": null,
            "flex_flow": null,
            "grid_area": null,
            "grid_auto_columns": null,
            "grid_auto_flow": null,
            "grid_auto_rows": null,
            "grid_column": null,
            "grid_gap": null,
            "grid_row": null,
            "grid_template_areas": null,
            "grid_template_columns": null,
            "grid_template_rows": null,
            "height": null,
            "justify_content": null,
            "justify_items": null,
            "left": null,
            "margin": null,
            "max_height": null,
            "max_width": null,
            "min_height": null,
            "min_width": null,
            "object_fit": null,
            "object_position": null,
            "order": null,
            "overflow": null,
            "overflow_x": null,
            "overflow_y": null,
            "padding": null,
            "right": null,
            "top": null,
            "visibility": null,
            "width": null
          }
        },
        "8400b7c4a9264d469eb418921c9861a1": {
          "model_module": "@jupyter-widgets/controls",
          "model_name": "DescriptionStyleModel",
          "model_module_version": "1.5.0",
          "state": {
            "_model_module": "@jupyter-widgets/controls",
            "_model_module_version": "1.5.0",
            "_model_name": "DescriptionStyleModel",
            "_view_count": null,
            "_view_module": "@jupyter-widgets/base",
            "_view_module_version": "1.2.0",
            "_view_name": "StyleView",
            "description_width": ""
          }
        },
        "919dd8ca4e0d4c24aca5eb52710118b4": {
          "model_module": "@jupyter-widgets/controls",
          "model_name": "HBoxModel",
          "model_module_version": "1.5.0",
          "state": {
            "_dom_classes": [],
            "_model_module": "@jupyter-widgets/controls",
            "_model_module_version": "1.5.0",
            "_model_name": "HBoxModel",
            "_view_count": null,
            "_view_module": "@jupyter-widgets/controls",
            "_view_module_version": "1.5.0",
            "_view_name": "HBoxView",
            "box_style": "",
            "children": [
              "IPY_MODEL_fa44daad97ce4378a16a046fd84654b1",
              "IPY_MODEL_d07cbc0a83b24013afbb5fc94e04a357",
              "IPY_MODEL_18acd4baec094502ac791a94062b9c4d"
            ],
            "layout": "IPY_MODEL_d855856c1c4c475092d891b2f59880bd"
          }
        },
        "fa44daad97ce4378a16a046fd84654b1": {
          "model_module": "@jupyter-widgets/controls",
          "model_name": "HTMLModel",
          "model_module_version": "1.5.0",
          "state": {
            "_dom_classes": [],
            "_model_module": "@jupyter-widgets/controls",
            "_model_module_version": "1.5.0",
            "_model_name": "HTMLModel",
            "_view_count": null,
            "_view_module": "@jupyter-widgets/controls",
            "_view_module_version": "1.5.0",
            "_view_name": "HTMLView",
            "description": "",
            "description_tooltip": null,
            "layout": "IPY_MODEL_47838f65b6fb4bc489526c55ac7c5479",
            "placeholder": "​",
            "style": "IPY_MODEL_079885d779c54aa28ae48b1a46746e22",
            "value": "tokenizer.json: 100%"
          }
        },
        "d07cbc0a83b24013afbb5fc94e04a357": {
          "model_module": "@jupyter-widgets/controls",
          "model_name": "FloatProgressModel",
          "model_module_version": "1.5.0",
          "state": {
            "_dom_classes": [],
            "_model_module": "@jupyter-widgets/controls",
            "_model_module_version": "1.5.0",
            "_model_name": "FloatProgressModel",
            "_view_count": null,
            "_view_module": "@jupyter-widgets/controls",
            "_view_module_version": "1.5.0",
            "_view_name": "ProgressView",
            "bar_style": "success",
            "description": "",
            "description_tooltip": null,
            "layout": "IPY_MODEL_87e4ba387b67436d9ca2a39e0d856787",
            "max": 1355256,
            "min": 0,
            "orientation": "horizontal",
            "style": "IPY_MODEL_e2fc6e97f9814142883369ce4010bf84",
            "value": 1355256
          }
        },
        "18acd4baec094502ac791a94062b9c4d": {
          "model_module": "@jupyter-widgets/controls",
          "model_name": "HTMLModel",
          "model_module_version": "1.5.0",
          "state": {
            "_dom_classes": [],
            "_model_module": "@jupyter-widgets/controls",
            "_model_module_version": "1.5.0",
            "_model_name": "HTMLModel",
            "_view_count": null,
            "_view_module": "@jupyter-widgets/controls",
            "_view_module_version": "1.5.0",
            "_view_name": "HTMLView",
            "description": "",
            "description_tooltip": null,
            "layout": "IPY_MODEL_1b78c2110fe64c1fb30756c37773254a",
            "placeholder": "​",
            "style": "IPY_MODEL_9310af066f814c2d9b0642949c33a06f",
            "value": " 1.36M/1.36M [00:00&lt;00:00, 14.0MB/s]"
          }
        },
        "d855856c1c4c475092d891b2f59880bd": {
          "model_module": "@jupyter-widgets/base",
          "model_name": "LayoutModel",
          "model_module_version": "1.2.0",
          "state": {
            "_model_module": "@jupyter-widgets/base",
            "_model_module_version": "1.2.0",
            "_model_name": "LayoutModel",
            "_view_count": null,
            "_view_module": "@jupyter-widgets/base",
            "_view_module_version": "1.2.0",
            "_view_name": "LayoutView",
            "align_content": null,
            "align_items": null,
            "align_self": null,
            "border": null,
            "bottom": null,
            "display": null,
            "flex": null,
            "flex_flow": null,
            "grid_area": null,
            "grid_auto_columns": null,
            "grid_auto_flow": null,
            "grid_auto_rows": null,
            "grid_column": null,
            "grid_gap": null,
            "grid_row": null,
            "grid_template_areas": null,
            "grid_template_columns": null,
            "grid_template_rows": null,
            "height": null,
            "justify_content": null,
            "justify_items": null,
            "left": null,
            "margin": null,
            "max_height": null,
            "max_width": null,
            "min_height": null,
            "min_width": null,
            "object_fit": null,
            "object_position": null,
            "order": null,
            "overflow": null,
            "overflow_x": null,
            "overflow_y": null,
            "padding": null,
            "right": null,
            "top": null,
            "visibility": null,
            "width": null
          }
        },
        "47838f65b6fb4bc489526c55ac7c5479": {
          "model_module": "@jupyter-widgets/base",
          "model_name": "LayoutModel",
          "model_module_version": "1.2.0",
          "state": {
            "_model_module": "@jupyter-widgets/base",
            "_model_module_version": "1.2.0",
            "_model_name": "LayoutModel",
            "_view_count": null,
            "_view_module": "@jupyter-widgets/base",
            "_view_module_version": "1.2.0",
            "_view_name": "LayoutView",
            "align_content": null,
            "align_items": null,
            "align_self": null,
            "border": null,
            "bottom": null,
            "display": null,
            "flex": null,
            "flex_flow": null,
            "grid_area": null,
            "grid_auto_columns": null,
            "grid_auto_flow": null,
            "grid_auto_rows": null,
            "grid_column": null,
            "grid_gap": null,
            "grid_row": null,
            "grid_template_areas": null,
            "grid_template_columns": null,
            "grid_template_rows": null,
            "height": null,
            "justify_content": null,
            "justify_items": null,
            "left": null,
            "margin": null,
            "max_height": null,
            "max_width": null,
            "min_height": null,
            "min_width": null,
            "object_fit": null,
            "object_position": null,
            "order": null,
            "overflow": null,
            "overflow_x": null,
            "overflow_y": null,
            "padding": null,
            "right": null,
            "top": null,
            "visibility": null,
            "width": null
          }
        },
        "079885d779c54aa28ae48b1a46746e22": {
          "model_module": "@jupyter-widgets/controls",
          "model_name": "DescriptionStyleModel",
          "model_module_version": "1.5.0",
          "state": {
            "_model_module": "@jupyter-widgets/controls",
            "_model_module_version": "1.5.0",
            "_model_name": "DescriptionStyleModel",
            "_view_count": null,
            "_view_module": "@jupyter-widgets/base",
            "_view_module_version": "1.2.0",
            "_view_name": "StyleView",
            "description_width": ""
          }
        },
        "87e4ba387b67436d9ca2a39e0d856787": {
          "model_module": "@jupyter-widgets/base",
          "model_name": "LayoutModel",
          "model_module_version": "1.2.0",
          "state": {
            "_model_module": "@jupyter-widgets/base",
            "_model_module_version": "1.2.0",
            "_model_name": "LayoutModel",
            "_view_count": null,
            "_view_module": "@jupyter-widgets/base",
            "_view_module_version": "1.2.0",
            "_view_name": "LayoutView",
            "align_content": null,
            "align_items": null,
            "align_self": null,
            "border": null,
            "bottom": null,
            "display": null,
            "flex": null,
            "flex_flow": null,
            "grid_area": null,
            "grid_auto_columns": null,
            "grid_auto_flow": null,
            "grid_auto_rows": null,
            "grid_column": null,
            "grid_gap": null,
            "grid_row": null,
            "grid_template_areas": null,
            "grid_template_columns": null,
            "grid_template_rows": null,
            "height": null,
            "justify_content": null,
            "justify_items": null,
            "left": null,
            "margin": null,
            "max_height": null,
            "max_width": null,
            "min_height": null,
            "min_width": null,
            "object_fit": null,
            "object_position": null,
            "order": null,
            "overflow": null,
            "overflow_x": null,
            "overflow_y": null,
            "padding": null,
            "right": null,
            "top": null,
            "visibility": null,
            "width": null
          }
        },
        "e2fc6e97f9814142883369ce4010bf84": {
          "model_module": "@jupyter-widgets/controls",
          "model_name": "ProgressStyleModel",
          "model_module_version": "1.5.0",
          "state": {
            "_model_module": "@jupyter-widgets/controls",
            "_model_module_version": "1.5.0",
            "_model_name": "ProgressStyleModel",
            "_view_count": null,
            "_view_module": "@jupyter-widgets/base",
            "_view_module_version": "1.2.0",
            "_view_name": "StyleView",
            "bar_color": null,
            "description_width": ""
          }
        },
        "1b78c2110fe64c1fb30756c37773254a": {
          "model_module": "@jupyter-widgets/base",
          "model_name": "LayoutModel",
          "model_module_version": "1.2.0",
          "state": {
            "_model_module": "@jupyter-widgets/base",
            "_model_module_version": "1.2.0",
            "_model_name": "LayoutModel",
            "_view_count": null,
            "_view_module": "@jupyter-widgets/base",
            "_view_module_version": "1.2.0",
            "_view_name": "LayoutView",
            "align_content": null,
            "align_items": null,
            "align_self": null,
            "border": null,
            "bottom": null,
            "display": null,
            "flex": null,
            "flex_flow": null,
            "grid_area": null,
            "grid_auto_columns": null,
            "grid_auto_flow": null,
            "grid_auto_rows": null,
            "grid_column": null,
            "grid_gap": null,
            "grid_row": null,
            "grid_template_areas": null,
            "grid_template_columns": null,
            "grid_template_rows": null,
            "height": null,
            "justify_content": null,
            "justify_items": null,
            "left": null,
            "margin": null,
            "max_height": null,
            "max_width": null,
            "min_height": null,
            "min_width": null,
            "object_fit": null,
            "object_position": null,
            "order": null,
            "overflow": null,
            "overflow_x": null,
            "overflow_y": null,
            "padding": null,
            "right": null,
            "top": null,
            "visibility": null,
            "width": null
          }
        },
        "9310af066f814c2d9b0642949c33a06f": {
          "model_module": "@jupyter-widgets/controls",
          "model_name": "DescriptionStyleModel",
          "model_module_version": "1.5.0",
          "state": {
            "_model_module": "@jupyter-widgets/controls",
            "_model_module_version": "1.5.0",
            "_model_name": "DescriptionStyleModel",
            "_view_count": null,
            "_view_module": "@jupyter-widgets/base",
            "_view_module_version": "1.2.0",
            "_view_name": "StyleView",
            "description_width": ""
          }
        },
        "9b42938b0b8d47be835fbb614a527131": {
          "model_module": "@jupyter-widgets/controls",
          "model_name": "HBoxModel",
          "model_module_version": "1.5.0",
          "state": {
            "_dom_classes": [],
            "_model_module": "@jupyter-widgets/controls",
            "_model_module_version": "1.5.0",
            "_model_name": "HBoxModel",
            "_view_count": null,
            "_view_module": "@jupyter-widgets/controls",
            "_view_module_version": "1.5.0",
            "_view_name": "HBoxView",
            "box_style": "",
            "children": [
              "IPY_MODEL_c71bfe38eaa64bfc87924a9402aab161",
              "IPY_MODEL_5f9c129607cf4867aa8f8cbe4e9f85bc",
              "IPY_MODEL_138b1d0921fd40a99f7f9c5a7f935e70"
            ],
            "layout": "IPY_MODEL_8367ecf89b0e4bfba920305652846f5b"
          }
        },
        "c71bfe38eaa64bfc87924a9402aab161": {
          "model_module": "@jupyter-widgets/controls",
          "model_name": "HTMLModel",
          "model_module_version": "1.5.0",
          "state": {
            "_dom_classes": [],
            "_model_module": "@jupyter-widgets/controls",
            "_model_module_version": "1.5.0",
            "_model_name": "HTMLModel",
            "_view_count": null,
            "_view_module": "@jupyter-widgets/controls",
            "_view_module_version": "1.5.0",
            "_view_name": "HTMLView",
            "description": "",
            "description_tooltip": null,
            "layout": "IPY_MODEL_e7e408dd8c1d4b2bb2a09e0df46f186a",
            "placeholder": "​",
            "style": "IPY_MODEL_e02ed7113ea444c999b65ebc257ea2df",
            "value": "config.json: 100%"
          }
        },
        "5f9c129607cf4867aa8f8cbe4e9f85bc": {
          "model_module": "@jupyter-widgets/controls",
          "model_name": "FloatProgressModel",
          "model_module_version": "1.5.0",
          "state": {
            "_dom_classes": [],
            "_model_module": "@jupyter-widgets/controls",
            "_model_module_version": "1.5.0",
            "_model_name": "FloatProgressModel",
            "_view_count": null,
            "_view_module": "@jupyter-widgets/controls",
            "_view_module_version": "1.5.0",
            "_view_name": "ProgressView",
            "bar_style": "success",
            "description": "",
            "description_tooltip": null,
            "layout": "IPY_MODEL_660879f6cb3b40cc8cca711b36a4936a",
            "max": 665,
            "min": 0,
            "orientation": "horizontal",
            "style": "IPY_MODEL_a46ee777480d44b8b93b127145fd6d22",
            "value": 665
          }
        },
        "138b1d0921fd40a99f7f9c5a7f935e70": {
          "model_module": "@jupyter-widgets/controls",
          "model_name": "HTMLModel",
          "model_module_version": "1.5.0",
          "state": {
            "_dom_classes": [],
            "_model_module": "@jupyter-widgets/controls",
            "_model_module_version": "1.5.0",
            "_model_name": "HTMLModel",
            "_view_count": null,
            "_view_module": "@jupyter-widgets/controls",
            "_view_module_version": "1.5.0",
            "_view_name": "HTMLView",
            "description": "",
            "description_tooltip": null,
            "layout": "IPY_MODEL_77d931757e9f47feb8fd47efce751f8c",
            "placeholder": "​",
            "style": "IPY_MODEL_5ba7acd63fb44d7d86978ae646bb595f",
            "value": " 665/665 [00:00&lt;00:00, 28.9kB/s]"
          }
        },
        "8367ecf89b0e4bfba920305652846f5b": {
          "model_module": "@jupyter-widgets/base",
          "model_name": "LayoutModel",
          "model_module_version": "1.2.0",
          "state": {
            "_model_module": "@jupyter-widgets/base",
            "_model_module_version": "1.2.0",
            "_model_name": "LayoutModel",
            "_view_count": null,
            "_view_module": "@jupyter-widgets/base",
            "_view_module_version": "1.2.0",
            "_view_name": "LayoutView",
            "align_content": null,
            "align_items": null,
            "align_self": null,
            "border": null,
            "bottom": null,
            "display": null,
            "flex": null,
            "flex_flow": null,
            "grid_area": null,
            "grid_auto_columns": null,
            "grid_auto_flow": null,
            "grid_auto_rows": null,
            "grid_column": null,
            "grid_gap": null,
            "grid_row": null,
            "grid_template_areas": null,
            "grid_template_columns": null,
            "grid_template_rows": null,
            "height": null,
            "justify_content": null,
            "justify_items": null,
            "left": null,
            "margin": null,
            "max_height": null,
            "max_width": null,
            "min_height": null,
            "min_width": null,
            "object_fit": null,
            "object_position": null,
            "order": null,
            "overflow": null,
            "overflow_x": null,
            "overflow_y": null,
            "padding": null,
            "right": null,
            "top": null,
            "visibility": null,
            "width": null
          }
        },
        "e7e408dd8c1d4b2bb2a09e0df46f186a": {
          "model_module": "@jupyter-widgets/base",
          "model_name": "LayoutModel",
          "model_module_version": "1.2.0",
          "state": {
            "_model_module": "@jupyter-widgets/base",
            "_model_module_version": "1.2.0",
            "_model_name": "LayoutModel",
            "_view_count": null,
            "_view_module": "@jupyter-widgets/base",
            "_view_module_version": "1.2.0",
            "_view_name": "LayoutView",
            "align_content": null,
            "align_items": null,
            "align_self": null,
            "border": null,
            "bottom": null,
            "display": null,
            "flex": null,
            "flex_flow": null,
            "grid_area": null,
            "grid_auto_columns": null,
            "grid_auto_flow": null,
            "grid_auto_rows": null,
            "grid_column": null,
            "grid_gap": null,
            "grid_row": null,
            "grid_template_areas": null,
            "grid_template_columns": null,
            "grid_template_rows": null,
            "height": null,
            "justify_content": null,
            "justify_items": null,
            "left": null,
            "margin": null,
            "max_height": null,
            "max_width": null,
            "min_height": null,
            "min_width": null,
            "object_fit": null,
            "object_position": null,
            "order": null,
            "overflow": null,
            "overflow_x": null,
            "overflow_y": null,
            "padding": null,
            "right": null,
            "top": null,
            "visibility": null,
            "width": null
          }
        },
        "e02ed7113ea444c999b65ebc257ea2df": {
          "model_module": "@jupyter-widgets/controls",
          "model_name": "DescriptionStyleModel",
          "model_module_version": "1.5.0",
          "state": {
            "_model_module": "@jupyter-widgets/controls",
            "_model_module_version": "1.5.0",
            "_model_name": "DescriptionStyleModel",
            "_view_count": null,
            "_view_module": "@jupyter-widgets/base",
            "_view_module_version": "1.2.0",
            "_view_name": "StyleView",
            "description_width": ""
          }
        },
        "660879f6cb3b40cc8cca711b36a4936a": {
          "model_module": "@jupyter-widgets/base",
          "model_name": "LayoutModel",
          "model_module_version": "1.2.0",
          "state": {
            "_model_module": "@jupyter-widgets/base",
            "_model_module_version": "1.2.0",
            "_model_name": "LayoutModel",
            "_view_count": null,
            "_view_module": "@jupyter-widgets/base",
            "_view_module_version": "1.2.0",
            "_view_name": "LayoutView",
            "align_content": null,
            "align_items": null,
            "align_self": null,
            "border": null,
            "bottom": null,
            "display": null,
            "flex": null,
            "flex_flow": null,
            "grid_area": null,
            "grid_auto_columns": null,
            "grid_auto_flow": null,
            "grid_auto_rows": null,
            "grid_column": null,
            "grid_gap": null,
            "grid_row": null,
            "grid_template_areas": null,
            "grid_template_columns": null,
            "grid_template_rows": null,
            "height": null,
            "justify_content": null,
            "justify_items": null,
            "left": null,
            "margin": null,
            "max_height": null,
            "max_width": null,
            "min_height": null,
            "min_width": null,
            "object_fit": null,
            "object_position": null,
            "order": null,
            "overflow": null,
            "overflow_x": null,
            "overflow_y": null,
            "padding": null,
            "right": null,
            "top": null,
            "visibility": null,
            "width": null
          }
        },
        "a46ee777480d44b8b93b127145fd6d22": {
          "model_module": "@jupyter-widgets/controls",
          "model_name": "ProgressStyleModel",
          "model_module_version": "1.5.0",
          "state": {
            "_model_module": "@jupyter-widgets/controls",
            "_model_module_version": "1.5.0",
            "_model_name": "ProgressStyleModel",
            "_view_count": null,
            "_view_module": "@jupyter-widgets/base",
            "_view_module_version": "1.2.0",
            "_view_name": "StyleView",
            "bar_color": null,
            "description_width": ""
          }
        },
        "77d931757e9f47feb8fd47efce751f8c": {
          "model_module": "@jupyter-widgets/base",
          "model_name": "LayoutModel",
          "model_module_version": "1.2.0",
          "state": {
            "_model_module": "@jupyter-widgets/base",
            "_model_module_version": "1.2.0",
            "_model_name": "LayoutModel",
            "_view_count": null,
            "_view_module": "@jupyter-widgets/base",
            "_view_module_version": "1.2.0",
            "_view_name": "LayoutView",
            "align_content": null,
            "align_items": null,
            "align_self": null,
            "border": null,
            "bottom": null,
            "display": null,
            "flex": null,
            "flex_flow": null,
            "grid_area": null,
            "grid_auto_columns": null,
            "grid_auto_flow": null,
            "grid_auto_rows": null,
            "grid_column": null,
            "grid_gap": null,
            "grid_row": null,
            "grid_template_areas": null,
            "grid_template_columns": null,
            "grid_template_rows": null,
            "height": null,
            "justify_content": null,
            "justify_items": null,
            "left": null,
            "margin": null,
            "max_height": null,
            "max_width": null,
            "min_height": null,
            "min_width": null,
            "object_fit": null,
            "object_position": null,
            "order": null,
            "overflow": null,
            "overflow_x": null,
            "overflow_y": null,
            "padding": null,
            "right": null,
            "top": null,
            "visibility": null,
            "width": null
          }
        },
        "5ba7acd63fb44d7d86978ae646bb595f": {
          "model_module": "@jupyter-widgets/controls",
          "model_name": "DescriptionStyleModel",
          "model_module_version": "1.5.0",
          "state": {
            "_model_module": "@jupyter-widgets/controls",
            "_model_module_version": "1.5.0",
            "_model_name": "DescriptionStyleModel",
            "_view_count": null,
            "_view_module": "@jupyter-widgets/base",
            "_view_module_version": "1.2.0",
            "_view_name": "StyleView",
            "description_width": ""
          }
        }
      }
    }
  },
  "cells": [
    {
      "cell_type": "markdown",
      "source": [
        "# Filtering and trimming messages\n"
      ],
      "metadata": {
        "id": "swKutGiSXl2d"
      }
    },
    {
      "cell_type": "code",
      "execution_count": 1,
      "metadata": {
        "colab": {
          "base_uri": "https://localhost:8080/"
        },
        "id": "eHkegmGKXfi3",
        "outputId": "03f75751-b85b-49b6-85d9-04bb878c553d"
      },
      "outputs": [
        {
          "output_type": "stream",
          "name": "stdout",
          "text": [
            "\u001b[?25l   \u001b[90m━━━━━━━━━━━━━━━━━━━━━━━━━━━━━━━━━━━━━━━━\u001b[0m \u001b[32m0.0/130.9 kB\u001b[0m \u001b[31m?\u001b[0m eta \u001b[36m-:--:--\u001b[0m\r\u001b[2K   \u001b[90m━━━━━━━━━━━━━━━━━━━━━━━━━━━━━━━━━━━━━━━━\u001b[0m \u001b[32m130.9/130.9 kB\u001b[0m \u001b[31m4.1 MB/s\u001b[0m eta \u001b[36m0:00:00\u001b[0m\n",
            "\u001b[2K   \u001b[90m━━━━━━━━━━━━━━━━━━━━━━━━━━━━━━━━━━━━━━━━\u001b[0m \u001b[32m121.9/121.9 kB\u001b[0m \u001b[31m2.3 MB/s\u001b[0m eta \u001b[36m0:00:00\u001b[0m\n",
            "\u001b[2K   \u001b[90m━━━━━━━━━━━━━━━━━━━━━━━━━━━━━━━━━━━━━━━━\u001b[0m \u001b[32m45.4/45.4 kB\u001b[0m \u001b[31m1.7 MB/s\u001b[0m eta \u001b[36m0:00:00\u001b[0m\n",
            "\u001b[?25h"
          ]
        }
      ],
      "source": [
        "%pip install --quiet -U langchain_groq langchain_core langgraph"
      ]
    },
    {
      "cell_type": "code",
      "source": [
        "from google.colab import userdata\n",
        "apikey = userdata.get('GROQ_API_KEY')"
      ],
      "metadata": {
        "id": "sfSNy9d4Xqsr"
      },
      "execution_count": 2,
      "outputs": []
    },
    {
      "cell_type": "code",
      "source": [
        "from langchain_groq import ChatGroq\n",
        "llm = ChatGroq(model= 'llama-3.3-70b-versatile', temperature = 0, api_key=apikey)"
      ],
      "metadata": {
        "id": "INuzyCp_Xt0S"
      },
      "execution_count": 3,
      "outputs": []
    },
    {
      "cell_type": "code",
      "source": [
        "from pprint import pprint\n",
        "from langchain_core.messages import AIMessage, HumanMessage\n",
        "\n",
        "messages = [AIMessage(f\"So you said you were researching ocean mammals?\", name=\"Bot\")]\n",
        "messages.append(HumanMessage(f\"Yes, I know about whales. But what others should I learn about?\", name=\"Lance\"))\n",
        "\n",
        "for m in messages:\n",
        "    m.pretty_print()"
      ],
      "metadata": {
        "colab": {
          "base_uri": "https://localhost:8080/"
        },
        "id": "0go6NZGOX7H6",
        "outputId": "8e4eb0dc-a6e9-4a98-de64-e0565bd38326"
      },
      "execution_count": 4,
      "outputs": [
        {
          "output_type": "stream",
          "name": "stdout",
          "text": [
            "==================================\u001b[1m Ai Message \u001b[0m==================================\n",
            "Name: Bot\n",
            "\n",
            "So you said you were researching ocean mammals?\n",
            "================================\u001b[1m Human Message \u001b[0m=================================\n",
            "Name: Lance\n",
            "\n",
            "Yes, I know about whales. But what others should I learn about?\n"
          ]
        }
      ]
    },
    {
      "cell_type": "code",
      "source": [
        "llm.invoke(messages)"
      ],
      "metadata": {
        "colab": {
          "base_uri": "https://localhost:8080/"
        },
        "id": "P29vWmARX_NA",
        "outputId": "3f594b24-40d7-4ce2-dc96-6a8859cd6538"
      },
      "execution_count": 5,
      "outputs": [
        {
          "output_type": "execute_result",
          "data": {
            "text/plain": [
              "AIMessage(content=\"There are many fascinating ocean mammals beyond whales. Here are a few you might find interesting:\\n\\n1. **Dolphins**: Highly intelligent and social, dolphins are closely related to whales and porpoises. They're known for their playful behavior and ability to communicate with each other using clicks and whistles.\\n2. **Seals and Sea Lions**: These fin-footed mammals are adapted to life on land and in the water. They're skilled swimmers and divers, and can be found in oceans around the world.\\n3. **Walruses**: With their distinctive tusks and blubbery bodies, walruses are well-suited to life in the Arctic and sub-Arctic oceans. They're skilled divers and feed on clams, mussels, and other marine animals.\\n4. **Manatees**: Also known as sea cows, manatees are large, slow-moving mammals that graze on seaweed and seagrass in shallow waters. They're found in warm, coastal waters around the world.\\n5. **Dugongs**: Similar to manatees, dugongs are large, herbivorous mammals that live in shallow waters in the Pacific and Indian Oceans. They're known for their distinctive snouts and ability to eat large amounts of seaweed and seagrass.\\n6. **Porpoises**: Smaller than dolphins, porpoises are also members of the toothed whale family. They're shy and elusive, but can be found in oceans around the world.\\n7. **Otters**: While not exclusively ocean mammals, some species of otters, such as the sea otter, are well-adapted to life in the water. They're known for their playful behavior and ability to use tools to crack open shells and eat prey.\\n\\nThese are just a few examples of the many fascinating ocean mammals out there. Each has its own unique characteristics and adaptations to life in the ocean.\\n\\nIs there a particular aspect of ocean mammals you'd like to learn more about?\", additional_kwargs={}, response_metadata={'token_usage': {'completion_tokens': 407, 'prompt_tokens': 64, 'total_tokens': 471, 'completion_time': 1.48, 'prompt_time': 0.005613842, 'queue_time': 0.28377481400000004, 'total_time': 1.485613842}, 'model_name': 'llama-3.3-70b-versatile', 'system_fingerprint': 'fp_e669a124b2', 'finish_reason': 'stop', 'logprobs': None}, id='run-701b9f0e-e232-4880-b5a1-e3a8d460dfe5-0', usage_metadata={'input_tokens': 64, 'output_tokens': 407, 'total_tokens': 471})"
            ]
          },
          "metadata": {},
          "execution_count": 5
        }
      ]
    },
    {
      "cell_type": "code",
      "source": [
        "from IPython.display import Image, display\n",
        "from langgraph.graph import MessagesState\n",
        "from langgraph.graph import StateGraph, START, END\n",
        "from langgraph.graph.state import CompiledStateGraph\n",
        "\n",
        "# Node\n",
        "def chat_model_node(state: MessagesState) -> MessagesState:\n",
        "    return {\"messages\": llm.invoke(state[\"messages\"])}\n",
        "\n",
        "# Build graph\n",
        "builder: StateGraph = StateGraph(MessagesState)\n",
        "\n",
        "builder.add_node(\"chat_model\", chat_model_node)\n",
        "\n",
        "builder.add_edge(START, \"chat_model\")\n",
        "builder.add_edge(\"chat_model\", END)\n",
        "\n",
        "graph: CompiledStateGraph = builder.compile()\n",
        "\n",
        "# View\n",
        "display(Image(graph.get_graph().draw_mermaid_png()))"
      ],
      "metadata": {
        "colab": {
          "base_uri": "https://localhost:8080/",
          "height": 251
        },
        "id": "rfb3_MA3YDWU",
        "outputId": "61aa716e-f4b1-4c6f-e61c-5ce4916c4d48"
      },
      "execution_count": 6,
      "outputs": [
        {
          "output_type": "display_data",
          "data": {
            "image/png": "[encoded data removed]",
            "text/plain": [
              "<IPython.core.display.Image object>"
            ]
          },
          "metadata": {}
        }
      ]
    },
    {
      "cell_type": "code",
      "source": [
        "output = graph.invoke({'messages': messages})\n",
        "for m in output['messages']:\n",
        "    m.pretty_print()"
      ],
      "metadata": {
        "colab": {
          "base_uri": "https://localhost:8080/"
        },
        "id": "Q1KB-ucfYKWK",
        "outputId": "ba2ac580-8618-4b73-e196-ff170f486f6c"
      },
      "execution_count": 7,
      "outputs": [
        {
          "output_type": "stream",
          "name": "stdout",
          "text": [
            "==================================\u001b[1m Ai Message \u001b[0m==================================\n",
            "Name: Bot\n",
            "\n",
            "So you said you were researching ocean mammals?\n",
            "================================\u001b[1m Human Message \u001b[0m=================================\n",
            "Name: Lance\n",
            "\n",
            "Yes, I know about whales. But what others should I learn about?\n",
            "==================================\u001b[1m Ai Message \u001b[0m==================================\n",
            "\n",
            "There are many fascinating ocean mammals beyond whales. Here are a few you might find interesting:\n",
            "\n",
            "1. **Dolphins**: Highly intelligent and social, dolphins are known for their playful nature and ability to communicate with each other using clicks and whistles.\n",
            "2. **Seals and Sea Lions**: These fin-footed mammals are adapted to life in the water, with flippers and a streamlined body. They're found in oceans around the world and are known for their agility and playful behavior.\n",
            "3. **Walruses**: With their distinctive tusks and blubbery bodies, walruses are well adapted to life in the Arctic and sub-Arctic oceans. They're skilled divers and can be found in large herds.\n",
            "4. **Manatees**: Also known as sea cows, manatees are large, slow-moving mammals that graze on seaweed and seagrass in shallow waters. They're found in warm, coastal waters around the world.\n",
            "5. **Dugongs**: Similar to manatees, dugongs are large, herbivorous mammals that live in shallow waters in the Pacific and Indian Oceans. They're known for their distinctive snout and ability to eat large amounts of seaweed.\n",
            "6. **Otters**: While not exclusively ocean mammals, some species of otters, such as the sea otter, are well adapted to life in the water. They're known for their playful nature and ability to use tools to crack open shells.\n",
            "7. **Porpoises**: Similar to dolphins, porpoises are small, toothed cetaceans that are found in oceans around the world. They're known for their shy nature and are often seen swimming alone or in small groups.\n",
            "\n",
            "These are just a few examples of the many fascinating ocean mammals out there. Each one has its own unique characteristics and adaptations to life in the water.\n",
            "\n",
            "Is there a particular aspect of ocean mammals you'd like to learn more about?\n"
          ]
        }
      ]
    },
    {
      "cell_type": "markdown",
      "source": [
        "## Filtering with Reducer"
      ],
      "metadata": {
        "id": "cLGS3AcuYSe7"
      }
    },
    {
      "cell_type": "code",
      "source": [
        "from langchain_core.messages import RemoveMessage\n",
        "\n",
        "def filter_messages(state: MessagesState) -> MessagesState:\n",
        "  delete_messages = [RemoveMessage(id=m.id) for m in state[\"messages\"][:-2]]\n",
        "  return {\"messages\": delete_messages}\n",
        "\n",
        "def chat_model_node(state: MessagesState) -> MessagesState:\n",
        "    return {\"messages\": [llm.invoke(state[\"messages\"])]}\n",
        "\n",
        "builder: StateGraph = StateGraph(MessagesState)\n",
        "builder.add_node(\"filter\", filter_messages)\n",
        "builder.add_node(\"chat_model\", chat_model_node)\n",
        "builder.add_edge(START, \"filter\")\n",
        "builder.add_edge(\"filter\", \"chat_model\")\n",
        "builder.add_edge(\"chat_model\", END)\n",
        "graph: CompiledStateGraph = builder.compile()\n",
        "\n",
        "display(Image(graph.get_graph().draw_mermaid_png()))"
      ],
      "metadata": {
        "colab": {
          "base_uri": "https://localhost:8080/",
          "height": 350
        },
        "id": "OUwoDYyiYTdx",
        "outputId": "d201f835-9ddb-496f-d12f-8f2b600e4391"
      },
      "execution_count": 8,
      "outputs": [
        {
          "output_type": "display_data",
          "data": {
            "image/png": "[encoded data removed]",
            "text/plain": [
              "<IPython.core.display.Image object>"
            ]
          },
          "metadata": {}
        }
      ]
    },
    {
      "cell_type": "code",
      "source": [
        "messages = [AIMessage(\"Hi.\", name=\"Bot\", id=\"1\")]\n",
        "messages.append(HumanMessage(\"Hi.\", name=\"Lance\", id=\"2\"))\n",
        "messages.append(AIMessage(\"So you said you were researching ocean mammals?\", name=\"Bot\", id=\"3\"))\n",
        "messages.append(HumanMessage(\"Yes, I know about whales. But what others should I learn about?\", name=\"Lance\", id=\"4\"))\n",
        "\n",
        "output = graph.invoke({'messages': messages})\n",
        "for m in output['messages']:\n",
        "    m.pretty_print()"
      ],
      "metadata": {
        "colab": {
          "base_uri": "https://localhost:8080/"
        },
        "id": "lzndTq5ZbupM",
        "outputId": "779809d1-b689-4196-8d54-857f86a0dcf2"
      },
      "execution_count": 9,
      "outputs": [
        {
          "output_type": "stream",
          "name": "stdout",
          "text": [
            "==================================\u001b[1m Ai Message \u001b[0m==================================\n",
            "Name: Bot\n",
            "\n",
            "So you said you were researching ocean mammals?\n",
            "================================\u001b[1m Human Message \u001b[0m=================================\n",
            "Name: Lance\n",
            "\n",
            "Yes, I know about whales. But what others should I learn about?\n",
            "==================================\u001b[1m Ai Message \u001b[0m==================================\n",
            "\n",
            "There are many fascinating ocean mammals beyond whales. Here are a few you might find interesting:\n",
            "\n",
            "1. **Dolphins**: Highly intelligent and social, dolphins are known for their playful nature and ability to communicate with each other using clicks and whistles.\n",
            "2. **Seals and Sea Lions**: These fin-footed mammals are adapted to life in the water, with flippers and a streamlined body. They're found in oceans around the world and are known for their agility and playful behavior.\n",
            "3. **Walruses**: With their distinctive tusks and blubbery bodies, walruses are well adapted to life in the Arctic and sub-Arctic oceans. They're skilled divers and can be found in large herds.\n",
            "4. **Manatees**: Also known as sea cows, manatees are large, slow-moving mammals that graze on seaweed and seagrass in shallow waters. They're found in warm, coastal waters around the world.\n",
            "5. **Dugongs**: Similar to manatees, dugongs are large, herbivorous mammals that live in shallow waters in the Pacific and Indian Oceans. They're known for their distinctive snout and ability to eat large amounts of seaweed.\n",
            "6. **Otters**: While not exclusively ocean mammals, some species of otters, such as the sea otter, are well adapted to life in the water. They're known for their playful nature and ability to use tools to crack open shells.\n",
            "7. **Porpoises**: Similar to dolphins, porpoises are small, toothed cetaceans that are found in oceans around the world. They're known for their shy nature and are often seen swimming alone or in small groups.\n",
            "\n",
            "These are just a few examples of the many fascinating ocean mammals out there. Each one has its own unique characteristics and adaptations to life in the water.\n",
            "\n",
            "Is there a particular aspect of ocean mammals you'd like to learn more about?\n"
          ]
        }
      ]
    },
    {
      "cell_type": "markdown",
      "source": [
        "## Filtering messages to model\n"
      ],
      "metadata": {
        "id": "g4K15K7Xckan"
      }
    },
    {
      "cell_type": "code",
      "source": [
        "def chat_model_node(state: MessagesState):\n",
        "    return {\"messages\": [llm.invoke(state[\"messages\"][-1:])]}\n",
        "\n",
        "builder: StateGraph = StateGraph(MessagesState)\n",
        "builder.add_node(\"chat_model\", chat_model_node)\n",
        "builder.add_edge(START, \"chat_model\")\n",
        "builder.add_edge(\"chat_model\", END)\n",
        "graph: CompiledStateGraph = builder.compile()\n",
        "\n",
        "display(Image(graph.get_graph().draw_mermaid_png()))"
      ],
      "metadata": {
        "colab": {
          "base_uri": "https://localhost:8080/",
          "height": 251
        },
        "id": "m2QQf3T8b064",
        "outputId": "a03a1628-8bbe-4cd2-97a3-f32ffbc89195"
      },
      "execution_count": 10,
      "outputs": [
        {
          "output_type": "display_data",
          "data": {
            "image/png": "[encoded data removed]",
            "text/plain": [
              "<IPython.core.display.Image object>"
            ]
          },
          "metadata": {}
        }
      ]
    },
    {
      "cell_type": "code",
      "source": [
        "messages.append(output['messages'][-1])\n",
        "messages.append(HumanMessage(f\"Tell me more about Narwhals!\", name=\"Lance\"))"
      ],
      "metadata": {
        "id": "K41w04PHcyKs"
      },
      "execution_count": 11,
      "outputs": []
    },
    {
      "cell_type": "code",
      "source": [
        "for m in messages:\n",
        "    m.pretty_print()"
      ],
      "metadata": {
        "colab": {
          "base_uri": "https://localhost:8080/"
        },
        "id": "6yuJ6Vlvc4Dd",
        "outputId": "92c3e5f2-8ebf-4a9f-ae75-3ba983be5798"
      },
      "execution_count": 12,
      "outputs": [
        {
          "output_type": "stream",
          "name": "stdout",
          "text": [
            "==================================\u001b[1m Ai Message \u001b[0m==================================\n",
            "Name: Bot\n",
            "\n",
            "Hi.\n",
            "================================\u001b[1m Human Message \u001b[0m=================================\n",
            "Name: Lance\n",
            "\n",
            "Hi.\n",
            "==================================\u001b[1m Ai Message \u001b[0m==================================\n",
            "Name: Bot\n",
            "\n",
            "So you said you were researching ocean mammals?\n",
            "================================\u001b[1m Human Message \u001b[0m=================================\n",
            "Name: Lance\n",
            "\n",
            "Yes, I know about whales. But what others should I learn about?\n",
            "==================================\u001b[1m Ai Message \u001b[0m==================================\n",
            "\n",
            "There are many fascinating ocean mammals beyond whales. Here are a few you might find interesting:\n",
            "\n",
            "1. **Dolphins**: Highly intelligent and social, dolphins are known for their playful nature and ability to communicate with each other using clicks and whistles.\n",
            "2. **Seals and Sea Lions**: These fin-footed mammals are adapted to life in the water, with flippers and a streamlined body. They're found in oceans around the world and are known for their agility and playful behavior.\n",
            "3. **Walruses**: With their distinctive tusks and blubbery bodies, walruses are well adapted to life in the Arctic and sub-Arctic oceans. They're skilled divers and can be found in large herds.\n",
            "4. **Manatees**: Also known as sea cows, manatees are large, slow-moving mammals that graze on seaweed and seagrass in shallow waters. They're found in warm, coastal waters around the world.\n",
            "5. **Dugongs**: Similar to manatees, dugongs are large, herbivorous mammals that live in shallow waters in the Pacific and Indian Oceans. They're known for their distinctive snout and ability to eat large amounts of seaweed.\n",
            "6. **Otters**: While not exclusively ocean mammals, some species of otters, such as the sea otter, are well adapted to life in the water. They're known for their playful nature and ability to use tools to crack open shells.\n",
            "7. **Porpoises**: Similar to dolphins, porpoises are small, toothed cetaceans that are found in oceans around the world. They're known for their shy nature and are often seen swimming alone or in small groups.\n",
            "\n",
            "These are just a few examples of the many fascinating ocean mammals out there. Each one has its own unique characteristics and adaptations to life in the water.\n",
            "\n",
            "Is there a particular aspect of ocean mammals you'd like to learn more about?\n",
            "================================\u001b[1m Human Message \u001b[0m=================================\n",
            "Name: Lance\n",
            "\n",
            "Tell me more about Narwhals!\n"
          ]
        }
      ]
    },
    {
      "cell_type": "code",
      "source": [
        "# Invoke, using message filtering\n",
        "output = graph.invoke({'messages': messages})\n",
        "for m in output['messages']:\n",
        "    m.pretty_print()"
      ],
      "metadata": {
        "colab": {
          "base_uri": "https://localhost:8080/"
        },
        "id": "LAxbfbIDc79q",
        "outputId": "9fb96803-577f-4241-98b8-7e720c5ffeb8"
      },
      "execution_count": 13,
      "outputs": [
        {
          "output_type": "stream",
          "name": "stdout",
          "text": [
            "==================================\u001b[1m Ai Message \u001b[0m==================================\n",
            "Name: Bot\n",
            "\n",
            "Hi.\n",
            "================================\u001b[1m Human Message \u001b[0m=================================\n",
            "Name: Lance\n",
            "\n",
            "Hi.\n",
            "==================================\u001b[1m Ai Message \u001b[0m==================================\n",
            "Name: Bot\n",
            "\n",
            "So you said you were researching ocean mammals?\n",
            "================================\u001b[1m Human Message \u001b[0m=================================\n",
            "Name: Lance\n",
            "\n",
            "Yes, I know about whales. But what others should I learn about?\n",
            "==================================\u001b[1m Ai Message \u001b[0m==================================\n",
            "\n",
            "There are many fascinating ocean mammals beyond whales. Here are a few you might find interesting:\n",
            "\n",
            "1. **Dolphins**: Highly intelligent and social, dolphins are known for their playful nature and ability to communicate with each other using clicks and whistles.\n",
            "2. **Seals and Sea Lions**: These fin-footed mammals are adapted to life in the water, with flippers and a streamlined body. They're found in oceans around the world and are known for their agility and playful behavior.\n",
            "3. **Walruses**: With their distinctive tusks and blubbery bodies, walruses are well adapted to life in the Arctic and sub-Arctic oceans. They're skilled divers and can be found in large herds.\n",
            "4. **Manatees**: Also known as sea cows, manatees are large, slow-moving mammals that graze on seaweed and seagrass in shallow waters. They're found in warm, coastal waters around the world.\n",
            "5. **Dugongs**: Similar to manatees, dugongs are large, herbivorous mammals that live in shallow waters in the Pacific and Indian Oceans. They're known for their distinctive snout and ability to eat large amounts of seaweed.\n",
            "6. **Otters**: While not exclusively ocean mammals, some species of otters, such as the sea otter, are well adapted to life in the water. They're known for their playful nature and ability to use tools to crack open shells.\n",
            "7. **Porpoises**: Similar to dolphins, porpoises are small, toothed cetaceans that are found in oceans around the world. They're known for their shy nature and are often seen swimming alone or in small groups.\n",
            "\n",
            "These are just a few examples of the many fascinating ocean mammals out there. Each one has its own unique characteristics and adaptations to life in the water.\n",
            "\n",
            "Is there a particular aspect of ocean mammals you'd like to learn more about?\n",
            "================================\u001b[1m Human Message \u001b[0m=================================\n",
            "Name: Lance\n",
            "\n",
            "Tell me more about Narwhals!\n",
            "==================================\u001b[1m Ai Message \u001b[0m==================================\n",
            "\n",
            "Narwhals! They're often referred to as the \"unicorns of the sea\" due to their unique and mysterious nature. Here are some fascinating facts about narwhals:\n",
            "\n",
            "1. **The Tusk**: Narwhals are known for their distinctive tusk, which is actually a modified tooth that can grow up to 10 feet (3 meters) long. The tusk is spirally twisted and can weigh up to 22 pounds (10 kilograms). Scientists believe that the tusk may be used for sensing the environment, attracting mates, or even breaking ice.\n",
            "2. **Arctic Habitat**: Narwhals live in the Arctic waters of Canada, Greenland, and Russia. They prefer the icy, cold waters of the Arctic Circle, where they can be found in areas with heavy sea ice.\n",
            "3. **Social Creatures**: Narwhals are social animals and are often found in small groups, called \"pods.\" These pods usually consist of 10-100 individuals and are led by a dominant female.\n",
            "4. **Diet**: Narwhals are carnivores and feed on a variety of prey, including arctic cod, shrimp, and other marine animals. They use echolocation to hunt and navigate in the dark, icy waters.\n",
            "5. **Elusive**: Narwhals are notoriously difficult to study due to their remote and inhospitable habitat. They are also skilled at avoiding detection, making them one of the most elusive creatures in the animal kingdom.\n",
            "6. **Conservation Status**: Narwhals are listed as \"vulnerable\" on the IUCN Red List, due to climate change, habitat loss, and hunting. Their populations are declining, and conservation efforts are necessary to protect these magnificent creatures.\n",
            "7. **Mythology and Folklore**: Narwhals have been the subject of mythology and folklore for centuries. In medieval times, their tusks were believed to be the horns of unicorns, and were highly valued for their supposed magical properties.\n",
            "8. **Unique Physiology**: Narwhals have a number of unique physiological adaptations that allow them to thrive in the harsh Arctic environment. They have a thick layer of blubber to keep warm, and their blood vessels are specially adapted to conserve heat.\n",
            "9. **Intelligent**: Narwhals are considered to be one of the most intelligent cetaceans, with a large brain-to-body mass ratio. They have been observed using complex vocalizations and social behaviors.\n",
            "10. **Research and Exploration**: Despite their elusiveness, scientists are working to learn more about narwhals and their habits. Researchers use techniques such as satellite tracking, acoustic monitoring, and camera traps to study these mysterious creatures.\n",
            "\n",
            "Overall, narwhals are fascinating creatures that continue to capture the imagination of scientists and the general public alike. Their unique appearance, elusive nature, and intriguing behaviors make them one of the most interesting animals in the ocean.\n"
          ]
        }
      ]
    },
    {
      "cell_type": "markdown",
      "source": [
        "## Trim messages\n"
      ],
      "metadata": {
        "id": "eykDE58hdBLE"
      }
    },
    {
      "cell_type": "code",
      "source": [
        "from langchain_core.messages import trim_messages\n",
        "\n",
        "def chat_model_node(state: MessagesState):\n",
        "    messages = trim_messages(\n",
        "            state[\"messages\"],\n",
        "            max_tokens=100,\n",
        "            strategy=\"last\",\n",
        "            token_counter=ChatGroq(model= 'llama-3.3-70b-versatile', temperature = 0, api_key=apikey),\n",
        "            allow_partial=False,\n",
        "        )\n",
        "    return {\"messages\": [llm.invoke(messages)]}\n",
        "\n",
        "# Build graph\n",
        "builder = StateGraph(MessagesState)\n",
        "builder.add_node(\"chat_model\", chat_model_node)\n",
        "builder.add_edge(START, \"chat_model\")\n",
        "builder.add_edge(\"chat_model\", END)\n",
        "graph = builder.compile()\n",
        "\n",
        "# View\n",
        "display(Image(graph.get_graph().draw_mermaid_png()))"
      ],
      "metadata": {
        "colab": {
          "base_uri": "https://localhost:8080/",
          "height": 251
        },
        "id": "kfWZZz-DdIrM",
        "outputId": "f6ce9484-5466-42c7-9659-2e8740dd57da"
      },
      "execution_count": 14,
      "outputs": [
        {
          "output_type": "display_data",
          "data": {
            "image/png": "[encoded data removed]",
            "text/plain": [
              "<IPython.core.display.Image object>"
            ]
          },
          "metadata": {}
        }
      ]
    },
    {
      "cell_type": "code",
      "source": [
        "messages.append(output['messages'][-1])\n",
        "messages.append(HumanMessage(f\"Tell me where Orcas live!\", name=\"Lance\"))"
      ],
      "metadata": {
        "id": "1mDZQW7odU2P"
      },
      "execution_count": 15,
      "outputs": []
    },
    {
      "cell_type": "code",
      "source": [
        "# Invoke, using message trimming in the chat_model_node\n",
        "messages_out_trim = graph.invoke({'messages': messages})"
      ],
      "metadata": {
        "colab": {
          "base_uri": "https://localhost:8080/",
          "height": 177,
          "referenced_widgets": [
            "bc0b40974f914996a6f193e0f838513b",
            "a9184ec1e3504d8b94110bed7b923628",
            "79c63f964a684ea4beeb3a8f6773dbff",
            "dfbaa2f382114919b1d94c2c7f85f0c8",
            "99dee2fc12ab4906b6f9cdbf21216236",
            "dbc1024c0efa4fa89c277c60b5432d6c",
            "471bf4552ded41a4b222c06a45a9578e",
            "9725d9af764e4ef4ace960d1e657474a",
            "259005e0b0df4a64a1e005080a57f587",
            "092685437ec24b59a761148de09c1538",
            "be9c2973b4c3432b9d02a0912a40b7b2",
            "4ff44b0840b04dde84ca6589b9fb4985",
            "61654b0fd08842b89f198e2388a00356",
            "12c66237d9d84a06a0ac5d6fa1372a02",
            "b8afa349fe804beeb28d2550b52d7e24",
            "d6e0dc78aa774f05bac7ad17c29e9311",
            "010a98b58f734817b3000bca659547be",
            "abe9e787b6b545fc983bbf9c00d510ce",
            "1f6642abc44e41358daa04ea2b8e01d6",
            "44b45f739ce14e2d8fe7783250ed013d",
            "fc0086b360e242f8a3da8a47fae0ce1d",
            "0d005f0856ed434996701e19ab6a6dd6",
            "7aa441dcd54a4afea14666a8a493686f",
            "3934219b315a49d1af9902e984224bfc",
            "53cfc1a1df12441c921b610f10be8db9",
            "dbb324874fdb46edbc3d4ea40c05d6db",
            "d29e774110bc4439ba643977005487a2",
            "3e675e0d80a549d7a614482ec52e2da1",
            "da4eee7ab4764f348ed86930b0f113f0",
            "a03a68a37454425893667425f7a9f77c",
            "8f1ac65861244e3e9af14edfce212238",
            "e023fba4fa0a466f9565db30f9ce91df",
            "8400b7c4a9264d469eb418921c9861a1",
            "919dd8ca4e0d4c24aca5eb52710118b4",
            "fa44daad97ce4378a16a046fd84654b1",
            "d07cbc0a83b24013afbb5fc94e04a357",
            "18acd4baec094502ac791a94062b9c4d",
            "d855856c1c4c475092d891b2f59880bd",
            "47838f65b6fb4bc489526c55ac7c5479",
            "079885d779c54aa28ae48b1a46746e22",
            "87e4ba387b67436d9ca2a39e0d856787",
            "e2fc6e97f9814142883369ce4010bf84",
            "1b78c2110fe64c1fb30756c37773254a",
            "9310af066f814c2d9b0642949c33a06f",
            "9b42938b0b8d47be835fbb614a527131",
            "c71bfe38eaa64bfc87924a9402aab161",
            "5f9c129607cf4867aa8f8cbe4e9f85bc",
            "138b1d0921fd40a99f7f9c5a7f935e70",
            "8367ecf89b0e4bfba920305652846f5b",
            "e7e408dd8c1d4b2bb2a09e0df46f186a",
            "e02ed7113ea444c999b65ebc257ea2df",
            "660879f6cb3b40cc8cca711b36a4936a",
            "a46ee777480d44b8b93b127145fd6d22",
            "77d931757e9f47feb8fd47efce751f8c",
            "5ba7acd63fb44d7d86978ae646bb595f"
          ]
        },
        "id": "cn0QDEujd3U4",
        "outputId": "33a5e6f3-af20-4cb0-b0a7-969e679d4bdd"
      },
      "execution_count": 16,
      "outputs": [
        {
          "output_type": "display_data",
          "data": {
            "text/plain": [
              "tokenizer_config.json:   0%|          | 0.00/26.0 [00:00<?, ?B/s]"
            ],
            "application/vnd.jupyter.widget-view+json": {
              "version_major": 2,
              "version_minor": 0,
              "model_id": "bc0b40974f914996a6f193e0f838513b"
            }
          },
          "metadata": {}
        },
        {
          "output_type": "display_data",
          "data": {
            "text/plain": [
              "vocab.json:   0%|          | 0.00/1.04M [00:00<?, ?B/s]"
            ],
            "application/vnd.jupyter.widget-view+json": {
              "version_major": 2,
              "version_minor": 0,
              "model_id": "4ff44b0840b04dde84ca6589b9fb4985"
            }
          },
          "metadata": {}
        },
        {
          "output_type": "display_data",
          "data": {
            "text/plain": [
              "merges.txt:   0%|          | 0.00/456k [00:00<?, ?B/s]"
            ],
            "application/vnd.jupyter.widget-view+json": {
              "version_major": 2,
              "version_minor": 0,
              "model_id": "7aa441dcd54a4afea14666a8a493686f"
            }
          },
          "metadata": {}
        },
        {
          "output_type": "display_data",
          "data": {
            "text/plain": [
              "tokenizer.json:   0%|          | 0.00/1.36M [00:00<?, ?B/s]"
            ],
            "application/vnd.jupyter.widget-view+json": {
              "version_major": 2,
              "version_minor": 0,
              "model_id": "919dd8ca4e0d4c24aca5eb52710118b4"
            }
          },
          "metadata": {}
        },
        {
          "output_type": "display_data",
          "data": {
            "text/plain": [
              "config.json:   0%|          | 0.00/665 [00:00<?, ?B/s]"
            ],
            "application/vnd.jupyter.widget-view+json": {
              "version_major": 2,
              "version_minor": 0,
              "model_id": "9b42938b0b8d47be835fbb614a527131"
            }
          },
          "metadata": {}
        }
      ]
    },
    {
      "cell_type": "code",
      "source": [
        "for m in messages_out_trim['messages']:\n",
        "    m.pretty_print()"
      ],
      "metadata": {
        "colab": {
          "base_uri": "https://localhost:8080/"
        },
        "id": "156uYKjAeZoj",
        "outputId": "9f4ec9e2-8ab2-4b5f-844f-2f343624ae90"
      },
      "execution_count": 18,
      "outputs": [
        {
          "output_type": "stream",
          "name": "stdout",
          "text": [
            "==================================\u001b[1m Ai Message \u001b[0m==================================\n",
            "Name: Bot\n",
            "\n",
            "Hi.\n",
            "================================\u001b[1m Human Message \u001b[0m=================================\n",
            "Name: Lance\n",
            "\n",
            "Hi.\n",
            "==================================\u001b[1m Ai Message \u001b[0m==================================\n",
            "Name: Bot\n",
            "\n",
            "So you said you were researching ocean mammals?\n",
            "================================\u001b[1m Human Message \u001b[0m=================================\n",
            "Name: Lance\n",
            "\n",
            "Yes, I know about whales. But what others should I learn about?\n",
            "==================================\u001b[1m Ai Message \u001b[0m==================================\n",
            "\n",
            "There are many fascinating ocean mammals beyond whales. Here are a few you might find interesting:\n",
            "\n",
            "1. **Dolphins**: Highly intelligent and social, dolphins are known for their playful nature and ability to communicate with each other using clicks and whistles.\n",
            "2. **Seals and Sea Lions**: These fin-footed mammals are adapted to life in the water, with flippers and a streamlined body. They're found in oceans around the world and are known for their agility and playful behavior.\n",
            "3. **Walruses**: With their distinctive tusks and blubbery bodies, walruses are well adapted to life in the Arctic and sub-Arctic oceans. They're skilled divers and can be found in large herds.\n",
            "4. **Manatees**: Also known as sea cows, manatees are large, slow-moving mammals that graze on seaweed and seagrass in shallow waters. They're found in warm, coastal waters around the world.\n",
            "5. **Dugongs**: Similar to manatees, dugongs are large, herbivorous mammals that live in shallow waters in the Pacific and Indian Oceans. They're known for their distinctive snout and ability to eat large amounts of seaweed.\n",
            "6. **Otters**: While not exclusively ocean mammals, some species of otters, such as the sea otter, are well adapted to life in the water. They're known for their playful nature and ability to use tools to crack open shells.\n",
            "7. **Porpoises**: Similar to dolphins, porpoises are small, toothed cetaceans that are found in oceans around the world. They're known for their shy nature and are often seen swimming alone or in small groups.\n",
            "\n",
            "These are just a few examples of the many fascinating ocean mammals out there. Each one has its own unique characteristics and adaptations to life in the water.\n",
            "\n",
            "Is there a particular aspect of ocean mammals you'd like to learn more about?\n",
            "================================\u001b[1m Human Message \u001b[0m=================================\n",
            "Name: Lance\n",
            "\n",
            "Tell me more about Narwhals!\n",
            "==================================\u001b[1m Ai Message \u001b[0m==================================\n",
            "\n",
            "Narwhals! They're often referred to as the \"unicorns of the sea\" due to their unique and mysterious nature. Here are some fascinating facts about narwhals:\n",
            "\n",
            "1. **The Tusk**: Narwhals are known for their distinctive tusk, which is actually a modified tooth that can grow up to 10 feet (3 meters) long. The tusk is spirally twisted and can weigh up to 22 pounds (10 kilograms). Scientists believe that the tusk may be used for sensing the environment, attracting mates, or even breaking ice.\n",
            "2. **Arctic Habitat**: Narwhals live in the Arctic waters of Canada, Greenland, and Russia. They prefer the icy, cold waters of the Arctic Circle, where they can be found in areas with heavy sea ice.\n",
            "3. **Social Creatures**: Narwhals are social animals and are often found in small groups, called \"pods.\" These pods usually consist of 10-100 individuals and are led by a dominant female.\n",
            "4. **Diet**: Narwhals are carnivores and feed on a variety of prey, including arctic cod, shrimp, and other marine animals. They use echolocation to hunt and navigate in the dark, icy waters.\n",
            "5. **Elusive**: Narwhals are notoriously difficult to study due to their remote and inhospitable habitat. They are also skilled at avoiding detection, making them one of the most elusive creatures in the animal kingdom.\n",
            "6. **Conservation Status**: Narwhals are listed as \"vulnerable\" on the IUCN Red List, due to climate change, habitat loss, and hunting. Their populations are declining, and conservation efforts are necessary to protect these magnificent creatures.\n",
            "7. **Mythology and Folklore**: Narwhals have been the subject of mythology and folklore for centuries. In medieval times, their tusks were believed to be the horns of unicorns, and were highly valued for their supposed magical properties.\n",
            "8. **Unique Physiology**: Narwhals have a number of unique physiological adaptations that allow them to thrive in the harsh Arctic environment. They have a thick layer of blubber to keep warm, and their blood vessels are specially adapted to conserve heat.\n",
            "9. **Intelligent**: Narwhals are considered to be one of the most intelligent cetaceans, with a large brain-to-body mass ratio. They have been observed using complex vocalizations and social behaviors.\n",
            "10. **Research and Exploration**: Despite their elusiveness, scientists are working to learn more about narwhals and their habits. Researchers use techniques such as satellite tracking, acoustic monitoring, and camera traps to study these mysterious creatures.\n",
            "\n",
            "Overall, narwhals are fascinating creatures that continue to capture the imagination of scientists and the general public alike. Their unique appearance, elusive nature, and intriguing behaviors make them one of the most interesting animals in the ocean.\n",
            "================================\u001b[1m Human Message \u001b[0m=================================\n",
            "Name: Lance\n",
            "\n",
            "Tell me where Orcas live!\n",
            "==================================\u001b[1m Ai Message \u001b[0m==================================\n",
            "\n",
            "Orcas, also known as killer whales, are found in oceans all around the world. They are a widely distributed species, and their habitats vary depending on the population and the time of year.\n",
            "\n",
            "Here are some of the main places where orcas can be found:\n",
            "\n",
            "1. **Pacific Northwest**: The coastal waters of the Pacific Northwest, including Washington, Oregon, and British Columbia, are home to a large population of orcas. They can be found in the Salish Sea, Puget Sound, and the surrounding waters.\n",
            "2. **Alaska**: Orcas are common in Alaskan waters, including the Gulf of Alaska, the Bering Sea, and the Arctic Ocean.\n",
            "3. **Antarctica**: Some populations of orcas can be found in the cold waters surrounding Antarctica, where they feed on seals, penguins, and other marine mammals.\n",
            "4. **Norway and Iceland**: Orcas can be found in the North Atlantic, particularly in the waters around Norway and Iceland.\n",
            "5. **Australia and New Zealand**: Orcas are found in the coastal waters of Australia and New Zealand, particularly in the southern regions.\n",
            "6. **Tropical waters**: Some populations of orcas can be found in tropical waters, such as the Caribbean, the Gulf of Mexico, and the Indian Ocean.\n",
            "\n",
            "In general, orcas prefer to live in areas with:\n",
            "\n",
            "* Cold to temperate waters (although some populations can tolerate warmer waters)\n",
            "* Access to prey, such as fish, squid, and marine mammals\n",
            "* Complex coastlines or islands, which provide habitat and protection\n",
            "* Deep waters, which allow them to dive and hunt\n",
            "\n",
            "It's worth noting that orcas are a migratory species, and some populations may travel long distances in search of food or to breed.\n"
          ]
        }
      ]
    }
  ]
}