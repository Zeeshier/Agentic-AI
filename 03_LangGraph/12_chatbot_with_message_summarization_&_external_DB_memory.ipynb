{
  "nbformat": 4,
  "nbformat_minor": 0,
  "metadata": {
    "colab": {
      "provenance": []
    },
    "kernelspec": {
      "name": "python3",
      "display_name": "Python 3"
    },
    "language_info": {
      "name": "python"
    }
  },
  "cells": [
    {
      "cell_type": "markdown",
      "source": [
        "# Chatbot with message summarization & external DB memory\n"
      ],
      "metadata": {
        "id": "CPE3MtpEH-cs"
      }
    },
    {
      "cell_type": "code",
      "execution_count": 1,
      "metadata": {
        "colab": {
          "base_uri": "https://localhost:8080/"
        },
        "id": "fj2jQqL1Hwyl",
        "outputId": "6a35aef4-c85f-40a4-e5f5-eaa71b478294"
      },
      "outputs": [
        {
          "output_type": "stream",
          "name": "stdout",
          "text": [
            "\u001b[2K   \u001b[90m━━━━━━━━━━━━━━━━━━━━━━━━━━━━━━━━━━━━━━━━\u001b[0m \u001b[32m130.9/130.9 kB\u001b[0m \u001b[31m3.6 MB/s\u001b[0m eta \u001b[36m0:00:00\u001b[0m\n",
            "\u001b[2K   \u001b[90m━━━━━━━━━━━━━━━━━━━━━━━━━━━━━━━━━━━━━━━━\u001b[0m \u001b[32m121.9/121.9 kB\u001b[0m \u001b[31m7.7 MB/s\u001b[0m eta \u001b[36m0:00:00\u001b[0m\n",
            "\u001b[2K   \u001b[90m━━━━━━━━━━━━━━━━━━━━━━━━━━━━━━━━━━━━━━━━\u001b[0m \u001b[32m45.4/45.4 kB\u001b[0m \u001b[31m2.6 MB/s\u001b[0m eta \u001b[36m0:00:00\u001b[0m\n",
            "\u001b[?25h"
          ]
        }
      ],
      "source": [
        "%pip install --quiet -U langchain_groq langchain_core langgraph langgraph-checkpoint-sqlite\n"
      ]
    },
    {
      "cell_type": "code",
      "source": [
        "from google.colab import userdata\n",
        "apikey = userdata.get('GROQ_API_KEY')"
      ],
      "metadata": {
        "id": "02bHdvYuII_-"
      },
      "execution_count": 2,
      "outputs": []
    },
    {
      "cell_type": "code",
      "source": [
        "from langchain_groq import ChatGroq\n",
        "llm = ChatGroq(model= 'llama-3.3-70b-versatile', temperature = 0, api_key=apikey)"
      ],
      "metadata": {
        "id": "92dZD7-QIL2a"
      },
      "execution_count": 3,
      "outputs": []
    },
    {
      "cell_type": "markdown",
      "source": [
        "## Sqlite\n"
      ],
      "metadata": {
        "id": "EZ-e2iHFIOQR"
      }
    },
    {
      "cell_type": "code",
      "source": [
        "import sqlite3\n",
        "\n",
        "conn = sqlite3.connect(\":memory:\", check_same_thread=False)"
      ],
      "metadata": {
        "id": "X7HarY0OIOET"
      },
      "execution_count": 5,
      "outputs": []
    },
    {
      "cell_type": "code",
      "source": [
        "import sqlite3\n",
        "# pull file if it doesn't exist and connect to local db\n",
        "\n",
        "!mkdir -p state_db && [ ! -f state_db/example.db ] && wget -P state_db https://github.com/langchain-ai/langchain-academy/raw/main/module-2/state_db/example.db\n",
        "\n",
        "db_path = \"state_db/example.db\"\n",
        "conn = sqlite3.connect(db_path, check_same_thread=False)"
      ],
      "metadata": {
        "colab": {
          "base_uri": "https://localhost:8080/"
        },
        "id": "h28IhS6_Ix_d",
        "outputId": "23d0d14e-bb13-47f3-8f4c-b646f27bb646"
      },
      "execution_count": 6,
      "outputs": [
        {
          "output_type": "stream",
          "name": "stdout",
          "text": [
            "--2025-03-03 17:52:22--  https://github.com/langchain-ai/langchain-academy/raw/main/module-2/state_db/example.db\n",
            "Resolving github.com (github.com)... 140.82.112.4\n",
            "Connecting to github.com (github.com)|140.82.112.4|:443... connected.\n",
            "HTTP request sent, awaiting response... 302 Found\n",
            "Location: https://raw.githubusercontent.com/langchain-ai/langchain-academy/main/module-2/state_db/example.db [following]\n",
            "--2025-03-03 17:52:23--  https://raw.githubusercontent.com/langchain-ai/langchain-academy/main/module-2/state_db/example.db\n",
            "Resolving raw.githubusercontent.com (raw.githubusercontent.com)... 185.199.109.133, 185.199.110.133, 185.199.111.133, ...\n",
            "Connecting to raw.githubusercontent.com (raw.githubusercontent.com)|185.199.109.133|:443... connected.\n",
            "HTTP request sent, awaiting response... 200 OK\n",
            "Length: 110592 (108K) [application/octet-stream]\n",
            "Saving to: ‘state_db/example.db’\n",
            "\n",
            "example.db          100%[===================>] 108.00K  --.-KB/s    in 0.02s   \n",
            "\n",
            "2025-03-03 17:52:23 (4.39 MB/s) - ‘state_db/example.db’ saved [110592/110592]\n",
            "\n"
          ]
        }
      ]
    },
    {
      "cell_type": "code",
      "source": [
        "# Here is our checkpointer\n",
        "from langgraph.checkpoint.sqlite import SqliteSaver\n",
        "memory: SqliteSaver = SqliteSaver(conn)"
      ],
      "metadata": {
        "id": "0mK-2m_-I4J8"
      },
      "execution_count": 7,
      "outputs": []
    },
    {
      "cell_type": "code",
      "source": [
        "from langchain_core.messages import SystemMessage, HumanMessage, RemoveMessage\n",
        "\n",
        "from langgraph.graph import END\n",
        "from langgraph.graph import MessagesState\n",
        "\n",
        "\n",
        "class State(MessagesState):\n",
        "    summary: str\n",
        "\n",
        "# Define the logic to call the model\n",
        "def call_model(state: State) -> State:\n",
        "\n",
        "    # Get summary if it exists\n",
        "    summary = state.get(\"summary\", \"\")\n",
        "    print(f\"Using summary: {summary}\")\n",
        "\n",
        "    # If there is summary, then we add it\n",
        "    if summary:\n",
        "\n",
        "        # Add summary to system message\n",
        "        system_message = f\"Summary of conversation earlier: {summary}\"\n",
        "\n",
        "        # Append summary to any newer messages\n",
        "        messages = [SystemMessage(content=system_message)] + state[\"messages\"]\n",
        "\n",
        "    else:\n",
        "        messages = state[\"messages\"]\n",
        "\n",
        "    response = llm.invoke(messages)\n",
        "    return {\"messages\": response}\n",
        "\n",
        "def summarize_conversation(state: State) -> State:\n",
        "    print(f\"Messages before summarizing: {len(state['messages'])}\")\n",
        "    # First, we get any existing summary\n",
        "    summary = state.get(\"summary\", \"\")\n",
        "    print(f\"Existing summary: {summary}\")\n",
        "\n",
        "    # Create our summarization prompt\n",
        "    if summary:\n",
        "\n",
        "        # A summary already exists\n",
        "        summary_message = (\n",
        "            f\"This is summary of the conversation to date: {summary}\\n\\n\"\n",
        "            \"Extend the summary by taking into account the new messages above:\"\n",
        "        )\n",
        "\n",
        "    else:\n",
        "        summary_message = \"Create a summary of the conversation above:\"\n",
        "\n",
        "\n",
        "    # Add prompt to our history\n",
        "    messages = state[\"messages\"] + [HumanMessage(content=summary_message)]\n",
        "    response = llm.invoke(messages)\n",
        "    # Summarization logic\n",
        "    print(f\"New summary: {response.content}\")\n",
        "\n",
        "    # Delete all but the 2 most recent messages\n",
        "    delete_messages = [RemoveMessage(id=m.id) for m in state[\"messages\"][:-2]]\n",
        "\n",
        "    print(f\"Messages after truncation: {len(delete_messages)}\")\n",
        "    return {\"summary\": response.content, \"messages\": delete_messages}\n",
        "\n",
        "# Determine whether to end or summarize the conversation\n",
        "def should_continue(state: State) -> State:\n",
        "\n",
        "    \"\"\"Return the next node to execute.\"\"\"\n",
        "\n",
        "    messages = state[\"messages\"]\n",
        "    print(f\"Message count: {len(messages)}\")\n",
        "    # If there are more than six messages, then we summarize the conversation\n",
        "    if len(messages) > 6:\n",
        "        return \"summarize_conversation\"\n",
        "\n",
        "    # Otherwise we can just end\n",
        "    return END"
      ],
      "metadata": {
        "id": "2OwU9fzaI7Ng"
      },
      "execution_count": 9,
      "outputs": []
    },
    {
      "cell_type": "code",
      "source": [
        "from IPython.display import Image, display\n",
        "from langgraph.graph import StateGraph, START\n",
        "from langgraph.graph.state import CompiledStateGraph\n",
        "\n",
        "# Define a new graph\n",
        "workflow: StateGraph = StateGraph(State)\n",
        "workflow.add_node(\"conversation\", call_model)\n",
        "workflow.add_node(summarize_conversation)\n",
        "\n",
        "# Set the entrypoint as conversation\n",
        "workflow.add_edge(START, \"conversation\")\n",
        "workflow.add_conditional_edges(\"conversation\", should_continue)\n",
        "workflow.add_edge(\"summarize_conversation\", END)\n",
        "\n",
        "# Compile\n",
        "graph: CompiledStateGraph = workflow.compile(checkpointer=memory)\n",
        "display(Image(graph.get_graph().draw_mermaid_png()))"
      ],
      "metadata": {
        "colab": {
          "base_uri": "https://localhost:8080/",
          "height": 350
        },
        "id": "wVrdvSLLJDpT",
        "outputId": "52ac7ce5-99f4-42fb-e9e7-f1f79147b531"
      },
      "execution_count": 10,
      "outputs": [
        {
          "output_type": "display_data",
          "data": {
            "image/png": "[encoded data removed]",
            "text/plain": [
              "<IPython.core.display.Image object>"
            ]
          },
          "metadata": {}
        }
      ]
    },
    {
      "cell_type": "code",
      "source": [
        "# Create a thread\n",
        "config = {\"configurable\": {\"thread_id\": \"1\"}}\n",
        "\n",
        "# Start conversation\n",
        "input_message = HumanMessage(content=\"I would like to know about football.\")\n",
        "output = graph.invoke({\"messages\": [input_message]}, config)\n",
        "for m in output['messages'][-1:]:\n",
        "    m.pretty_print()"
      ],
      "metadata": {
        "colab": {
          "base_uri": "https://localhost:8080/"
        },
        "id": "fQhDv5bJJF4Q",
        "outputId": "6526094e-71d2-40ee-e2df-437c81030918"
      },
      "execution_count": 11,
      "outputs": [
        {
          "output_type": "stream",
          "name": "stdout",
          "text": [
            "Using summary: Here's a summary of the conversation:\n",
            "\n",
            "Lance introduced himself twice during the conversation. He expressed his fondness for the San Francisco 49ers football team. The AI assistant acknowledged Lance's name each time and showed willingness to discuss the 49ers, offering to talk about various aspects of the team such as their history, current roster, or memorable games. The conversation was brief and somewhat repetitive, with Lance reintroducing himself at the end without directly responding to the AI's questions or prompts about the 49ers.\n",
            "Message count: 8\n",
            "Messages before summarizing: 8\n",
            "Existing summary: Here's a summary of the conversation:\n",
            "\n",
            "Lance introduced himself twice during the conversation. He expressed his fondness for the San Francisco 49ers football team. The AI assistant acknowledged Lance's name each time and showed willingness to discuss the 49ers, offering to talk about various aspects of the team such as their history, current roster, or memorable games. The conversation was brief and somewhat repetitive, with Lance reintroducing himself at the end without directly responding to the AI's questions or prompts about the 49ers.\n",
            "New summary: Here's an updated summary of the conversation:\n",
            "\n",
            "Lance introduced himself twice during the conversation. He expressed his fondness for the San Francisco 49ers football team. The AI assistant acknowledged Lance's name each time and showed willingness to discuss the 49ers, offering to talk about various aspects of the team such as their history, current roster, or memorable games. The conversation was brief and somewhat repetitive, with Lance reintroducing himself at the end without directly responding to the AI's questions or prompts about the 49ers.\n",
            "\n",
            "As the conversation progressed, Lance mentioned that he would like to know about football, which led the AI assistant to provide a general overview of the sport, including its basics, the NFL, and the 49ers. The AI assistant explained the objective of the game, the different positions, and the gameplay, in an attempt to educate Lance about football. Despite this, Lance did not engage in a detailed discussion about the 49ers or football, instead opting to reiterate his interest in the sport without providing further context or asking specific questions. The conversation remains open, with the AI assistant waiting for Lance to provide more input or guidance on how to proceed with the discussion about the 49ers or football.\n",
            "Messages after truncation: 6\n",
            "==================================\u001b[1m Ai Message \u001b[0m==================================\n",
            "\n",
            "Football is an exciting sport. Since you're a 49ers fan, I'll provide an overview of the game and highlight some key aspects related to the NFL and the 49ers.\n",
            "\n",
            "**The Basics:**\n",
            "\n",
            "* Football is a contact team sport played with an oval-shaped ball.\n",
            "* Two teams, each with 11 players, take turns playing offense (trying to score) and defense (trying to stop the other team from scoring).\n",
            "* The team with possession of the ball is called the offense, and they try to score by carrying or throwing the ball into the end zone of the opponent's field.\n",
            "* Points can be scored through touchdowns (6 points), field goals (3 points), or extra points (1 or 2 points).\n",
            "\n",
            "**NFL and 49ers:**\n",
            "\n",
            "* The National Football League (NFL) is the top-level professional American football league in the United States.\n",
            "* The San Francisco 49ers are a professional football team based in the San Francisco Bay Area, competing in the NFL's NFC West division.\n",
            "* The 49ers have a rich history, with five Super Bowl wins and a loyal fan base.\n",
            "\n",
            "**Positions and Roles:**\n",
            "\n",
            "* Quarterback (QB): The player who usually throws the ball and leads the offense.\n",
            "* Running Back (RB): The player who carries the ball on running plays.\n",
            "* Wide Receiver (WR): The player who catches passes from the quarterback.\n",
            "* Linemen: Players who line up on the line of scrimmage and try to block or tackle the opponent.\n",
            "\n",
            "**Gameplay:**\n",
            "\n",
            "* A standard game is divided into four quarters, each lasting 15 minutes.\n",
            "* The team with possession of the ball has four chances (called downs) to advance the ball 10 yards or score.\n",
            "* If they succeed, they get four new downs. If they fail, the ball is turned over to the other team.\n",
            "\n",
            "This is a basic overview of football and the NFL. As a 49ers fan, you might be interested in learning more about the team's history, current roster, or upcoming games. Would you like to explore any of these topics further?\n"
          ]
        }
      ]
    },
    {
      "cell_type": "code",
      "source": [
        "input_message = HumanMessage(content=\"what's my name?\")\n",
        "output = graph.invoke({\"messages\": [input_message]}, config)\n",
        "for m in output['messages'][-1:]:\n",
        "    m.pretty_print()"
      ],
      "metadata": {
        "colab": {
          "base_uri": "https://localhost:8080/"
        },
        "id": "NHAfhh2MJLmb",
        "outputId": "5c79bad1-69f5-498d-af0d-92732aa02a3e"
      },
      "execution_count": 12,
      "outputs": [
        {
          "output_type": "stream",
          "name": "stdout",
          "text": [
            "Using summary: Here's an updated summary of the conversation:\n",
            "\n",
            "Lance introduced himself twice during the conversation. He expressed his fondness for the San Francisco 49ers football team. The AI assistant acknowledged Lance's name each time and showed willingness to discuss the 49ers, offering to talk about various aspects of the team such as their history, current roster, or memorable games. The conversation was brief and somewhat repetitive, with Lance reintroducing himself at the end without directly responding to the AI's questions or prompts about the 49ers.\n",
            "\n",
            "As the conversation progressed, Lance mentioned that he would like to know about football, which led the AI assistant to provide a general overview of the sport, including its basics, the NFL, and the 49ers. The AI assistant explained the objective of the game, the different positions, and the gameplay, in an attempt to educate Lance about football. Despite this, Lance did not engage in a detailed discussion about the 49ers or football, instead opting to reiterate his interest in the sport without providing further context or asking specific questions. The conversation remains open, with the AI assistant waiting for Lance to provide more input or guidance on how to proceed with the discussion about the 49ers or football.\n",
            "Message count: 4\n",
            "==================================\u001b[1m Ai Message \u001b[0m==================================\n",
            "\n",
            "Your name is Lance. You mentioned it earlier in our conversation when you introduced yourself as a fan of the San Francisco 49ers.\n"
          ]
        }
      ]
    },
    {
      "cell_type": "code",
      "source": [
        "input_message = HumanMessage(content=\"i like the 49ers!\")\n",
        "output = graph.invoke({\"messages\": [input_message]}, config)\n",
        "for m in output['messages'][-1:]:\n",
        "    m.pretty_print()"
      ],
      "metadata": {
        "colab": {
          "base_uri": "https://localhost:8080/"
        },
        "id": "-mLMbYFMJOe6",
        "outputId": "11bca440-7d47-4265-9f1c-ec6a6dce25ed"
      },
      "execution_count": 13,
      "outputs": [
        {
          "output_type": "stream",
          "name": "stdout",
          "text": [
            "Using summary: Here's an updated summary of the conversation:\n",
            "\n",
            "Lance introduced himself twice during the conversation. He expressed his fondness for the San Francisco 49ers football team. The AI assistant acknowledged Lance's name each time and showed willingness to discuss the 49ers, offering to talk about various aspects of the team such as their history, current roster, or memorable games. The conversation was brief and somewhat repetitive, with Lance reintroducing himself at the end without directly responding to the AI's questions or prompts about the 49ers.\n",
            "\n",
            "As the conversation progressed, Lance mentioned that he would like to know about football, which led the AI assistant to provide a general overview of the sport, including its basics, the NFL, and the 49ers. The AI assistant explained the objective of the game, the different positions, and the gameplay, in an attempt to educate Lance about football. Despite this, Lance did not engage in a detailed discussion about the 49ers or football, instead opting to reiterate his interest in the sport without providing further context or asking specific questions. The conversation remains open, with the AI assistant waiting for Lance to provide more input or guidance on how to proceed with the discussion about the 49ers or football.\n",
            "Message count: 6\n",
            "==================================\u001b[1m Ai Message \u001b[0m==================================\n",
            "\n",
            "I remember! You're a fan of the San Francisco 49ers, Lance. That's great! The 49ers have a rich history and a dedicated fan base. Would you like to talk about your favorite player, a memorable game, or perhaps the team's chances this season? I'm here to chat with you about all things 49ers!\n"
          ]
        }
      ]
    },
    {
      "cell_type": "code",
      "source": [
        "config = {\"configurable\": {\"thread_id\": \"1\"}}\n",
        "graph_state = graph.get_state(config)\n",
        "graph_state"
      ],
      "metadata": {
        "colab": {
          "base_uri": "https://localhost:8080/"
        },
        "id": "f36JjJP7JQ5x",
        "outputId": "6a91d2ea-ecdf-4029-868b-60578363619c"
      },
      "execution_count": 14,
      "outputs": [
        {
          "output_type": "execute_result",
          "data": {
            "text/plain": [
              "StateSnapshot(values={'messages': [HumanMessage(content='I would like to know about football.', additional_kwargs={}, response_metadata={}, id='4f2c5b47-2665-491c-ac8c-963853129829'), AIMessage(content=\"Football is an exciting sport. Since you're a 49ers fan, I'll provide an overview of the game and highlight some key aspects related to the NFL and the 49ers.\\n\\n**The Basics:**\\n\\n* Football is a contact team sport played with an oval-shaped ball.\\n* Two teams, each with 11 players, take turns playing offense (trying to score) and defense (trying to stop the other team from scoring).\\n* The team with possession of the ball is called the offense, and they try to score by carrying or throwing the ball into the end zone of the opponent's field.\\n* Points can be scored through touchdowns (6 points), field goals (3 points), or extra points (1 or 2 points).\\n\\n**NFL and 49ers:**\\n\\n* The National Football League (NFL) is the top-level professional American football league in the United States.\\n* The San Francisco 49ers are a professional football team based in the San Francisco Bay Area, competing in the NFL's NFC West division.\\n* The 49ers have a rich history, with five Super Bowl wins and a loyal fan base.\\n\\n**Positions and Roles:**\\n\\n* Quarterback (QB): The player who usually throws the ball and leads the offense.\\n* Running Back (RB): The player who carries the ball on running plays.\\n* Wide Receiver (WR): The player who catches passes from the quarterback.\\n* Linemen: Players who line up on the line of scrimmage and try to block or tackle the opponent.\\n\\n**Gameplay:**\\n\\n* A standard game is divided into four quarters, each lasting 15 minutes.\\n* The team with possession of the ball has four chances (called downs) to advance the ball 10 yards or score.\\n* If they succeed, they get four new downs. If they fail, the ball is turned over to the other team.\\n\\nThis is a basic overview of football and the NFL. As a 49ers fan, you might be interested in learning more about the team's history, current roster, or upcoming games. Would you like to explore any of these topics further?\", additional_kwargs={}, response_metadata={'token_usage': {'completion_tokens': 426, 'prompt_tokens': 384, 'total_tokens': 810, 'completion_time': 1.549090909, 'prompt_time': 0.019801505, 'queue_time': 0.204919021, 'total_time': 1.568892414}, 'model_name': 'llama-3.3-70b-versatile', 'system_fingerprint': 'fp_2ca0059abb', 'finish_reason': 'stop', 'logprobs': None}, id='run-1dc8d44a-f310-41bc-bfb3-6f4b4520c5f2-0', usage_metadata={'input_tokens': 384, 'output_tokens': 426, 'total_tokens': 810}), HumanMessage(content=\"what's my name?\", additional_kwargs={}, response_metadata={}, id='10889802-b664-43d1-920a-42982ba1acf4'), AIMessage(content='Your name is Lance. You mentioned it earlier in our conversation when you introduced yourself as a fan of the San Francisco 49ers.', additional_kwargs={}, response_metadata={'token_usage': {'completion_tokens': 28, 'prompt_tokens': 734, 'total_tokens': 762, 'completion_time': 0.101818182, 'prompt_time': 0.032887357, 'queue_time': 0.337742899, 'total_time': 0.134705539}, 'model_name': 'llama-3.3-70b-versatile', 'system_fingerprint': 'fp_e669a124b2', 'finish_reason': 'stop', 'logprobs': None}, id='run-37156294-1628-44f4-b432-f1e61ae37224-0', usage_metadata={'input_tokens': 734, 'output_tokens': 28, 'total_tokens': 762}), HumanMessage(content='i like the 49ers!', additional_kwargs={}, response_metadata={}, id='0cdc07f4-c3ba-458b-abfa-5fd2d71ac0ea'), AIMessage(content=\"I remember! You're a fan of the San Francisco 49ers, Lance. That's great! The 49ers have a rich history and a dedicated fan base. Would you like to talk about your favorite player, a memorable game, or perhaps the team's chances this season? I'm here to chat with you about all things 49ers!\", additional_kwargs={}, response_metadata={'token_usage': {'completion_tokens': 73, 'prompt_tokens': 778, 'total_tokens': 851, 'completion_time': 0.265454545, 'prompt_time': 0.044894204, 'queue_time': 0.23234344699999998, 'total_time': 0.310348749}, 'model_name': 'llama-3.3-70b-versatile', 'system_fingerprint': 'fp_76dc6cf67d', 'finish_reason': 'stop', 'logprobs': None}, id='run-963cc9f4-d480-4647-9216-41557d8db261-0', usage_metadata={'input_tokens': 778, 'output_tokens': 73, 'total_tokens': 851})], 'summary': \"Here's an updated summary of the conversation:\\n\\nLance introduced himself twice during the conversation. He expressed his fondness for the San Francisco 49ers football team. The AI assistant acknowledged Lance's name each time and showed willingness to discuss the 49ers, offering to talk about various aspects of the team such as their history, current roster, or memorable games. The conversation was brief and somewhat repetitive, with Lance reintroducing himself at the end without directly responding to the AI's questions or prompts about the 49ers.\\n\\nAs the conversation progressed, Lance mentioned that he would like to know about football, which led the AI assistant to provide a general overview of the sport, including its basics, the NFL, and the 49ers. The AI assistant explained the objective of the game, the different positions, and the gameplay, in an attempt to educate Lance about football. Despite this, Lance did not engage in a detailed discussion about the 49ers or football, instead opting to reiterate his interest in the sport without providing further context or asking specific questions. The conversation remains open, with the AI assistant waiting for Lance to provide more input or guidance on how to proceed with the discussion about the 49ers or football.\"}, next=(), config={'configurable': {'thread_id': '1', 'checkpoint_ns': '', 'checkpoint_id': '1eff8588-7978-69cd-801b-7353f3e478bf'}}, metadata={'source': 'loop', 'writes': {'conversation': {'messages': AIMessage(content=\"I remember! You're a fan of the San Francisco 49ers, Lance. That's great! The 49ers have a rich history and a dedicated fan base. Would you like to talk about your favorite player, a memorable game, or perhaps the team's chances this season? I'm here to chat with you about all things 49ers!\", additional_kwargs={}, response_metadata={'token_usage': {'completion_tokens': 73, 'prompt_tokens': 778, 'total_tokens': 851, 'completion_time': 0.265454545, 'prompt_time': 0.044894204, 'queue_time': 0.23234344699999998, 'total_time': 0.310348749}, 'model_name': 'llama-3.3-70b-versatile', 'system_fingerprint': 'fp_76dc6cf67d', 'finish_reason': 'stop', 'logprobs': None}, id='run-963cc9f4-d480-4647-9216-41557d8db261-0', usage_metadata={'input_tokens': 778, 'output_tokens': 73, 'total_tokens': 851})}}, 'thread_id': '1', 'step': 27, 'parents': {}}, created_at='2025-03-03T17:54:18.744020+00:00', parent_config={'configurable': {'thread_id': '1', 'checkpoint_ns': '', 'checkpoint_id': '1eff8588-729c-6a8e-801a-acf57354f76b'}}, tasks=())"
            ]
          },
          "metadata": {},
          "execution_count": 14
        }
      ]
    },
    {
      "cell_type": "code",
      "source": [
        "config = {\"configurable\": {\"thread_id\": \"1\"}}\n",
        "messages = graph.get_state(config).values.get(\"messages\")\n",
        "len(messages)"
      ],
      "metadata": {
        "colab": {
          "base_uri": "https://localhost:8080/"
        },
        "id": "lpDjU0vKJTnw",
        "outputId": "e1b4ee87-2ebf-4bde-f8cb-a4fbb3a20207"
      },
      "execution_count": 15,
      "outputs": [
        {
          "output_type": "execute_result",
          "data": {
            "text/plain": [
              "6"
            ]
          },
          "metadata": {},
          "execution_count": 15
        }
      ]
    },
    {
      "cell_type": "code",
      "source": [
        "graph_state = graph.get_state(config).values.get(\"summary\",\"\")\n",
        "graph_state"
      ],
      "metadata": {
        "colab": {
          "base_uri": "https://localhost:8080/",
          "height": 139
        },
        "id": "MSYyPBObJVsg",
        "outputId": "c15f4752-fa42-4375-8f5a-b07cf9a4365d"
      },
      "execution_count": 16,
      "outputs": [
        {
          "output_type": "execute_result",
          "data": {
            "text/plain": [
              "\"Here's an updated summary of the conversation:\\n\\nLance introduced himself twice during the conversation. He expressed his fondness for the San Francisco 49ers football team. The AI assistant acknowledged Lance's name each time and showed willingness to discuss the 49ers, offering to talk about various aspects of the team such as their history, current roster, or memorable games. The conversation was brief and somewhat repetitive, with Lance reintroducing himself at the end without directly responding to the AI's questions or prompts about the 49ers.\\n\\nAs the conversation progressed, Lance mentioned that he would like to know about football, which led the AI assistant to provide a general overview of the sport, including its basics, the NFL, and the 49ers. The AI assistant explained the objective of the game, the different positions, and the gameplay, in an attempt to educate Lance about football. Despite this, Lance did not engage in a detailed discussion about the 49ers or football, instead opting to reiterate his interest in the sport without providing further context or asking specific questions. The conversation remains open, with the AI assistant waiting for Lance to provide more input or guidance on how to proceed with the discussion about the 49ers or football.\""
            ],
            "application/vnd.google.colaboratory.intrinsic+json": {
              "type": "string"
            }
          },
          "metadata": {},
          "execution_count": 16
        }
      ]
    }
  ]
}