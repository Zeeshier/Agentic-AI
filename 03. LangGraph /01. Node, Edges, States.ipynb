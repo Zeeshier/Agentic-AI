{
  "cells": [
    {
      "cell_type": "markdown",
      "metadata": {
        "id": "NtgbQsOthkUT"
      },
      "source": [
        "# Basics"
      ]
    },
    {
      "cell_type": "code",
      "execution_count": 2,
      "metadata": {
        "id": "jtRLY8RMirqH",
        "colab": {
          "base_uri": "https://localhost:8080/"
        },
        "outputId": "22a6289e-2047-450a-e557-d8b5779cda59"
      },
      "outputs": [
        {
          "output_type": "stream",
          "name": "stdout",
          "text": [
            "\u001b[?25l   \u001b[90m━━━━━━━━━━━━━━━━━━━━━━━━━━━━━━━━━━━━━━━━\u001b[0m \u001b[32m0.0/151.4 kB\u001b[0m \u001b[31m?\u001b[0m eta \u001b[36m-:--:--\u001b[0m\r\u001b[2K   \u001b[90m━━━━━━━━━━━━━━━━━━━━━━━━━━━━━━━━━━━━━━━━\u001b[0m \u001b[32m151.4/151.4 kB\u001b[0m \u001b[31m9.1 MB/s\u001b[0m eta \u001b[36m0:00:00\u001b[0m\n",
            "\u001b[?25h\u001b[?25l   \u001b[90m━━━━━━━━━━━━━━━━━━━━━━━━━━━━━━━━━━━━━━━━\u001b[0m \u001b[32m0.0/121.9 kB\u001b[0m \u001b[31m?\u001b[0m eta \u001b[36m-:--:--\u001b[0m\r\u001b[2K   \u001b[90m━━━━━━━━━━━━━━━━━━━━━━━━━━━━━━━━━━━━━━━━\u001b[0m \u001b[32m121.9/121.9 kB\u001b[0m \u001b[31m9.0 MB/s\u001b[0m eta \u001b[36m0:00:00\u001b[0m\n",
            "\u001b[?25h\u001b[?25l   \u001b[90m━━━━━━━━━━━━━━━━━━━━━━━━━━━━━━━━━━━━━━━━\u001b[0m \u001b[32m0.0/45.4 kB\u001b[0m \u001b[31m?\u001b[0m eta \u001b[36m-:--:--\u001b[0m\r\u001b[2K   \u001b[90m━━━━━━━━━━━━━━━━━━━━━━━━━━━━━━━━━━━━━━━━\u001b[0m \u001b[32m45.4/45.4 kB\u001b[0m \u001b[31m3.0 MB/s\u001b[0m eta \u001b[36m0:00:00\u001b[0m\n",
            "\u001b[?25h"
          ]
        }
      ],
      "source": [
        "!pip install -q  langchain langgraph langchain_groq"
      ]
    },
    {
      "cell_type": "code",
      "execution_count": 3,
      "metadata": {
        "id": "BSCHh9JyhprB"
      },
      "outputs": [],
      "source": [
        "from langchain_groq import ChatGroq"
      ]
    },
    {
      "cell_type": "code",
      "execution_count": 89,
      "metadata": {
        "id": "DQpsx3Gwj6kv"
      },
      "outputs": [],
      "source": [
        "from google.colab import userdata\n",
        "apikey = userdata.get('GROQ_API_KEY')"
      ]
    },
    {
      "cell_type": "code",
      "execution_count": 90,
      "metadata": {
        "id": "NwqQcnnviDqV"
      },
      "outputs": [],
      "source": [
        "llm = ChatGroq(model= 'llama-3.3-70b-versatile', temperature = 0, api_key=apikey)"
      ]
    },
    {
      "cell_type": "code",
      "source": [
        "llm.invoke('what is ai?')"
      ],
      "metadata": {
        "colab": {
          "base_uri": "https://localhost:8080/"
        },
        "id": "3wpQLv6RFMoT",
        "outputId": "86838419-c66f-4de8-dcae-d9f23ccaf845"
      },
      "execution_count": 91,
      "outputs": [
        {
          "output_type": "execute_result",
          "data": {
            "text/plain": [
              "AIMessage(content='Artificial Intelligence (AI) refers to the development of computer systems that can perform tasks that would typically require human intelligence, such as:\\n\\n1. **Learning**: AI systems can learn from data, experiences, and interactions, enabling them to improve their performance over time.\\n2. **Problem-solving**: AI systems can analyze problems, identify patterns, and make decisions or recommendations based on that analysis.\\n3. **Reasoning**: AI systems can draw inferences, make logical connections, and arrive at conclusions based on available data.\\n4. **Perception**: AI systems can interpret and understand data from sensors, such as images, speech, and text.\\n\\nThe primary goals of AI are to:\\n\\n1. **Mimic human intelligence**: Create systems that can think, learn, and behave like humans.\\n2. **Augment human capabilities**: Develop systems that can assist humans in various tasks, making them more efficient and effective.\\n3. **Automate tasks**: Create systems that can perform tasks autonomously, without human intervention.\\n\\nAI has many applications across various industries, including:\\n\\n1. **Virtual assistants** (e.g., Siri, Alexa)\\n2. **Image and speech recognition** (e.g., facial recognition, voice assistants)\\n3. **Natural Language Processing** (e.g., chatbots, language translation)\\n4. **Predictive analytics** (e.g., forecasting, recommendation systems)\\n5. **Robotics** (e.g., autonomous vehicles, industrial robots)\\n6. **Healthcare** (e.g., medical diagnosis, personalized medicine)\\n7. **Finance** (e.g., trading, risk management)\\n\\nThere are several types of AI, including:\\n\\n1. **Narrow or Weak AI**: Designed to perform a specific task, such as image recognition or language translation.\\n2. **General or Strong AI**: Aims to create a system that can perform any intellectual task that a human can.\\n3. **Superintelligence**: A hypothetical AI system that is significantly more intelligent than the best human minds.\\n\\nAs AI continues to evolve, it has the potential to transform many aspects of our lives, from how we work and communicate to how we live and interact with the world around us.', additional_kwargs={}, response_metadata={'token_usage': {'completion_tokens': 441, 'prompt_tokens': 39, 'total_tokens': 480, 'completion_time': 1.603636364, 'prompt_time': 0.004505666, 'queue_time': 0.19718105400000002, 'total_time': 1.60814203}, 'model_name': 'llama-3.3-70b-versatile', 'system_fingerprint': 'fp_0a4b7a8df3', 'finish_reason': 'stop', 'logprobs': None}, id='run-c64134a8-3e6d-483c-8ed1-d1a9dcfdd0a3-0', usage_metadata={'input_tokens': 39, 'output_tokens': 441, 'total_tokens': 480})"
            ]
          },
          "metadata": {},
          "execution_count": 91
        }
      ]
    },
    {
      "cell_type": "code",
      "source": [
        "from langchain_core.messages import HumanMessage , AIMessage\n",
        "\n",
        "# create a list\n",
        "messages = [\n",
        "    HumanMessage(content='Hi?', name='Student'),\n",
        "    AIMessage(content='Hi! How can I help you today?', name='AI'),\n",
        "    HumanMessage(content='what is meant by AI?', name='Student'),\n",
        "    AIMessage(content='Artificial Intelligence (AI) refers to the development of computer systems that can perform tasks that would typically require human intelligence', name='AI'),\n",
        "    HumanMessage('How can I learn')\n",
        "]\n",
        "\n",
        "llm.invoke(messages)"
      ],
      "metadata": {
        "colab": {
          "base_uri": "https://localhost:8080/"
        },
        "id": "IYJRscsZGKqU",
        "outputId": "d6fab37c-efa4-4d32-f19d-c25a49f33e9d"
      },
      "execution_count": 21,
      "outputs": [
        {
          "output_type": "execute_result",
          "data": {
            "text/plain": [
              "AIMessage(content='There are many ways to learn about Artificial Intelligence (AI). Here are some suggestions:\\n\\n1. **Online Courses**: Websites like Coursera, edX, and Udemy offer a wide range of AI courses, from beginner to advanced levels.\\n2. **Books**: There are many books on AI, including \"Artificial Intelligence: A Modern Approach\" by Stuart Russell and Peter Norvig, and \"Deep Learning\" by Ian Goodfellow, Yoshua Bengio, and Aaron Courville.\\n3. **Tutorials and Guides**: Websites like TensorFlow, PyTorch, and Keras provide tutorials and guides on how to get started with AI and machine learning.\\n4. **YouTube Channels**: Channels like 3Blue1Brown, Machine Learning Mastery, and Siraj Raval offer video tutorials and explanations on AI and machine learning concepts.\\n5. **Practice with Projects**: Start with simple projects, such as building a chatbot or image classifier, to gain hands-on experience with AI.\\n6. **Join Online Communities**: Participate in online forums like Kaggle, Reddit (r/MachineLearning and r/AI), and GitHub to connect with other AI enthusiasts and learn from their experiences.\\n7. **Attend Conferences and Meetups**: Attend AI conferences, meetups, and workshops to learn from experts and network with others in the field.\\n8. **Take Online Certifications**: Consider taking online certifications like the Certified Data Scientist or Certified AI Engineer to demonstrate your skills and knowledge.\\n\\nRemember, learning AI is a continuous process, and it\\'s essential to stay updated with the latest developments and advancements in the field.\\n\\nWhat specific area of AI are you interested in learning about?', additional_kwargs={}, response_metadata={'token_usage': {'completion_tokens': 338, 'prompt_tokens': 99, 'total_tokens': 437, 'completion_time': 1.229090909, 'prompt_time': 0.007167557, 'queue_time': 0.196714525, 'total_time': 1.236258466}, 'model_name': 'llama-3.3-70b-versatile', 'system_fingerprint': 'fp_0a4b7a8df3', 'finish_reason': 'stop', 'logprobs': None}, id='run-c3732565-e2cc-4faf-b862-1996beee61b1-0', usage_metadata={'input_tokens': 99, 'output_tokens': 338, 'total_tokens': 437})"
            ]
          },
          "metadata": {},
          "execution_count": 21
        }
      ]
    },
    {
      "cell_type": "markdown",
      "source": [
        "# LangGraph"
      ],
      "metadata": {
        "id": "nKz2tAHUL7UB"
      }
    },
    {
      "cell_type": "markdown",
      "source": [
        "## 1.Simple Graph"
      ],
      "metadata": {
        "id": "Q7q6YnO4L9S4"
      }
    },
    {
      "cell_type": "markdown",
      "source": [
        "### State"
      ],
      "metadata": {
        "id": "gi6oWfHTMCkg"
      }
    },
    {
      "cell_type": "code",
      "source": [
        "from typing_extensions import TypedDict\n",
        "\n",
        "class LearningState(TypedDict):\n",
        "  prompt : str"
      ],
      "metadata": {
        "id": "EWDg5wp_MElw"
      },
      "execution_count": 22,
      "outputs": []
    },
    {
      "cell_type": "code",
      "source": [
        "sgd_state : LearningState = LearningState(prompt='Hello, Zeeshan from UOL')"
      ],
      "metadata": {
        "id": "B-YXuoV5MmJ6"
      },
      "execution_count": 23,
      "outputs": []
    },
    {
      "cell_type": "code",
      "source": [
        "print(sgd_state)\n",
        "print(sgd_state['prompt'] + ' I am Pakistani ')"
      ],
      "metadata": {
        "colab": {
          "base_uri": "https://localhost:8080/"
        },
        "id": "Qx2VPHRlMzMB",
        "outputId": "faf96503-3290-4cdd-bf20-16eb7b5cb816"
      },
      "execution_count": 30,
      "outputs": [
        {
          "output_type": "stream",
          "name": "stdout",
          "text": [
            "{'prompt': 'Hello, Zeeshan from UOL'}\n",
            "Hello, Zeeshan from UOL I am Pakistani \n"
          ]
        }
      ]
    },
    {
      "cell_type": "code",
      "source": [
        "print(sgd_state['prompt']+ ' Sargodha Campus')"
      ],
      "metadata": {
        "colab": {
          "base_uri": "https://localhost:8080/"
        },
        "id": "WiY6sGeZNK0R",
        "outputId": "b85bd81e-fdc7-4387-f1fc-c8f4bc40afa7"
      },
      "execution_count": 31,
      "outputs": [
        {
          "output_type": "stream",
          "name": "stdout",
          "text": [
            "Hello, Zeeshan from UOL Sargodha Campus\n"
          ]
        }
      ]
    },
    {
      "cell_type": "markdown",
      "source": [
        "### Nodes\n"
      ],
      "metadata": {
        "id": "RoynKXC-NXCp"
      }
    },
    {
      "cell_type": "code",
      "source": [
        "def node_1(state: LearningState) -> LearningState:\n",
        "  print('---Node 1---  ', state)\n",
        "  return {'prompt' : state['prompt'] + 'I am '}\n",
        "\n",
        "def node_2(state: LearningState) -> LearningState:\n",
        "  print('--- Node 2--- ', state)\n",
        "  return {'prompt': state['prompt'] + ' Pakistani'}"
      ],
      "metadata": {
        "id": "4RieuIknNYbP"
      },
      "execution_count": 32,
      "outputs": []
    },
    {
      "cell_type": "markdown",
      "source": [
        "### Edge\n",
        "\n",
        "Edges connect the nodes.\n"
      ],
      "metadata": {
        "id": "yDjgTtdBOYCR"
      }
    },
    {
      "cell_type": "markdown",
      "source": [
        "### Graph Construction"
      ],
      "metadata": {
        "id": "l__EKREJOfEY"
      }
    },
    {
      "cell_type": "code",
      "source": [
        "from IPython.display import Image, display\n",
        "from langgraph.graph import StateGraph, START, END\n",
        "from langgraph.graph.state import CompiledStateGraph\n",
        "\n",
        "builder : StateGraph = StateGraph(state_schema = LearningState)"
      ],
      "metadata": {
        "id": "jwMvwwaGOXOj"
      },
      "execution_count": 33,
      "outputs": []
    },
    {
      "cell_type": "code",
      "source": [
        "print(type(builder))"
      ],
      "metadata": {
        "colab": {
          "base_uri": "https://localhost:8080/"
        },
        "id": "35BP5czUPTic",
        "outputId": "ff6a343e-7e25-41b8-df55-ca2279b52a10"
      },
      "execution_count": 34,
      "outputs": [
        {
          "output_type": "stream",
          "name": "stdout",
          "text": [
            "<class 'langgraph.graph.state.StateGraph'>\n"
          ]
        }
      ]
    },
    {
      "cell_type": "code",
      "source": [
        "# Nodes\n",
        "builder.add_node('node_1', node_1)\n",
        "builder.add_node('node_2', node_2)"
      ],
      "metadata": {
        "colab": {
          "base_uri": "https://localhost:8080/"
        },
        "id": "RPW19G_qPZKX",
        "outputId": "2e24e1e5-c012-4176-d18f-1fabffea2e9b"
      },
      "execution_count": 35,
      "outputs": [
        {
          "output_type": "execute_result",
          "data": {
            "text/plain": [
              "<langgraph.graph.state.StateGraph at 0x7fe05da3fa90>"
            ]
          },
          "metadata": {},
          "execution_count": 35
        }
      ]
    },
    {
      "cell_type": "code",
      "source": [
        "# Simples Edges Logic\n",
        "builder.add_edge(START, 'node_1')\n",
        "builder.add_edge('node_1','node_2')\n",
        "builder.add_edge('node_2', END)\n",
        "\n",
        "# Add\n",
        "graph: CompiledStateGraph = builder.compile()"
      ],
      "metadata": {
        "id": "HNmlSOisPqhw"
      },
      "execution_count": 37,
      "outputs": []
    },
    {
      "cell_type": "code",
      "source": [
        "print(graph)"
      ],
      "metadata": {
        "colab": {
          "base_uri": "https://localhost:8080/"
        },
        "id": "6fl62v9OQJwc",
        "outputId": "0673c233-7602-4ebd-8fed-52306a66f4b1"
      },
      "execution_count": 38,
      "outputs": [
        {
          "output_type": "stream",
          "name": "stdout",
          "text": [
            "<langgraph.graph.state.CompiledStateGraph object at 0x7fe068ba5fd0>\n"
          ]
        }
      ]
    },
    {
      "cell_type": "code",
      "source": [
        "print(graph.get_graph())"
      ],
      "metadata": {
        "colab": {
          "base_uri": "https://localhost:8080/"
        },
        "id": "o9G0OyOXQMU6",
        "outputId": "df04547a-3969-4dd5-af3d-59bcf8a849a8"
      },
      "execution_count": 40,
      "outputs": [
        {
          "output_type": "stream",
          "name": "stdout",
          "text": [
            "Graph(nodes={'__start__': Node(id='__start__', name='__start__', data=<class 'langchain_core.utils.pydantic.LangGraphInput'>, metadata=None), 'node_1': Node(id='node_1', name='node_1', data=node_1(tags=None, recurse=True, explode_args=False, func_accepts_config=False, func_accepts={}), metadata=None), 'node_2': Node(id='node_2', name='node_2', data=node_2(tags=None, recurse=True, explode_args=False, func_accepts_config=False, func_accepts={}), metadata=None), '__end__': Node(id='__end__', name='__end__', data=<class 'langchain_core.utils.pydantic.LangGraphOutput'>, metadata=None)}, edges=[Edge(source='__start__', target='node_1', data=None, conditional=False), Edge(source='node_1', target='node_2', data=None, conditional=False), Edge(source='node_2', target='__end__', data=None, conditional=False)])\n"
          ]
        }
      ]
    },
    {
      "cell_type": "code",
      "source": [
        "#view\n",
        "display(Image(graph.get_graph().draw_mermaid_png()))"
      ],
      "metadata": {
        "colab": {
          "base_uri": "https://localhost:8080/",
          "height": 350
        },
        "id": "RICYi9NpQQXI",
        "outputId": "07a7a8f8-2f1d-4a00-f4be-1c682740f3ae"
      },
      "execution_count": 41,
      "outputs": [
        {
          "output_type": "display_data",
          "data": {
            "image/png": "[encoded data removed]",
            "text/plain": [
              "<IPython.core.display.Image object>"
            ]
          },
          "metadata": {}
        }
      ]
    },
    {
      "cell_type": "markdown",
      "source": [
        "### Graph Invocation\n"
      ],
      "metadata": {
        "id": "ndzhxGJOQjc6"
      }
    },
    {
      "cell_type": "code",
      "source": [
        "graph.invoke({'prompt': 'Hello,how are you '})"
      ],
      "metadata": {
        "colab": {
          "base_uri": "https://localhost:8080/"
        },
        "id": "4Vgyg3sHQktA",
        "outputId": "8ff2f1bc-c6da-414a-b849-a4dc46a4991e"
      },
      "execution_count": 45,
      "outputs": [
        {
          "output_type": "stream",
          "name": "stdout",
          "text": [
            "---Node 1---   {'prompt': 'Hello,how are you '}\n",
            "--- Node 2---  {'prompt': 'Hello,how are you I am '}\n"
          ]
        },
        {
          "output_type": "execute_result",
          "data": {
            "text/plain": [
              "{'prompt': 'Hello,how are you I am  Pakistani'}"
            ]
          },
          "metadata": {},
          "execution_count": 45
        }
      ]
    },
    {
      "cell_type": "markdown",
      "source": [
        "## 2.Conditional Graph"
      ],
      "metadata": {
        "id": "N1898L4PQ-S_"
      }
    },
    {
      "cell_type": "code",
      "source": [
        "from typing_extensions import TypedDict\n",
        "\n",
        "class State(TypedDict):\n",
        "  graph_state: str"
      ],
      "metadata": {
        "id": "pbQ57FRVRA0A"
      },
      "execution_count": 64,
      "outputs": []
    },
    {
      "cell_type": "markdown",
      "source": [
        "### Node"
      ],
      "metadata": {
        "id": "iUaDjznOSdAq"
      }
    },
    {
      "cell_type": "code",
      "source": [
        "def node1(state:State) -> State:\n",
        "  print('---Node 1',state)\n",
        "  return {'graph_state': state['graph_state'] + 'I am '}\n",
        "\n",
        "def node2(state:State) -> State:\n",
        "  print('Node 2', state)\n",
        "  return {'graph_state': state['graph_state'] + 'happy!'}\n",
        "\n",
        "def node3(state:State) -> State:\n",
        "  print('Node 3', state)\n",
        "  return {'graph_state' : state['graph_state'] + 'sad'}"
      ],
      "metadata": {
        "id": "btSjFSmVRNds"
      },
      "execution_count": 65,
      "outputs": []
    },
    {
      "cell_type": "markdown",
      "source": [
        "### Edges\n"
      ],
      "metadata": {
        "id": "Sywc2OtJSfMo"
      }
    },
    {
      "cell_type": "code",
      "source": [
        "import random\n",
        "from typing import Literal\n",
        "\n",
        "def decision_node(state) -> Literal['node2', 'node3']:\n",
        "  user_input = state['graph_state']\n",
        "\n",
        "  if random.random() < 0.5:\n",
        "    return 'node2'\n",
        "\n",
        "  return 'node3'"
      ],
      "metadata": {
        "id": "LK2KdmF_Sgfs"
      },
      "execution_count": 69,
      "outputs": []
    },
    {
      "cell_type": "markdown",
      "source": [
        "### Graph Construction\n"
      ],
      "metadata": {
        "id": "dPWYAPnDTRDx"
      }
    },
    {
      "cell_type": "code",
      "source": [
        "from IPython.display import Image, display\n",
        "from langgraph.graph import StateGraph , START, END\n",
        "\n",
        "#build\n",
        "builder = StateGraph(State)\n",
        "builder.add_node('node1', node1)\n",
        "builder.add_node('node2', node2)\n",
        "builder.add_node('node3', node3)\n",
        "\n",
        "#add decision node\n",
        "builder.add_edge(START, 'node1')\n",
        "builder.add_conditional_edges('node1', decision_node)\n",
        "builder.add_edge('node2', END)\n",
        "builder.add_edge('node3', END)\n",
        "\n",
        "#add\n",
        "graph = builder.compile()\n",
        "\n",
        "display(Image(graph.get_graph().draw_mermaid_png()))"
      ],
      "metadata": {
        "colab": {
          "base_uri": "https://localhost:8080/",
          "height": 350
        },
        "id": "p0_65dAXTSGy",
        "outputId": "0db0c843-f96c-4fbe-ecde-cab129b50f3d"
      },
      "execution_count": 70,
      "outputs": [
        {
          "output_type": "display_data",
          "data": {
            "image/png": "[encoded data removed]",
            "text/plain": [
              "<IPython.core.display.Image object>"
            ]
          },
          "metadata": {}
        }
      ]
    },
    {
      "cell_type": "code",
      "source": [
        "graph.invoke({\"graph_state\": \"Hey, I am Zeeshan.\"})"
      ],
      "metadata": {
        "colab": {
          "base_uri": "https://localhost:8080/"
        },
        "id": "raCTnhN_UYRz",
        "outputId": "9590cde3-369f-4e09-9a33-7f7d175d91a9"
      },
      "execution_count": 78,
      "outputs": [
        {
          "output_type": "stream",
          "name": "stdout",
          "text": [
            "---Node 1 {'graph_state': 'Hey, I am Zeeshan.'}\n",
            "Node 2 {'graph_state': 'Hey, I am Zeeshan.I am '}\n"
          ]
        },
        {
          "output_type": "execute_result",
          "data": {
            "text/plain": [
              "{'graph_state': 'Hey, I am Zeeshan.I am happy!'}"
            ]
          },
          "metadata": {},
          "execution_count": 78
        }
      ]
    },
    {
      "cell_type": "markdown",
      "source": [
        "## 3.LLM Graph"
      ],
      "metadata": {
        "id": "7Xg8cZluafrN"
      }
    },
    {
      "cell_type": "code",
      "source": [
        "from typing_extensions import TypedDict\n",
        "\n",
        "class LLMState(TypedDict):\n",
        "  prompt : str\n",
        "  output : str"
      ],
      "metadata": {
        "id": "p3Zb6jHAamuY"
      },
      "execution_count": 79,
      "outputs": []
    },
    {
      "cell_type": "markdown",
      "source": [
        "### Node"
      ],
      "metadata": {
        "id": "ELiUrS4Icyb6"
      }
    },
    {
      "cell_type": "code",
      "source": [
        "def llm_node(state: LLMState):\n",
        "  print('Node1', state)\n",
        "  prompt = state['prompt']\n",
        "  ai_msg: AIMessage = llm.invoke(prompt)\n",
        "  return {'output': ai_msg.content}"
      ],
      "metadata": {
        "id": "JgrakDqpa-CS"
      },
      "execution_count": 80,
      "outputs": []
    },
    {
      "cell_type": "code",
      "source": [
        "greet_message = llm_node(LLMState(prompt = 'hello, i am zeeshan'))\n",
        "print(greet_message)"
      ],
      "metadata": {
        "colab": {
          "base_uri": "https://localhost:8080/"
        },
        "id": "ep4gDX7rbgAK",
        "outputId": "f8aa30da-09e3-4ce4-a095-cbe697d96b53"
      },
      "execution_count": 82,
      "outputs": [
        {
          "output_type": "stream",
          "name": "stdout",
          "text": [
            "Node1 {'prompt': 'hello, i am zeeshan'}\n",
            "{'output': \"Hello Zeeshan! It's nice to meet you. Is there something I can help you with or would you like to chat?\"}\n"
          ]
        }
      ]
    },
    {
      "cell_type": "markdown",
      "source": [
        "### Graph Build"
      ],
      "metadata": {
        "id": "Vl4wbhjcc4K1"
      }
    },
    {
      "cell_type": "code",
      "source": [
        "from IPython.display import Image, display\n",
        "from langgraph.graph import StateGraph, START , END\n",
        "from langgraph.graph.state import CompiledStateGraph\n",
        "\n",
        "# build\n",
        "builder = StateGraph(LLMState)\n",
        "builder.add_node('llm_node', llm_node)\n",
        "\n",
        "# add\n",
        "builder.add_edge(START, 'llm_node')\n",
        "builder.add_edge('llm_node', END)\n",
        "\n",
        "#compile\n",
        "graph = builder.compile()\n",
        "\n",
        "display(Image(graph.get_graph().draw_mermaid_png()))"
      ],
      "metadata": {
        "colab": {
          "base_uri": "https://localhost:8080/",
          "height": 251
        },
        "id": "kLvPVOOTb1Mj",
        "outputId": "6f847fa7-5bf3-45ec-eefa-84037d4efdf3"
      },
      "execution_count": 84,
      "outputs": [
        {
          "output_type": "display_data",
          "data": {
            "image/png": "[encoded data removed]",
            "text/plain": [
              "<IPython.core.display.Image object>"
            ]
          },
          "metadata": {}
        }
      ]
    },
    {
      "cell_type": "markdown",
      "source": [
        "### Invoke"
      ],
      "metadata": {
        "id": "qvwp5s51c9mI"
      }
    },
    {
      "cell_type": "code",
      "source": [
        "result = graph.invoke({'prompt': 'what is ai?'})"
      ],
      "metadata": {
        "colab": {
          "base_uri": "https://localhost:8080/"
        },
        "id": "uMOfN_oXcNMn",
        "outputId": "a409ebe6-ba38-4d32-f198-255a98f1875e"
      },
      "execution_count": 85,
      "outputs": [
        {
          "output_type": "stream",
          "name": "stdout",
          "text": [
            "Node1 {'prompt': 'what is ai?'}\n"
          ]
        }
      ]
    },
    {
      "cell_type": "code",
      "source": [
        "result"
      ],
      "metadata": {
        "colab": {
          "base_uri": "https://localhost:8080/"
        },
        "id": "UqEGxRQWcTb4",
        "outputId": "59cb4ff7-abb5-429c-a14f-87f7dc84621a"
      },
      "execution_count": 86,
      "outputs": [
        {
          "output_type": "execute_result",
          "data": {
            "text/plain": [
              "{'prompt': 'what is ai?',\n",
              " 'output': 'Artificial Intelligence (AI) refers to the development of computer systems that can perform tasks that would typically require human intelligence, such as:\\n\\n1. **Learning**: AI systems can learn from data, experiences, and interactions, enabling them to improve their performance over time.\\n2. **Problem-solving**: AI systems can analyze problems, identify patterns, and make decisions or recommendations based on that analysis.\\n3. **Reasoning**: AI systems can draw inferences, make logical connections, and arrive at conclusions based on available data.\\n4. **Perception**: AI systems can interpret and understand data from sensors, such as images, speech, and text.\\n\\nThe primary goals of AI are to:\\n\\n1. **Mimic human intelligence**: Create systems that can think, learn, and behave like humans.\\n2. **Augment human capabilities**: Develop systems that can assist humans in various tasks, making them more efficient and effective.\\n3. **Automate tasks**: Create systems that can perform tasks autonomously, without human intervention.\\n\\nAI has many applications across various industries, including:\\n\\n1. **Virtual assistants** (e.g., Siri, Alexa)\\n2. **Image and speech recognition** (e.g., facial recognition, voice assistants)\\n3. **Natural Language Processing** (e.g., chatbots, language translation)\\n4. **Predictive analytics** (e.g., forecasting, recommendation systems)\\n5. **Robotics** (e.g., autonomous vehicles, industrial robots)\\n6. **Healthcare** (e.g., medical diagnosis, personalized medicine)\\n7. **Finance** (e.g., trading, risk management)\\n\\nThere are several types of AI, including:\\n\\n1. **Narrow or Weak AI**: Designed to perform a specific task, such as image recognition or language translation.\\n2. **General or Strong AI**: Aims to create a system that can perform any intellectual task that a human can.\\n3. **Superintelligence**: A hypothetical AI system that is significantly more intelligent than the best human minds.\\n\\nAs AI continues to evolve, it has the potential to transform many aspects of our lives, from how we work and communicate to how we live and interact with the world around us.'}"
            ]
          },
          "metadata": {},
          "execution_count": 86
        }
      ]
    },
    {
      "cell_type": "code",
      "source": [
        "# just another helpter function\n",
        "import textwrap\n",
        "from IPython.display import display, Markdown\n",
        "\n",
        "def to_markdown(text)-> Markdown:\n",
        "    text : str = text.replace(\"•\", \"  *\")\n",
        "    return Markdown(textwrap.indent(text, \"> \", predicate=lambda _: True))"
      ],
      "metadata": {
        "id": "C-LzqKpLcXZ5"
      },
      "execution_count": 87,
      "outputs": []
    },
    {
      "cell_type": "code",
      "source": [
        "print(\"PROMPT: \", result['prompt'])\n",
        "to_markdown(result['output'])"
      ],
      "metadata": {
        "colab": {
          "base_uri": "https://localhost:8080/",
          "height": 591
        },
        "id": "TQ0WqH-hcXtO",
        "outputId": "704e9555-14e2-40c6-fbed-9bb9248b864f"
      },
      "execution_count": 88,
      "outputs": [
        {
          "output_type": "stream",
          "name": "stdout",
          "text": [
            "PROMPT:  what is ai?\n"
          ]
        },
        {
          "output_type": "execute_result",
          "data": {
            "text/plain": [
              "<IPython.core.display.Markdown object>"
            ],
            "text/markdown": "> Artificial Intelligence (AI) refers to the development of computer systems that can perform tasks that would typically require human intelligence, such as:\n> \n> 1. **Learning**: AI systems can learn from data, experiences, and interactions, enabling them to improve their performance over time.\n> 2. **Problem-solving**: AI systems can analyze problems, identify patterns, and make decisions or recommendations based on that analysis.\n> 3. **Reasoning**: AI systems can draw inferences, make logical connections, and arrive at conclusions based on available data.\n> 4. **Perception**: AI systems can interpret and understand data from sensors, such as images, speech, and text.\n> \n> The primary goals of AI are to:\n> \n> 1. **Mimic human intelligence**: Create systems that can think, learn, and behave like humans.\n> 2. **Augment human capabilities**: Develop systems that can assist humans in various tasks, making them more efficient and effective.\n> 3. **Automate tasks**: Create systems that can perform tasks autonomously, without human intervention.\n> \n> AI has many applications across various industries, including:\n> \n> 1. **Virtual assistants** (e.g., Siri, Alexa)\n> 2. **Image and speech recognition** (e.g., facial recognition, voice assistants)\n> 3. **Natural Language Processing** (e.g., chatbots, language translation)\n> 4. **Predictive analytics** (e.g., forecasting, recommendation systems)\n> 5. **Robotics** (e.g., autonomous vehicles, industrial robots)\n> 6. **Healthcare** (e.g., medical diagnosis, personalized medicine)\n> 7. **Finance** (e.g., trading, risk management)\n> \n> There are several types of AI, including:\n> \n> 1. **Narrow or Weak AI**: Designed to perform a specific task, such as image recognition or language translation.\n> 2. **General or Strong AI**: Aims to create a system that can perform any intellectual task that a human can.\n> 3. **Superintelligence**: A hypothetical AI system that is significantly more intelligent than the best human minds.\n> \n> As AI continues to evolve, it has the potential to transform many aspects of our lives, from how we work and communicate to how we live and interact with the world around us."
          },
          "metadata": {},
          "execution_count": 88
        }
      ]
    }
  ],
  "metadata": {
    "colab": {
      "provenance": [],
      "authorship_tag": "ABX9TyMgABsa3vxQSw96B3GlqJGd"
    },
    "kernelspec": {
      "display_name": "Python 3",
      "name": "python3"
    },
    "language_info": {
      "name": "python"
    }
  },
  "nbformat": 4,
  "nbformat_minor": 0
}